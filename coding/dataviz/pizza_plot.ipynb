{
 "metadata": {
  "language_info": {
   "codemirror_mode": {
    "name": "ipython",
    "version": 3
   },
   "file_extension": ".py",
   "mimetype": "text/x-python",
   "name": "python",
   "nbconvert_exporter": "python",
   "pygments_lexer": "ipython3",
   "version": "3.9.0"
  },
  "orig_nbformat": 2,
  "kernelspec": {
   "name": "python390jvsc74a57bd06f63aac4862f49defdc0ab97c706aeed6401f5109f2f5eb8ddfd96c2030351e5",
   "display_name": "Python 3.9.0 64-bit"
  },
  "metadata": {
   "interpreter": {
    "hash": "6f63aac4862f49defdc0ab97c706aeed6401f5109f2f5eb8ddfd96c2030351e5"
   }
  }
 },
 "nbformat": 4,
 "nbformat_minor": 2,
 "cells": [
  {
   "source": [
    "## Imports "
   ],
   "cell_type": "markdown",
   "metadata": {}
  },
  {
   "cell_type": "code",
   "execution_count": 1,
   "metadata": {},
   "outputs": [],
   "source": [
    "import pandas as pd \n",
    "import numpy as np \n",
    "\n",
    "from scipy import stats\n",
    "import math \n",
    "\n",
    "from mplsoccer import PyPizza, add_image, FontManager\n",
    "import matplotlib.pyplot as plt "
   ]
  },
  {
   "source": [
    "## Retrieve data including 30 of the best wingers in Europe"
   ],
   "cell_type": "markdown",
   "metadata": {}
  },
  {
   "cell_type": "code",
   "execution_count": 3,
   "metadata": {},
   "outputs": [],
   "source": [
    "df = pd.read_csv(\"../../data/top_forwards_europe/stats_per90.csv\")"
   ]
  },
  {
   "cell_type": "code",
   "execution_count": 8,
   "metadata": {},
   "outputs": [
    {
     "output_type": "execute_result",
     "data": {
      "text/plain": [
       "(30, 46)"
      ]
     },
     "metadata": {},
     "execution_count": 8
    }
   ],
   "source": [
    "df.shape"
   ]
  },
  {
   "source": [
    "## Clean the data"
   ],
   "cell_type": "markdown",
   "metadata": {}
  },
  {
   "cell_type": "code",
   "execution_count": 5,
   "metadata": {},
   "outputs": [],
   "source": [
    "df['Player'] = df['Player'].str.split('\\\\',expand=True)[0]"
   ]
  },
  {
   "cell_type": "code",
   "execution_count": 6,
   "metadata": {},
   "outputs": [
    {
     "output_type": "execute_result",
     "data": {
      "text/plain": [
       "              Player     Span Pos      Squad  MP  Starts   Min   90s   Gls  \\\n",
       "0      Son Heung-min  2020-21  FW  Tottenham  37      36  3114  34.6  0.49   \n",
       "1         Sadio Man�  2020-21  FW  Liverpool  35      31  2810  31.2  0.35   \n",
       "2  Cristiano Ronaldo  2020-21  FW   Juventus  33      31  2802  31.1  0.93   \n",
       "3      Mohamed Salah  2020-21  FW  Liverpool  37      34  3078  34.2  0.64   \n",
       "4      Kylian Mbapp�  2020-21  FW  Paris S-G  31      27  2380  26.4  1.02   \n",
       "\n",
       "    Ast  ...  PassDead.1  Drib.1  Touches  Mid 3rd  Att 3rd  Att Pen  Succ%  \\\n",
       "0  0.29  ...        0.06    0.06     44.5     19.0     23.5     4.13   62.3   \n",
       "1  0.22  ...        0.00    0.00     51.0     19.4     32.6     9.07   59.2   \n",
       "2  0.06  ...        0.00    0.10     47.0     21.7     27.2     6.85   64.4   \n",
       "3  0.15  ...        0.00    0.00     51.4     18.2     33.9     9.15   50.5   \n",
       "4  0.26  ...        0.00    0.27     54.6     18.7     38.7    10.50   46.6   \n",
       "\n",
       "   TotDist.1  PrgDist.1   CPA  \n",
       "0      164.9       85.0  0.95  \n",
       "1      219.0      123.3  1.73  \n",
       "2      207.1      134.7  1.90  \n",
       "3      184.7      100.9  1.58  \n",
       "4      241.9      163.4  2.61  \n",
       "\n",
       "[5 rows x 46 columns]"
      ],
      "text/html": "<div>\n<style scoped>\n    .dataframe tbody tr th:only-of-type {\n        vertical-align: middle;\n    }\n\n    .dataframe tbody tr th {\n        vertical-align: top;\n    }\n\n    .dataframe thead th {\n        text-align: right;\n    }\n</style>\n<table border=\"1\" class=\"dataframe\">\n  <thead>\n    <tr style=\"text-align: right;\">\n      <th></th>\n      <th>Player</th>\n      <th>Span</th>\n      <th>Pos</th>\n      <th>Squad</th>\n      <th>MP</th>\n      <th>Starts</th>\n      <th>Min</th>\n      <th>90s</th>\n      <th>Gls</th>\n      <th>Ast</th>\n      <th>...</th>\n      <th>PassDead.1</th>\n      <th>Drib.1</th>\n      <th>Touches</th>\n      <th>Mid 3rd</th>\n      <th>Att 3rd</th>\n      <th>Att Pen</th>\n      <th>Succ%</th>\n      <th>TotDist.1</th>\n      <th>PrgDist.1</th>\n      <th>CPA</th>\n    </tr>\n  </thead>\n  <tbody>\n    <tr>\n      <th>0</th>\n      <td>Son Heung-min</td>\n      <td>2020-21</td>\n      <td>FW</td>\n      <td>Tottenham</td>\n      <td>37</td>\n      <td>36</td>\n      <td>3114</td>\n      <td>34.6</td>\n      <td>0.49</td>\n      <td>0.29</td>\n      <td>...</td>\n      <td>0.06</td>\n      <td>0.06</td>\n      <td>44.5</td>\n      <td>19.0</td>\n      <td>23.5</td>\n      <td>4.13</td>\n      <td>62.3</td>\n      <td>164.9</td>\n      <td>85.0</td>\n      <td>0.95</td>\n    </tr>\n    <tr>\n      <th>1</th>\n      <td>Sadio Man�</td>\n      <td>2020-21</td>\n      <td>FW</td>\n      <td>Liverpool</td>\n      <td>35</td>\n      <td>31</td>\n      <td>2810</td>\n      <td>31.2</td>\n      <td>0.35</td>\n      <td>0.22</td>\n      <td>...</td>\n      <td>0.00</td>\n      <td>0.00</td>\n      <td>51.0</td>\n      <td>19.4</td>\n      <td>32.6</td>\n      <td>9.07</td>\n      <td>59.2</td>\n      <td>219.0</td>\n      <td>123.3</td>\n      <td>1.73</td>\n    </tr>\n    <tr>\n      <th>2</th>\n      <td>Cristiano Ronaldo</td>\n      <td>2020-21</td>\n      <td>FW</td>\n      <td>Juventus</td>\n      <td>33</td>\n      <td>31</td>\n      <td>2802</td>\n      <td>31.1</td>\n      <td>0.93</td>\n      <td>0.06</td>\n      <td>...</td>\n      <td>0.00</td>\n      <td>0.10</td>\n      <td>47.0</td>\n      <td>21.7</td>\n      <td>27.2</td>\n      <td>6.85</td>\n      <td>64.4</td>\n      <td>207.1</td>\n      <td>134.7</td>\n      <td>1.90</td>\n    </tr>\n    <tr>\n      <th>3</th>\n      <td>Mohamed Salah</td>\n      <td>2020-21</td>\n      <td>FW</td>\n      <td>Liverpool</td>\n      <td>37</td>\n      <td>34</td>\n      <td>3078</td>\n      <td>34.2</td>\n      <td>0.64</td>\n      <td>0.15</td>\n      <td>...</td>\n      <td>0.00</td>\n      <td>0.00</td>\n      <td>51.4</td>\n      <td>18.2</td>\n      <td>33.9</td>\n      <td>9.15</td>\n      <td>50.5</td>\n      <td>184.7</td>\n      <td>100.9</td>\n      <td>1.58</td>\n    </tr>\n    <tr>\n      <th>4</th>\n      <td>Kylian Mbapp�</td>\n      <td>2020-21</td>\n      <td>FW</td>\n      <td>Paris S-G</td>\n      <td>31</td>\n      <td>27</td>\n      <td>2380</td>\n      <td>26.4</td>\n      <td>1.02</td>\n      <td>0.26</td>\n      <td>...</td>\n      <td>0.00</td>\n      <td>0.27</td>\n      <td>54.6</td>\n      <td>18.7</td>\n      <td>38.7</td>\n      <td>10.50</td>\n      <td>46.6</td>\n      <td>241.9</td>\n      <td>163.4</td>\n      <td>2.61</td>\n    </tr>\n  </tbody>\n</table>\n<p>5 rows × 46 columns</p>\n</div>"
     },
     "metadata": {},
     "execution_count": 6
    }
   ],
   "source": [
    "df.head()"
   ]
  },
  {
   "source": [
    "## Load some fonts"
   ],
   "cell_type": "markdown",
   "metadata": {}
  },
  {
   "cell_type": "code",
   "execution_count": 9,
   "metadata": {},
   "outputs": [],
   "source": [
    "font_normal = FontManager((\"https://github.com/google/fonts/blob/main/apache/roboto/static/\"\n",
    "                           \"Roboto-Regular.ttf?raw=true\"))\n",
    "font_italic = FontManager((\"https://github.com/google/fonts/blob/main/apache/roboto/static/\"\n",
    "                           \"Roboto-Italic.ttf?raw=true\"))\n",
    "font_bold = FontManager((\"https://github.com/google/fonts/blob/main/apache/roboto/static/\"\n",
    "                         \"Roboto-Medium.ttf?raw=true\"))"
   ]
  },
  {
   "source": [
    "## Select some columns"
   ],
   "cell_type": "markdown",
   "metadata": {}
  },
  {
   "cell_type": "code",
   "execution_count": 11,
   "metadata": {},
   "outputs": [
    {
     "output_type": "execute_result",
     "data": {
      "text/plain": [
       "Index(['Player', 'Span', 'Pos', 'Squad', 'MP', 'Starts', 'Min', '90s', 'Gls',\n",
       "       'Ast', 'G+A', 'G-PK', 'G+A-PK', 'Sh', 'SoT', 'SoT%', 'Sh/90', 'SoT/90',\n",
       "       'G/Sh', 'G/SoT', 'PassesCmp', 'PassesAtt', 'PassesCmp%', 'TotDist',\n",
       "       'PrgDist', 'KP', '1/3', 'PPA', 'CrsPA', 'Prog', 'SCA', 'PassLive',\n",
       "       'PassDead', 'Drib', 'GCA', 'PassLive.1', 'PassDead.1', 'Drib.1',\n",
       "       'Touches', 'Mid 3rd', 'Att 3rd', 'Att Pen', 'Succ%', 'TotDist.1',\n",
       "       'PrgDist.1', 'CPA'],\n",
       "      dtype='object')"
      ]
     },
     "metadata": {},
     "execution_count": 11
    }
   ],
   "source": [
    "df.columns"
   ]
  },
  {
   "cell_type": "code",
   "execution_count": null,
   "metadata": {},
   "outputs": [],
   "source": [
    "params = [\"Gls\",'SoT','SoT%', 'G/Sh',\"Ast\",'PassesCom%','KP', 'SCA', 'GCA', 'Touches', 'Succ%']"
   ]
  }
 ]
}