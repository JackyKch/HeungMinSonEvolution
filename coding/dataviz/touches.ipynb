{
 "metadata": {
  "language_info": {
   "codemirror_mode": {
    "name": "ipython",
    "version": 3
   },
   "file_extension": ".py",
   "mimetype": "text/x-python",
   "name": "python",
   "nbconvert_exporter": "python",
   "pygments_lexer": "ipython3",
   "version": "3.9.0"
  },
  "orig_nbformat": 2,
  "kernelspec": {
   "name": "python390jvsc74a57bd06f63aac4862f49defdc0ab97c706aeed6401f5109f2f5eb8ddfd96c2030351e5",
   "display_name": "Python 3.9.0 64-bit ('Python39')"
  },
  "metadata": {
   "interpreter": {
    "hash": "6f63aac4862f49defdc0ab97c706aeed6401f5109f2f5eb8ddfd96c2030351e5"
   }
  }
 },
 "nbformat": 4,
 "nbformat_minor": 2,
 "cells": [
  {
   "source": [
    "## Import"
   ],
   "cell_type": "markdown",
   "metadata": {}
  },
  {
   "cell_type": "code",
   "execution_count": 5,
   "metadata": {},
   "outputs": [
    {
     "output_type": "stream",
     "name": "stderr",
     "text": [
      "\n",
      "\n",
      "====== WebDriver manager ======\n",
      "Current google-chrome version is 91.0.4472\n",
      "Get LATEST driver version for 91.0.4472\n",
      "Driver [C:\\Users\\jacky\\.wdm\\drivers\\chromedriver\\win32\\91.0.4472.19\\chromedriver.exe] found in cache\n"
     ]
    }
   ],
   "source": [
    "from selenium import webdriver\n",
    "import json\n",
    "from webdriver_manager.chrome import ChromeDriverManager"
   ]
  },
  {
   "source": [
    "## Install driver and get to WhoScored for one game"
   ],
   "cell_type": "markdown",
   "metadata": {}
  },
  {
   "cell_type": "code",
   "execution_count": 6,
   "metadata": {},
   "outputs": [
    {
     "output_type": "stream",
     "name": "stderr",
     "text": [
      "\n",
      "\n",
      "====== WebDriver manager ======\n",
      "Current google-chrome version is 91.0.4472\n",
      "Get LATEST driver version for 91.0.4472\n",
      "Driver [C:\\Users\\jacky\\.wdm\\drivers\\chromedriver\\win32\\91.0.4472.19\\chromedriver.exe] found in cache\n"
     ]
    }
   ],
   "source": [
    "driver = webdriver.Chrome(ChromeDriverManager().install())\n",
    "\n",
    "driver.get('https://www.whoscored.com/Matches/1485558/Live/England-Premier-League-2020-2021-Leicester-Tottenham')"
   ]
  },
  {
   "source": [
    "## Accept cookies"
   ],
   "cell_type": "markdown",
   "metadata": {}
  },
  {
   "cell_type": "code",
   "execution_count": 7,
   "metadata": {},
   "outputs": [],
   "source": [
    "driver.find_element_by_xpath('//*[@id=\"qc-cmp2-ui\"]/div[2]/div/button[2]').click()"
   ]
  },
  {
   "source": [
    "## Retrieve data from the JS query"
   ],
   "cell_type": "markdown",
   "metadata": {}
  },
  {
   "cell_type": "code",
   "execution_count": 22,
   "metadata": {},
   "outputs": [
    {
     "output_type": "error",
     "ename": "JavascriptException",
     "evalue": "Message: javascript error: Unexpected token '['\n  (Session info: chrome=91.0.4472.77)\n",
     "traceback": [
      "\u001b[1;31m---------------------------------------------------------------------------\u001b[0m",
      "\u001b[1;31mJavascriptException\u001b[0m                       Traceback (most recent call last)",
      "\u001b[1;32m<ipython-input-22-54c3e78b86b7>\u001b[0m in \u001b[0;36m<module>\u001b[1;34m\u001b[0m\n\u001b[1;32m----> 1\u001b[1;33m \u001b[0mdata\u001b[0m \u001b[1;33m=\u001b[0m \u001b[0mdriver\u001b[0m\u001b[1;33m.\u001b[0m\u001b[0mexecute_script\u001b[0m\u001b[1;33m(\u001b[0m\u001b[1;34m\"return require.config.[params=matchCentreData];\"\u001b[0m\u001b[1;33m)\u001b[0m\u001b[1;33m\u001b[0m\u001b[1;33m\u001b[0m\u001b[0m\n\u001b[0m",
      "\u001b[1;32m~\\AppData\\Local\\Programs\\Python\\Python39\\lib\\site-packages\\selenium\\webdriver\\remote\\webdriver.py\u001b[0m in \u001b[0;36mexecute_script\u001b[1;34m(self, script, *args)\u001b[0m\n\u001b[0;32m    632\u001b[0m             \u001b[0mcommand\u001b[0m \u001b[1;33m=\u001b[0m \u001b[0mCommand\u001b[0m\u001b[1;33m.\u001b[0m\u001b[0mEXECUTE_SCRIPT\u001b[0m\u001b[1;33m\u001b[0m\u001b[1;33m\u001b[0m\u001b[0m\n\u001b[0;32m    633\u001b[0m \u001b[1;33m\u001b[0m\u001b[0m\n\u001b[1;32m--> 634\u001b[1;33m         return self.execute(command, {\n\u001b[0m\u001b[0;32m    635\u001b[0m             \u001b[1;34m'script'\u001b[0m\u001b[1;33m:\u001b[0m \u001b[0mscript\u001b[0m\u001b[1;33m,\u001b[0m\u001b[1;33m\u001b[0m\u001b[1;33m\u001b[0m\u001b[0m\n\u001b[0;32m    636\u001b[0m             'args': converted_args})['value']\n",
      "\u001b[1;32m~\\AppData\\Local\\Programs\\Python\\Python39\\lib\\site-packages\\selenium\\webdriver\\remote\\webdriver.py\u001b[0m in \u001b[0;36mexecute\u001b[1;34m(self, driver_command, params)\u001b[0m\n\u001b[0;32m    319\u001b[0m         \u001b[0mresponse\u001b[0m \u001b[1;33m=\u001b[0m \u001b[0mself\u001b[0m\u001b[1;33m.\u001b[0m\u001b[0mcommand_executor\u001b[0m\u001b[1;33m.\u001b[0m\u001b[0mexecute\u001b[0m\u001b[1;33m(\u001b[0m\u001b[0mdriver_command\u001b[0m\u001b[1;33m,\u001b[0m \u001b[0mparams\u001b[0m\u001b[1;33m)\u001b[0m\u001b[1;33m\u001b[0m\u001b[1;33m\u001b[0m\u001b[0m\n\u001b[0;32m    320\u001b[0m         \u001b[1;32mif\u001b[0m \u001b[0mresponse\u001b[0m\u001b[1;33m:\u001b[0m\u001b[1;33m\u001b[0m\u001b[1;33m\u001b[0m\u001b[0m\n\u001b[1;32m--> 321\u001b[1;33m             \u001b[0mself\u001b[0m\u001b[1;33m.\u001b[0m\u001b[0merror_handler\u001b[0m\u001b[1;33m.\u001b[0m\u001b[0mcheck_response\u001b[0m\u001b[1;33m(\u001b[0m\u001b[0mresponse\u001b[0m\u001b[1;33m)\u001b[0m\u001b[1;33m\u001b[0m\u001b[1;33m\u001b[0m\u001b[0m\n\u001b[0m\u001b[0;32m    322\u001b[0m             response['value'] = self._unwrap_value(\n\u001b[0;32m    323\u001b[0m                 response.get('value', None))\n",
      "\u001b[1;32m~\\AppData\\Local\\Programs\\Python\\Python39\\lib\\site-packages\\selenium\\webdriver\\remote\\errorhandler.py\u001b[0m in \u001b[0;36mcheck_response\u001b[1;34m(self, response)\u001b[0m\n\u001b[0;32m    240\u001b[0m                 \u001b[0malert_text\u001b[0m \u001b[1;33m=\u001b[0m \u001b[0mvalue\u001b[0m\u001b[1;33m[\u001b[0m\u001b[1;34m'alert'\u001b[0m\u001b[1;33m]\u001b[0m\u001b[1;33m.\u001b[0m\u001b[0mget\u001b[0m\u001b[1;33m(\u001b[0m\u001b[1;34m'text'\u001b[0m\u001b[1;33m)\u001b[0m\u001b[1;33m\u001b[0m\u001b[1;33m\u001b[0m\u001b[0m\n\u001b[0;32m    241\u001b[0m             \u001b[1;32mraise\u001b[0m \u001b[0mexception_class\u001b[0m\u001b[1;33m(\u001b[0m\u001b[0mmessage\u001b[0m\u001b[1;33m,\u001b[0m \u001b[0mscreen\u001b[0m\u001b[1;33m,\u001b[0m \u001b[0mstacktrace\u001b[0m\u001b[1;33m,\u001b[0m \u001b[0malert_text\u001b[0m\u001b[1;33m)\u001b[0m\u001b[1;33m\u001b[0m\u001b[1;33m\u001b[0m\u001b[0m\n\u001b[1;32m--> 242\u001b[1;33m         \u001b[1;32mraise\u001b[0m \u001b[0mexception_class\u001b[0m\u001b[1;33m(\u001b[0m\u001b[0mmessage\u001b[0m\u001b[1;33m,\u001b[0m \u001b[0mscreen\u001b[0m\u001b[1;33m,\u001b[0m \u001b[0mstacktrace\u001b[0m\u001b[1;33m)\u001b[0m\u001b[1;33m\u001b[0m\u001b[1;33m\u001b[0m\u001b[0m\n\u001b[0m\u001b[0;32m    243\u001b[0m \u001b[1;33m\u001b[0m\u001b[0m\n\u001b[0;32m    244\u001b[0m     \u001b[1;32mdef\u001b[0m \u001b[0m_value_or_default\u001b[0m\u001b[1;33m(\u001b[0m\u001b[0mself\u001b[0m\u001b[1;33m,\u001b[0m \u001b[0mobj\u001b[0m\u001b[1;33m,\u001b[0m \u001b[0mkey\u001b[0m\u001b[1;33m,\u001b[0m \u001b[0mdefault\u001b[0m\u001b[1;33m)\u001b[0m\u001b[1;33m:\u001b[0m\u001b[1;33m\u001b[0m\u001b[1;33m\u001b[0m\u001b[0m\n",
      "\u001b[1;31mJavascriptException\u001b[0m: Message: javascript error: Unexpected token '['\n  (Session info: chrome=91.0.4472.77)\n"
     ]
    }
   ],
   "source": [
    "data = driver.execute_script(\"return require.config.[params=matchCentreData];\")"
   ]
  },
  {
   "source": [
    "## Write in a json file the output of the query"
   ],
   "cell_type": "markdown",
   "metadata": {}
  },
  {
   "cell_type": "code",
   "execution_count": 18,
   "metadata": {},
   "outputs": [],
   "source": [
    "#match_report = driver.find_element_by_xpath('//*[@id=\"layout-wrapper\"]/script[1]')\n",
    "#data = driver.execute_script(\"arguments[0][2].click();\", match_report)\n",
    "\n",
    "with open('data.json', 'w', encoding='utf-8') as f:\n",
    "    json.dump(data, f, ensure_ascii=False, indent=4)\n",
    "       \n",
    "#driver.close()"
   ]
  },
  {
   "cell_type": "code",
   "execution_count": null,
   "metadata": {},
   "outputs": [],
   "source": [
    "\n",
    "        require.config.params[\"args\"] = {\n",
    "            matchId:1485558,\n",
    "            matchCentreData: {\"playerIdNameDictionary\":{\"12431\":\"Christian Fuchs\",\"106413\":\"Dennis Praet\",\"141169\":\"Timothy Castagne\",\"136345\":\"Youri Tielemans\",\"19545\":\"Kasper Schmeichel\",\"90278\":\"Nampalys Mendy\",\"373946\":\"Wesley Fofana\",\"243552\":\"Daniel Amartey\",\"8157\":\"Wes Morgan\",\"327683\":\"Wilfred Ndidi\",\"289253\":\"Kelechi Iheanacho\",\"120763\":\"Ricardo Pereira\",\"135366\":\"Ayoze Pérez\",\"317998\":\"Çaglar Söyüncü\",\"137015\":\"James Maddison\",\"312670\":\"Hamza Choudhury\",\"106981\":\"Jamie Vardy\",\"42147\":\"Marc Albrighton\",\"99165\":\"Danny Ward\",\"396317\":\"Luke Thomas\",\"75830\":\"Erik Lamela\",\"69933\":\"Toby Alderweireld\",\"363077\":\"Carlos Vinícius\",\"92508\":\"Lucas Moura\",\"322655\":\"Davinson Sánchez\",\"101859\":\"Pierre-Emile Højbjerg\",\"25604\":\"Hugo Lloris\",\"94042\":\"Matt Doherty\",\"279425\":\"Steven Bergwijn\",\"362275\":\"Sergio Reguilón\",\"83532\":\"Harry Kane\",\"8786\":\"Joe Hart\",\"117973\":\"Eric Dier\",\"131519\":\"Dele Alli\",\"143990\":\"Harry Winks\",\"407154\":\"Dane Scarlett\",\"410795\":\"Nile John\",\"302312\":\"Joe Rodon\",\"13812\":\"Gareth Bale\",\"91909\":\"Son Heung-Min\"},\"periodMinuteLimits\":{\"1\":45,\"2\":90,\"3\":105,\"4\":120},\"timeStamp\":\"2021-05-24 01:31:08\",\"attendance\":8000,\"venueName\":\"King Power Stadium\",\"referee\":{\"officialId\":99,\"firstName\":\"Anthony\",\"lastName\":\"Taylor\",\"hasParticipatedMatches\":false,\"name\":\"Anthony Taylor\"},\"weatherCode\":\"\",\"elapsed\":\"FT\",\"startTime\":\"2021-05-23T16:00:00\",\"startDate\":\"2021-05-23T00:00:00\",\"score\":\"2 : 4\",\"htScore\":\"1 : 1\",\"ftScore\":\"2 : 4\",\"etScore\":\"\",\"pkScore\":\"\",\"statusCode\":6,\"periodCode\":7,\"home\":{\"teamId\":14,\"formations\":[{\"formationId\":2,\"formationName\":\"442\",\"captainPlayerId\":19545,\"period\":16,\"startMinuteExpanded\":0,\"endMinuteExpanded\":20,\"jerseyNumbers\":[1,27,33,25,3,4,11,8,9,14,10,5,12,17,18,20,21,24,26,28],\"formationSlots\":[1,2,3,4,5,6,7,8,9,10,11,0,0,0,0,0,0,0,0,0],\"playerIds\":[19545,141169,396317,327683,373946,317998,42147,136345,106981,289253,137015,8157,99165,135366,243552,312670,120763,90278,106413,12431],\"formationPositions\":[{\"vertical\":0.0,\"horizontal\":5.0},{\"vertical\":2.5,\"horizontal\":1.0},{\"vertical\":2.5,\"horizontal\":9.0},{\"vertical\":6.0,\"horizontal\":3.5},{\"vertical\":2.5,\"horizontal\":3.5},{\"vertical\":2.5,\"horizontal\":6.5},{\"vertical\":6.0,\"horizontal\":1.0},{\"vertical\":6.0,\"horizontal\":6.5},{\"vertical\":9.0,\"horizontal\":6.5},{\"vertical\":9.0,\"horizontal\":3.5},{\"vertical\":6.0,\"horizontal\":9.0}]},{\"formationId\":2,\"formationName\":\"442\",\"captainPlayerId\":19545,\"period\":1,\"startMinuteExpanded\":20,\"endMinuteExpanded\":64,\"jerseyNumbers\":[1,27,33,24,25,4,11,8,9,14,10,5,12,17,18,20,21,26,28],\"formationSlots\":[1,2,3,4,5,6,7,8,9,10,11,0,0,0,0,0,0,0,0],\"playerIds\":[19545,141169,396317,90278,327683,317998,42147,136345,106981,289253,137015,8157,99165,135366,243552,312670,120763,106413,12431],\"formationPositions\":[{\"vertical\":0.0,\"horizontal\":5.0},{\"vertical\":2.5,\"horizontal\":1.0},{\"vertical\":2.5,\"horizontal\":9.0},{\"vertical\":6.0,\"horizontal\":3.5},{\"vertical\":2.5,\"horizontal\":3.5},{\"vertical\":2.5,\"horizontal\":6.5},{\"vertical\":6.0,\"horizontal\":1.0},{\"vertical\":6.0,\"horizontal\":6.5},{\"vertical\":9.0,\"horizontal\":6.5},{\"vertical\":9.0,\"horizontal\":3.5},{\"vertical\":6.0,\"horizontal\":9.0}]},{\"formationId\":2,\"formationName\":\"442\",\"captainPlayerId\":19545,\"period\":1,\"startMinuteExpanded\":64,\"endMinuteExpanded\":82,\"jerseyNumbers\":[1,27,33,24,25,4,11,8,21,14,10,5,12,17,18,20,10,26,28],\"formationSlots\":[1,2,3,4,5,6,7,8,9,10,11,0,0,0,0,0,0,0,0],\"playerIds\":[19545,141169,396317,90278,327683,317998,42147,136345,120763,289253,137015,8157,99165,135366,243552,312670,137015,106413,12431],\"formationPositions\":[{\"vertical\":0.0,\"horizontal\":5.0},{\"vertical\":2.5,\"horizontal\":1.0},{\"vertical\":2.5,\"horizontal\":9.0},{\"vertical\":6.0,\"horizontal\":3.5},{\"vertical\":2.5,\"horizontal\":3.5},{\"vertical\":2.5,\"horizontal\":6.5},{\"vertical\":6.0,\"horizontal\":1.0},{\"vertical\":6.0,\"horizontal\":6.5},{\"vertical\":9.0,\"horizontal\":6.5},{\"vertical\":9.0,\"horizontal\":3.5},{\"vertical\":6.0,\"horizontal\":9.0}],\"subOnPlayerId\":120763,\"subOffPlayerId\":137015},{\"formationId\":18,\"formationName\":\"3412\",\"captainPlayerId\":19545,\"period\":2,\"startMinuteExpanded\":82,\"endMinuteExpanded\":96,\"jerseyNumbers\":[1,21,33,4,25,27,8,24,17,14,9,5,12,18,20,26,28],\"formationSlots\":[1,2,3,4,5,6,7,8,9,10,11,0,0,0,0,0,0],\"playerIds\":[19545,120763,396317,317998,327683,141169,136345,90278,135366,289253,106981,8157,99165,243552,312670,106413,12431],\"formationPositions\":[{\"vertical\":0.0,\"horizontal\":5.0},{\"vertical\":5.0,\"horizontal\":1.0},{\"vertical\":5.0,\"horizontal\":9.0},{\"vertical\":2.5,\"horizontal\":8.0},{\"vertical\":2.5,\"horizontal\":5.0},{\"vertical\":2.5,\"horizontal\":2.0},{\"vertical\":5.0,\"horizontal\":3.5},{\"vertical\":5.0,\"horizontal\":6.5},{\"vertical\":6.5,\"horizontal\":5.0},{\"vertical\":9.0,\"horizontal\":3.5},{\"vertical\":9.0,\"horizontal\":6.5}]}],\"stats\":{\"minutesWithStats\":[0,1,2,3,4,5,6,7,8,9,10,11,12,13,14,17,18,19,21,22,23,24,25,26,27,28,29,30,31,32,33,34,35,36,37,38,39,40,41,42,43,44,45,46,48,49,50,51,52,53,54,56,57,58,59,60,61,62,63,64,65,66,67,68,69,70,71,72,73,74,75,76,77,78,79,80,81,82,83,84,85,86,87,88,89,90,91,92,93,94,95,96,97,98,99],\"ratings\":{\"0\":5.99909090909091,\"1\":5.99636363636364,\"2\":6.02363636363636,\"3\":6.02090909090909,\"4\":6.01636363636364,\"5\":6.02818181818182,\"6\":6.03363636363636,\"7\":6.03545454545455,\"8\":6.08,\"9\":6.10909090909091,\"10\":6.11545454545455,\"11\":6.11545454545455,\"12\":6.14545454545454,\"13\":6.14,\"14\":6.17818181818182,\"17\":6.33454545454545,\"18\":6.34181818181818,\"19\":6.35272727272727,\"20\":6.34583333333333,\"21\":6.3425,\"22\":6.35583333333333,\"23\":6.35333333333333,\"24\":6.37416666666667,\"25\":6.3725,\"26\":6.38083333333333,\"27\":6.38583333333333,\"28\":6.39416666666667,\"29\":6.39583333333333,\"30\":6.39916666666667,\"31\":6.40083333333333,\"32\":6.39666666666667,\"33\":6.39416666666667,\"34\":6.3975,\"35\":6.46416666666667,\"36\":6.46666666666667,\"37\":6.48666666666667,\"38\":6.5025,\"39\":6.525,\"40\":6.42083333333333,\"41\":6.41583333333333,\"42\":6.4175,\"43\":6.4125,\"44\":6.42916666666667,\"45\":6.46583333333333,\"46\":6.46833333333333,\"48\":6.47166666666667,\"49\":6.47166666666667,\"50\":6.48166666666667,\"51\":6.48833333333333,\"52\":6.5125,\"53\":6.54416666666667,\"54\":6.68916666666667,\"56\":6.69416666666667,\"57\":6.70666666666667,\"58\":6.7225,\"59\":6.76166666666667,\"60\":6.7725,\"61\":6.78083333333333,\"62\":6.78916666666667,\"63\":6.79416666666667,\"64\":6.73230769230769,\"65\":6.74538461538461,\"66\":6.76230769230769,\"67\":6.75923076923077,\"68\":6.77692307692308,\"69\":6.77615384615385,\"71\":6.77615384615385,\"72\":6.78461538461538,\"73\":6.78384615384615,\"74\":6.79153846153846,\"75\":6.79769230769231,\"76\":6.79923076923077,\"77\":6.80615384615385,\"78\":6.66692307692308,\"79\":6.67538461538462,\"80\":6.70846153846154,\"81\":6.70846153846154,\"82\":6.66214285714286,\"83\":6.66928571428571,\"84\":6.69071428571428,\"85\":6.69642857142857,\"86\":6.70357142857143,\"87\":6.70285714285714,\"88\":6.70142857142857,\"89\":6.59428571428571,\"90\":6.59928571428571,\"91\":6.59642857142857,\"92\":6.61642857142857,\"93\":6.625,\"94\":6.62142857142857,\"95\":6.61785714285714,\"96\":6.62214285714286,\"97\":6.63214285714286,\"98\":6.52428571428571,\"99\":6.525},\"shotsTotal\":{\"8\":1.0,\"10\":1.0,\"17\":1.0,\"35\":1.0,\"44\":1.0,\"52\":1.0,\"54\":1.0,\"60\":1.0,\"86\":1.0,\"93\":1.0},\"shotsOnTarget\":{\"8\":1.0,\"17\":1.0,\"35\":1.0,\"52\":1.0,\"54\":1.0,\"60\":1.0},\"shotsOffTarget\":{\"86\":1.0,\"93\":1.0},\"shotsBlocked\":{\"10\":1.0,\"44\":1.0},\"clearances\":{\"24\":1.0,\"37\":1.0,\"46\":1.0,\"48\":1.0,\"56\":1.0,\"57\":2.0,\"59\":2.0,\"63\":1.0,\"76\":1.0,\"77\":2.0,\"78\":1.0},\"interceptions\":{\"2\":2.0,\"12\":1.0,\"22\":1.0,\"26\":1.0,\"28\":1.0,\"35\":1.0,\"37\":1.0,\"40\":1.0,\"58\":1.0,\"59\":1.0,\"62\":1.0,\"68\":1.0,\"75\":1.0,\"80\":1.0,\"82\":1.0,\"84\":1.0},\"possession\":{\"0\":3.0,\"1\":1.0,\"2\":7.0,\"3\":10.0,\"4\":7.0,\"5\":7.0,\"6\":19.0,\"7\":9.0,\"8\":10.0,\"9\":7.0,\"10\":2.0,\"11\":1.0,\"12\":3.0,\"13\":2.0,\"14\":12.0,\"18\":3.0,\"19\":5.0,\"21\":3.0,\"22\":8.0,\"23\":7.0,\"25\":1.0,\"26\":18.0,\"27\":2.0,\"28\":2.0,\"30\":11.0,\"31\":4.0,\"32\":1.0,\"33\":3.0,\"34\":15.0,\"35\":3.0,\"36\":1.0,\"37\":1.0,\"38\":5.0,\"39\":2.0,\"41\":4.0,\"42\":11.0,\"43\":4.0,\"44\":7.0,\"45\":5.0,\"46\":4.0,\"48\":4.0,\"49\":9.0,\"50\":6.0,\"51\":2.0,\"52\":7.0,\"53\":8.0,\"57\":2.0,\"58\":6.0,\"59\":5.0,\"60\":3.0,\"61\":3.0,\"62\":8.0,\"63\":9.0,\"65\":3.0,\"66\":8.0,\"67\":6.0,\"68\":5.0,\"69\":1.0,\"71\":4.0,\"72\":9.0,\"73\":5.0,\"74\":7.0,\"75\":8.0,\"76\":13.0,\"79\":4.0,\"80\":1.0,\"81\":2.0,\"82\":1.0,\"83\":10.0,\"84\":3.0,\"85\":4.0,\"86\":11.0,\"87\":4.0,\"88\":4.0,\"90\":9.0,\"91\":4.0,\"92\":2.0,\"93\":2.0,\"94\":9.0,\"95\":1.0,\"96\":7.0,\"97\":5.0,\"99\":7.0},\"touches\":{\"0\":3.0,\"1\":2.0,\"2\":12.0,\"3\":11.0,\"4\":9.0,\"5\":10.0,\"6\":19.0,\"7\":9.0,\"8\":13.0,\"9\":12.0,\"10\":3.0,\"11\":2.0,\"12\":8.0,\"13\":4.0,\"14\":13.0,\"17\":1.0,\"18\":6.0,\"19\":6.0,\"21\":5.0,\"22\":13.0,\"23\":11.0,\"24\":5.0,\"25\":2.0,\"26\":21.0,\"27\":2.0,\"28\":3.0,\"30\":11.0,\"31\":5.0,\"32\":2.0,\"33\":5.0,\"34\":15.0,\"35\":8.0,\"36\":2.0,\"37\":3.0,\"38\":8.0,\"39\":6.0,\"40\":2.0,\"41\":6.0,\"42\":12.0,\"43\":6.0,\"44\":10.0,\"45\":9.0,\"46\":6.0,\"48\":6.0,\"49\":10.0,\"50\":6.0,\"51\":2.0,\"52\":11.0,\"53\":10.0,\"54\":1.0,\"56\":2.0,\"57\":5.0,\"58\":9.0,\"59\":10.0,\"60\":4.0,\"61\":4.0,\"62\":11.0,\"63\":14.0,\"64\":1.0,\"65\":5.0,\"66\":11.0,\"67\":6.0,\"68\":10.0,\"69\":1.0,\"71\":4.0,\"72\":13.0,\"73\":11.0,\"74\":9.0,\"75\":10.0,\"76\":14.0,\"77\":2.0,\"78\":2.0,\"79\":5.0,\"80\":3.0,\"81\":5.0,\"82\":5.0,\"83\":11.0,\"84\":5.0,\"85\":8.0,\"86\":14.0,\"87\":5.0,\"88\":4.0,\"90\":10.0,\"91\":4.0,\"92\":4.0,\"93\":4.0,\"94\":11.0,\"95\":3.0,\"96\":11.0,\"97\":8.0,\"99\":7.0},\"passesTotal\":{\"0\":3.0,\"2\":6.0,\"3\":10.0,\"4\":7.0,\"5\":6.0,\"6\":19.0,\"7\":8.0,\"8\":9.0,\"9\":7.0,\"10\":2.0,\"13\":2.0,\"14\":11.0,\"18\":3.0,\"19\":5.0,\"21\":3.0,\"22\":8.0,\"23\":7.0,\"25\":1.0,\"26\":18.0,\"27\":2.0,\"28\":2.0,\"30\":11.0,\"31\":4.0,\"32\":1.0,\"33\":3.0,\"34\":15.0,\"35\":2.0,\"38\":5.0,\"39\":2.0,\"41\":4.0,\"42\":9.0,\"43\":4.0,\"44\":7.0,\"45\":5.0,\"46\":4.0,\"48\":4.0,\"49\":9.0,\"50\":4.0,\"52\":6.0,\"53\":8.0,\"57\":2.0,\"58\":6.0,\"59\":5.0,\"60\":3.0,\"61\":3.0,\"62\":8.0,\"63\":9.0,\"65\":3.0,\"66\":8.0,\"67\":5.0,\"68\":5.0,\"71\":4.0,\"72\":9.0,\"73\":5.0,\"74\":7.0,\"75\":8.0,\"76\":13.0,\"79\":4.0,\"81\":2.0,\"83\":10.0,\"84\":3.0,\"85\":4.0,\"86\":11.0,\"87\":4.0,\"88\":4.0,\"90\":9.0,\"91\":4.0,\"93\":2.0,\"94\":9.0,\"96\":7.0,\"97\":5.0,\"99\":7.0,\"1\":1.0,\"11\":1.0,\"12\":3.0,\"36\":1.0,\"37\":1.0,\"80\":1.0,\"82\":1.0,\"95\":1.0},\"passesAccurate\":{\"0\":1.0,\"2\":5.0,\"3\":8.0,\"4\":6.0,\"5\":5.0,\"6\":19.0,\"…"
   ]
  }
 ]
}