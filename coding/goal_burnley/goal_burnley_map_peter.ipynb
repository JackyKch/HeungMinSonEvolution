{
 "metadata": {
  "language_info": {
   "codemirror_mode": {
    "name": "ipython",
    "version": 3
   },
   "file_extension": ".py",
   "mimetype": "text/x-python",
   "name": "python",
   "nbconvert_exporter": "python",
   "pygments_lexer": "ipython3",
   "version": "3.9.0-final"
  },
  "orig_nbformat": 2,
  "kernelspec": {
   "name": "python3",
   "display_name": "Python 3.9.0 64-bit",
   "metadata": {
    "interpreter": {
     "hash": "6f63aac4862f49defdc0ab97c706aeed6401f5109f2f5eb8ddfd96c2030351e5"
    }
   }
  }
 },
 "nbformat": 4,
 "nbformat_minor": 2,
 "cells": [
  {
   "source": [
    "## Imports"
   ],
   "cell_type": "markdown",
   "metadata": {}
  },
  {
   "cell_type": "code",
   "execution_count": 1,
   "metadata": {},
   "outputs": [],
   "source": [
    "import pandas as pd \n",
    "import numpy as np \n",
    "\n",
    "import matplotlib.pyplot as plt \n",
    "from matplotlib.patches import Arc \n",
    "\n",
    "from PIL import Image\n",
    "import requests\n",
    "from io import BytesIO\n",
    "\n",
    "from highlight_text import htext"
   ]
  },
  {
   "source": [
    "## Variables "
   ],
   "cell_type": "markdown",
   "metadata": {}
  },
  {
   "cell_type": "code",
   "execution_count": 2,
   "metadata": {},
   "outputs": [],
   "source": [
    "\n",
    "# Bounds for my desired pitch size \n",
    "\n",
    "x_min = 0\n",
    "x_max = 105 \n",
    "y_min = 0\n",
    "y_max = 68 \n",
    "\n",
    "line_color = \"grey\"\n",
    "line_thickness = 1.5\n",
    "background = \"w\" #w for white\n",
    "point_size = 20\n",
    "\n",
    "# we'll come back to these at the end\n",
    "arc_angle = 0\n",
    "first = 0\n",
    "second = 1\n"
   ]
  },
  {
   "source": [
    "## Markings on touch lines and corner/end lines"
   ],
   "cell_type": "markdown",
   "metadata": {}
  },
  {
   "cell_type": "code",
   "execution_count": 3,
   "metadata": {},
   "outputs": [],
   "source": [
    "pitch_x = [0,5.8,11.5,17,50,83,88.5,94.2,100] # pitch x markings\n",
    "\n",
    "\"\"\"\n",
    "These are where various lines occur on the length of the pitch\n",
    "\n",
    "[goal line, six yard box, penalty spot, edge of box,\n",
    " halfway line, edge of box, penalty spot, six yard box, goal line]\n",
    "\n",
    "\"\"\"\n",
    "pitch_y = [0, 21.1, 36.6, 50, 63.2, 78.9, 100]\n",
    "\n",
    "\"\"\"\n",
    "These are where various lines occur on the width of the pitch\n",
    "\n",
    "[sideline, edge of box, six yard box, centre of pitch,\n",
    " six yard box, edge of box, sideline ]\n",
    "\n",
    "\"\"\"\n",
    "\n",
    "goal_y = [45.2, 54.8] # goal posts\n"
   ]
  },
  {
   "source": [
    "## Convert those measurements to meters as it is for now based on a 100*100 and a field is 105*68"
   ],
   "cell_type": "markdown",
   "metadata": {}
  },
  {
   "cell_type": "code",
   "execution_count": 10,
   "metadata": {},
   "outputs": [
    {
     "output_type": "error",
     "ename": "NameError",
     "evalue": "name 'pitch_x' is not defined",
     "traceback": [
      "\u001b[1;31m---------------------------------------------------------------------------\u001b[0m",
      "\u001b[1;31mNameError\u001b[0m                                 Traceback (most recent call last)",
      "\u001b[1;32m<ipython-input-10-28f407790e1e>\u001b[0m in \u001b[0;36m<module>\u001b[1;34m\u001b[0m\n\u001b[0;32m      2\u001b[0m \u001b[0my_conversion\u001b[0m \u001b[1;33m=\u001b[0m \u001b[1;36m68\u001b[0m \u001b[1;33m/\u001b[0m \u001b[1;36m100\u001b[0m\u001b[1;33m\u001b[0m\u001b[1;33m\u001b[0m\u001b[0m\n\u001b[0;32m      3\u001b[0m \u001b[1;33m\u001b[0m\u001b[0m\n\u001b[1;32m----> 4\u001b[1;33m \u001b[0mpitch_x\u001b[0m \u001b[1;33m=\u001b[0m \u001b[1;33m[\u001b[0m\u001b[0mitem\u001b[0m \u001b[1;33m*\u001b[0m \u001b[0mx_conversion\u001b[0m \u001b[1;32mfor\u001b[0m \u001b[0mitem\u001b[0m \u001b[1;32min\u001b[0m \u001b[0mpitch_x\u001b[0m\u001b[1;33m]\u001b[0m\u001b[1;33m\u001b[0m\u001b[1;33m\u001b[0m\u001b[0m\n\u001b[0m\u001b[0;32m      5\u001b[0m \u001b[0mpitch_y\u001b[0m \u001b[1;33m=\u001b[0m \u001b[1;33m[\u001b[0m\u001b[0mitem\u001b[0m \u001b[1;33m*\u001b[0m \u001b[0my_conversion\u001b[0m \u001b[1;32mfor\u001b[0m \u001b[0mitem\u001b[0m \u001b[1;32min\u001b[0m \u001b[0mpitch_y\u001b[0m\u001b[1;33m]\u001b[0m\u001b[1;33m\u001b[0m\u001b[1;33m\u001b[0m\u001b[0m\n\u001b[0;32m      6\u001b[0m \u001b[0mgoal_y\u001b[0m \u001b[1;33m=\u001b[0m \u001b[1;33m[\u001b[0m\u001b[0mitem\u001b[0m \u001b[1;33m*\u001b[0m \u001b[0my_conversion\u001b[0m \u001b[1;32mfor\u001b[0m \u001b[0mitem\u001b[0m \u001b[1;32min\u001b[0m \u001b[0mgoal_y\u001b[0m\u001b[1;33m]\u001b[0m\u001b[1;33m\u001b[0m\u001b[1;33m\u001b[0m\u001b[0m\n",
      "\u001b[1;31mNameError\u001b[0m: name 'pitch_x' is not defined"
     ]
    }
   ],
   "source": [
    "x_conversion = 105 / 100\n",
    "y_conversion = 68 / 100\n",
    "\n",
    "pitch_x = [item * x_conversion for item in pitch_x]\n",
    "pitch_y = [item * y_conversion for item in pitch_y]\n",
    "goal_y = [item * y_conversion for item in goal_y]"
   ]
  },
  {
   "source": [
    "## We plot side and goal lines"
   ],
   "cell_type": "markdown",
   "metadata": {}
  },
  {
   "cell_type": "code",
   "execution_count": 5,
   "metadata": {},
   "outputs": [],
   "source": [
    "\n",
    "# side and goal lines\n",
    "lx1 = [x_min, x_max, x_max, x_min, x_min]\n",
    "ly1 = [y_min, y_min, y_max, y_max, y_min]\n",
    "\n",
    "# outer boxed\n",
    "lx2 = [x_max, pitch_x[5], pitch_x[5], x_max]\n",
    "ly2 = [pitch_y[1], pitch_y[1], pitch_y[5], pitch_y[5]]\n",
    "\n",
    "lx3 = [0, pitch_x[3], pitch_x[3], 0]\n",
    "ly3 = [pitch_y[1], pitch_y[1], pitch_y[5], pitch_y[5]]\n",
    "\n",
    "# goals\n",
    "lx4 = [x_max, x_max+2, x_max+2, x_max]\n",
    "ly4 = [goal_y[0], goal_y[0], goal_y[1], goal_y[1]]\n",
    "\n",
    "lx5 = [0, -2, -2, 0]\n",
    "ly5 = [goal_y[0], goal_y[0], goal_y[1], goal_y[1]]\n",
    "\n",
    "# 6 yard boxes\n",
    "lx6 = [x_max, pitch_x[7], pitch_x[7], x_max]\n",
    "ly6 = [pitch_y[2], pitch_y[2], pitch_y[4], pitch_y[4]]\n",
    "\n",
    "lx7 = [0, pitch_x[1], pitch_x[1], 0]\n",
    "ly7 = [pitch_y[2], pitch_y[2], pitch_y[4], pitch_y[4]]\n",
    "\n",
    "\n",
    "# Halfway line, penalty spots, and kickoff spot\n",
    "lx8 = [pitch_x[4], pitch_x[4]]\n",
    "ly8 = [0, y_max]\n",
    "\n",
    "lines = [\n",
    "    [lx1, ly1],\n",
    "    [lx2, ly2],\n",
    "    [lx3, ly3],\n",
    "    [lx4, ly4],\n",
    "    [lx5, ly5],\n",
    "    [lx6, ly6],\n",
    "    [lx7, ly7],\n",
    "    [lx8, ly8],\n",
    "    ]\n",
    "\n"
   ]
  },
  {
   "cell_type": "code",
   "execution_count": 13,
   "metadata": {},
   "outputs": [
    {
     "output_type": "display_data",
     "data": {
      "text/plain": "<Figure size 792x504 with 1 Axes>",
      "image/svg+xml": "<?xml version=\"1.0\" encoding=\"utf-8\" standalone=\"no\"?>\r\n<!DOCTYPE svg PUBLIC \"-//W3C//DTD SVG 1.1//EN\"\r\n  \"http://www.w3.org/Graphics/SVG/1.1/DTD/svg11.dtd\">\r\n<!-- Created with matplotlib (https://matplotlib.org/) -->\r\n<svg height=\"496.8pt\" version=\"1.1\" viewBox=\"0 0 784.8 496.8\" width=\"784.8pt\" xmlns=\"http://www.w3.org/2000/svg\" xmlns:xlink=\"http://www.w3.org/1999/xlink\">\r\n <metadata>\r\n  <rdf:RDF xmlns:cc=\"http://creativecommons.org/ns#\" xmlns:dc=\"http://purl.org/dc/elements/1.1/\" xmlns:rdf=\"http://www.w3.org/1999/02/22-rdf-syntax-ns#\">\r\n   <cc:Work>\r\n    <dc:type rdf:resource=\"http://purl.org/dc/dcmitype/StillImage\"/>\r\n    <dc:date>2020-12-16T23:43:19.626466</dc:date>\r\n    <dc:format>image/svg+xml</dc:format>\r\n    <dc:creator>\r\n     <cc:Agent>\r\n      <dc:title>Matplotlib v3.3.3, https://matplotlib.org/</dc:title>\r\n     </cc:Agent>\r\n    </dc:creator>\r\n   </cc:Work>\r\n  </rdf:RDF>\r\n </metadata>\r\n <defs>\r\n  <style type=\"text/css\">*{stroke-linecap:butt;stroke-linejoin:round;}</style>\r\n </defs>\r\n <g id=\"figure_1\">\r\n  <g id=\"patch_1\">\r\n   <path d=\"M 0 496.8 \r\nL 784.8 496.8 \r\nL 784.8 0 \r\nL 0 0 \r\nz\r\n\" style=\"fill:none;\"/>\r\n  </g>\r\n  <g id=\"axes_1\">\r\n   <g id=\"line2d_1\">\r\n    <path clip-path=\"url(#p65cb0fb490)\" d=\"M 55.068891 467.672727 \r\nL 729.731109 467.672727 \r\nL 729.731109 29.127273 \r\nL 55.068891 29.127273 \r\nL 55.068891 467.672727 \r\n\" style=\"fill:none;stroke:#808080;stroke-linecap:square;stroke-width:1.5;\"/>\r\n   </g>\r\n   <g id=\"line2d_2\">\r\n    <path clip-path=\"url(#p65cb0fb490)\" d=\"M 729.731109 375.139636 \r\nL 615.038532 375.139636 \r\nL 615.038532 121.660364 \r\nL 729.731109 121.660364 \r\n\" style=\"fill:none;stroke:#808080;stroke-linecap:square;stroke-width:1.5;\"/>\r\n   </g>\r\n   <g id=\"line2d_3\">\r\n    <path clip-path=\"url(#p65cb0fb490)\" d=\"M 55.068891 375.139636 \r\nL 169.761468 375.139636 \r\nL 169.761468 121.660364 \r\nL 55.068891 121.660364 \r\n\" style=\"fill:none;stroke:#808080;stroke-linecap:square;stroke-width:1.5;\"/>\r\n   </g>\r\n   <g id=\"line2d_4\">\r\n    <path clip-path=\"url(#p65cb0fb490)\" d=\"M 729.731109 269.450182 \r\nL 742.581818 269.450182 \r\nL 742.581818 227.349818 \r\nL 729.731109 227.349818 \r\n\" style=\"fill:none;stroke:#808080;stroke-linecap:square;stroke-width:1.5;\"/>\r\n   </g>\r\n   <g id=\"line2d_5\">\r\n    <path clip-path=\"url(#p65cb0fb490)\" d=\"M 55.068891 269.450182 \r\nL 42.218182 269.450182 \r\nL 42.218182 227.349818 \r\nL 55.068891 227.349818 \r\n\" style=\"fill:none;stroke:#808080;stroke-linecap:square;stroke-width:1.5;\"/>\r\n   </g>\r\n   <g id=\"line2d_6\">\r\n    <path clip-path=\"url(#p65cb0fb490)\" d=\"M 729.731109 307.165091 \r\nL 690.600701 307.165091 \r\nL 690.600701 190.512 \r\nL 729.731109 190.512 \r\n\" style=\"fill:none;stroke:#808080;stroke-linecap:square;stroke-width:1.5;\"/>\r\n   </g>\r\n   <g id=\"line2d_7\">\r\n    <path clip-path=\"url(#p65cb0fb490)\" d=\"M 55.068891 307.165091 \r\nL 94.199299 307.165091 \r\nL 94.199299 190.512 \r\nL 55.068891 190.512 \r\n\" style=\"fill:none;stroke:#808080;stroke-linecap:square;stroke-width:1.5;\"/>\r\n   </g>\r\n   <g id=\"line2d_8\">\r\n    <path clip-path=\"url(#p65cb0fb490)\" d=\"M 392.4 467.672727 \r\nL 392.4 29.127273 \r\n\" style=\"fill:none;stroke:#808080;stroke-linecap:square;stroke-width:1.5;\"/>\r\n   </g>\r\n  </g>\r\n </g>\r\n <defs>\r\n  <clipPath id=\"p65cb0fb490\">\r\n   <rect height=\"482.4\" width=\"770.4\" x=\"7.2\" y=\"7.2\"/>\r\n  </clipPath>\r\n </defs>\r\n</svg>\r\n",
      "image/png": "[encoded data removed]"
     },
     "metadata": {
      "needs_background": "light"
     }
    }
   ],
   "source": [
    "fig, ax = plt.subplots(figsize=(11,7))\n",
    "ax.axis(\"off\") \n",
    "\n",
    "for line in lines:\n",
    "    ax.plot(line[0], line[1],\n",
    "            color=line_color,\n",
    "            lw=line_thickness,\n",
    "            zorder=-1)\n",
    "\n",
    "plt.tight_layout()\n",
    "plt.show()"
   ]
  },
  {
   "cell_type": "code",
   "execution_count": null,
   "metadata": {},
   "outputs": [],
   "source": [
    "## Add the points for kick-off points and penalty points"
   ]
  },
  {
   "cell_type": "code",
   "execution_count": 6,
   "metadata": {},
   "outputs": [],
   "source": [
    "points = [\n",
    "    [pitch_x[6], pitch_y[3]],\n",
    "    [pitch_x[2], pitch_y[3]],\n",
    "    [pitch_x[4], pitch_y[3]]\n",
    "    ]\n"
   ]
  },
  {
   "cell_type": "code",
   "execution_count": 15,
   "metadata": {},
   "outputs": [
    {
     "output_type": "display_data",
     "data": {
      "text/plain": "<Figure size 792x504 with 1 Axes>",
      "image/svg+xml": "<?xml version=\"1.0\" encoding=\"utf-8\" standalone=\"no\"?>\r\n<!DOCTYPE svg PUBLIC \"-//W3C//DTD SVG 1.1//EN\"\r\n  \"http://www.w3.org/Graphics/SVG/1.1/DTD/svg11.dtd\">\r\n<!-- Created with matplotlib (https://matplotlib.org/) -->\r\n<svg height=\"496.8pt\" version=\"1.1\" viewBox=\"0 0 784.8 496.8\" width=\"784.8pt\" xmlns=\"http://www.w3.org/2000/svg\" xmlns:xlink=\"http://www.w3.org/1999/xlink\">\r\n <metadata>\r\n  <rdf:RDF xmlns:cc=\"http://creativecommons.org/ns#\" xmlns:dc=\"http://purl.org/dc/elements/1.1/\" xmlns:rdf=\"http://www.w3.org/1999/02/22-rdf-syntax-ns#\">\r\n   <cc:Work>\r\n    <dc:type rdf:resource=\"http://purl.org/dc/dcmitype/StillImage\"/>\r\n    <dc:date>2020-12-16T23:43:24.846266</dc:date>\r\n    <dc:format>image/svg+xml</dc:format>\r\n    <dc:creator>\r\n     <cc:Agent>\r\n      <dc:title>Matplotlib v3.3.3, https://matplotlib.org/</dc:title>\r\n     </cc:Agent>\r\n    </dc:creator>\r\n   </cc:Work>\r\n  </rdf:RDF>\r\n </metadata>\r\n <defs>\r\n  <style type=\"text/css\">*{stroke-linecap:butt;stroke-linejoin:round;}</style>\r\n </defs>\r\n <g id=\"figure_1\">\r\n  <g id=\"patch_1\">\r\n   <path d=\"M 0 496.8 \r\nL 784.8 496.8 \r\nL 784.8 0 \r\nL 0 0 \r\nz\r\n\" style=\"fill:none;\"/>\r\n  </g>\r\n  <g id=\"axes_1\">\r\n   <g id=\"PathCollection_1\">\r\n    <defs>\r\n     <path d=\"M 0 2.236068 \r\nC 0.593012 2.236068 1.161816 2.000462 1.581139 1.581139 \r\nC 2.000462 1.161816 2.236068 0.593012 2.236068 0 \r\nC 2.236068 -0.593012 2.000462 -1.161816 1.581139 -1.581139 \r\nC 1.161816 -2.000462 0.593012 -2.236068 0 -2.236068 \r\nC -0.593012 -2.236068 -1.161816 -2.000462 -1.581139 -1.581139 \r\nC -2.000462 -1.161816 -2.236068 -0.593012 -2.236068 0 \r\nC -2.236068 0.593012 -2.000462 1.161816 -1.581139 1.581139 \r\nC -1.161816 2.000462 -0.593012 2.236068 0 2.236068 \r\nz\r\n\" id=\"m1c2d11f894\" style=\"stroke:#808080;\"/>\r\n    </defs>\r\n    <g clip-path=\"url(#p7f7c484ad5)\">\r\n     <use style=\"fill:#808080;stroke:#808080;\" x=\"652.144954\" xlink:href=\"#m1c2d11f894\" y=\"248.4\"/>\r\n    </g>\r\n   </g>\r\n   <g id=\"PathCollection_2\">\r\n    <g clip-path=\"url(#p7f7c484ad5)\">\r\n     <use style=\"fill:#808080;stroke:#808080;\" x=\"132.655046\" xlink:href=\"#m1c2d11f894\" y=\"248.4\"/>\r\n    </g>\r\n   </g>\r\n   <g id=\"PathCollection_3\">\r\n    <g clip-path=\"url(#p7f7c484ad5)\">\r\n     <use style=\"fill:#808080;stroke:#808080;\" x=\"392.4\" xlink:href=\"#m1c2d11f894\" y=\"248.4\"/>\r\n    </g>\r\n   </g>\r\n   <g id=\"line2d_1\">\r\n    <path clip-path=\"url(#p7f7c484ad5)\" d=\"M 55.068891 467.672727 \r\nL 729.731109 467.672727 \r\nL 729.731109 29.127273 \r\nL 55.068891 29.127273 \r\nL 55.068891 467.672727 \r\n\" style=\"fill:none;stroke:#808080;stroke-linecap:square;stroke-width:1.5;\"/>\r\n   </g>\r\n   <g id=\"line2d_2\">\r\n    <path clip-path=\"url(#p7f7c484ad5)\" d=\"M 729.731109 375.139636 \r\nL 615.038532 375.139636 \r\nL 615.038532 121.660364 \r\nL 729.731109 121.660364 \r\n\" style=\"fill:none;stroke:#808080;stroke-linecap:square;stroke-width:1.5;\"/>\r\n   </g>\r\n   <g id=\"line2d_3\">\r\n    <path clip-path=\"url(#p7f7c484ad5)\" d=\"M 55.068891 375.139636 \r\nL 169.761468 375.139636 \r\nL 169.761468 121.660364 \r\nL 55.068891 121.660364 \r\n\" style=\"fill:none;stroke:#808080;stroke-linecap:square;stroke-width:1.5;\"/>\r\n   </g>\r\n   <g id=\"line2d_4\">\r\n    <path clip-path=\"url(#p7f7c484ad5)\" d=\"M 729.731109 269.450182 \r\nL 742.581818 269.450182 \r\nL 742.581818 227.349818 \r\nL 729.731109 227.349818 \r\n\" style=\"fill:none;stroke:#808080;stroke-linecap:square;stroke-width:1.5;\"/>\r\n   </g>\r\n   <g id=\"line2d_5\">\r\n    <path clip-path=\"url(#p7f7c484ad5)\" d=\"M 55.068891 269.450182 \r\nL 42.218182 269.450182 \r\nL 42.218182 227.349818 \r\nL 55.068891 227.349818 \r\n\" style=\"fill:none;stroke:#808080;stroke-linecap:square;stroke-width:1.5;\"/>\r\n   </g>\r\n   <g id=\"line2d_6\">\r\n    <path clip-path=\"url(#p7f7c484ad5)\" d=\"M 729.731109 307.165091 \r\nL 690.600701 307.165091 \r\nL 690.600701 190.512 \r\nL 729.731109 190.512 \r\n\" style=\"fill:none;stroke:#808080;stroke-linecap:square;stroke-width:1.5;\"/>\r\n   </g>\r\n   <g id=\"line2d_7\">\r\n    <path clip-path=\"url(#p7f7c484ad5)\" d=\"M 55.068891 307.165091 \r\nL 94.199299 307.165091 \r\nL 94.199299 190.512 \r\nL 55.068891 190.512 \r\n\" style=\"fill:none;stroke:#808080;stroke-linecap:square;stroke-width:1.5;\"/>\r\n   </g>\r\n   <g id=\"line2d_8\">\r\n    <path clip-path=\"url(#p7f7c484ad5)\" d=\"M 392.4 467.672727 \r\nL 392.4 29.127273 \r\n\" style=\"fill:none;stroke:#808080;stroke-linecap:square;stroke-width:1.5;\"/>\r\n   </g>\r\n  </g>\r\n </g>\r\n <defs>\r\n  <clipPath id=\"p7f7c484ad5\">\r\n   <rect height=\"482.4\" width=\"770.4\" x=\"7.2\" y=\"7.2\"/>\r\n  </clipPath>\r\n </defs>\r\n</svg>\r\n",
      "image/png": "[encoded data removed]"
     },
     "metadata": {
      "needs_background": "light"
     }
    }
   ],
   "source": [
    "fig, ax = plt.subplots(figsize=(11,7))\n",
    "ax.axis(\"off\")\n",
    "\n",
    "for line in lines:\n",
    "    ax.plot(line[0], line[1],\n",
    "            color=line_color,\n",
    "            lw=line_thickness,\n",
    "            zorder=-1)\n",
    "\n",
    "for point in points:\n",
    "    ax.scatter(point[0], point[1],\n",
    "               color=line_color,\n",
    "               s=point_size,\n",
    "               zorder=-1)\n",
    "\n",
    "plt.tight_layout()\n",
    "plt.show()"
   ]
  },
  {
   "source": [
    "## We add the centre circle and Ds en each box"
   ],
   "cell_type": "markdown",
   "metadata": {}
  },
  {
   "cell_type": "code",
   "execution_count": 16,
   "metadata": {},
   "outputs": [],
   "source": [
    "circle_points = [pitch_x[4], pitch_y[3]]\n",
    "arc_points1 = [pitch_x[6], pitch_y[3]]\n",
    "arc_points2 = [pitch_x[2], pitch_y[3]]"
   ]
  },
  {
   "cell_type": "code",
   "execution_count": 17,
   "metadata": {},
   "outputs": [
    {
     "output_type": "display_data",
     "data": {
      "text/plain": "<Figure size 792x504 with 1 Axes>",
      "image/svg+xml": "<?xml version=\"1.0\" encoding=\"utf-8\" standalone=\"no\"?>\r\n<!DOCTYPE svg PUBLIC \"-//W3C//DTD SVG 1.1//EN\"\r\n  \"http://www.w3.org/Graphics/SVG/1.1/DTD/svg11.dtd\">\r\n<!-- Created with matplotlib (https://matplotlib.org/) -->\r\n<svg height=\"495.016514pt\" version=\"1.1\" viewBox=\"0 0 784.8 495.016514\" width=\"784.8pt\" xmlns=\"http://www.w3.org/2000/svg\" xmlns:xlink=\"http://www.w3.org/1999/xlink\">\r\n <metadata>\r\n  <rdf:RDF xmlns:cc=\"http://creativecommons.org/ns#\" xmlns:dc=\"http://purl.org/dc/elements/1.1/\" xmlns:rdf=\"http://www.w3.org/1999/02/22-rdf-syntax-ns#\">\r\n   <cc:Work>\r\n    <dc:type rdf:resource=\"http://purl.org/dc/dcmitype/StillImage\"/>\r\n    <dc:date>2020-12-17T00:04:39.545319</dc:date>\r\n    <dc:format>image/svg+xml</dc:format>\r\n    <dc:creator>\r\n     <cc:Agent>\r\n      <dc:title>Matplotlib v3.3.3, https://matplotlib.org/</dc:title>\r\n     </cc:Agent>\r\n    </dc:creator>\r\n   </cc:Work>\r\n  </rdf:RDF>\r\n </metadata>\r\n <defs>\r\n  <style type=\"text/css\">*{stroke-linecap:butt;stroke-linejoin:round;}</style>\r\n </defs>\r\n <g id=\"figure_1\">\r\n  <g id=\"patch_1\">\r\n   <path d=\"M 0 495.016514 \r\nL 784.8 495.016514 \r\nL 784.8 0 \r\nL 0 0 \r\nz\r\n\" style=\"fill:none;\"/>\r\n  </g>\r\n  <g id=\"axes_1\">\r\n   <g id=\"PathCollection_1\">\r\n    <defs>\r\n     <path d=\"M 0 2.236068 \r\nC 0.593012 2.236068 1.161816 2.000462 1.581139 1.581139 \r\nC 2.000462 1.161816 2.236068 0.593012 2.236068 0 \r\nC 2.236068 -0.593012 2.000462 -1.161816 1.581139 -1.581139 \r\nC 1.161816 -2.000462 0.593012 -2.236068 0 -2.236068 \r\nC -0.593012 -2.236068 -1.161816 -2.000462 -1.581139 -1.581139 \r\nC -2.000462 -1.161816 -2.236068 -0.593012 -2.236068 0 \r\nC -2.236068 0.593012 -2.000462 1.161816 -1.581139 1.581139 \r\nC -1.161816 2.000462 -0.593012 2.236068 0 2.236068 \r\nz\r\n\" id=\"ma3d5a165a8\" style=\"stroke:#808080;\"/>\r\n    </defs>\r\n    <g clip-path=\"url(#pfb1fd69816)\">\r\n     <use style=\"fill:#808080;stroke:#808080;\" x=\"652.144954\" xlink:href=\"#ma3d5a165a8\" y=\"247.508257\"/>\r\n    </g>\r\n   </g>\r\n   <g id=\"PathCollection_2\">\r\n    <g clip-path=\"url(#pfb1fd69816)\">\r\n     <use style=\"fill:#808080;stroke:#808080;\" x=\"132.655046\" xlink:href=\"#ma3d5a165a8\" y=\"247.508257\"/>\r\n    </g>\r\n   </g>\r\n   <g id=\"PathCollection_3\">\r\n    <g clip-path=\"url(#pfb1fd69816)\">\r\n     <use style=\"fill:#808080;stroke:#808080;\" x=\"392.4\" xlink:href=\"#ma3d5a165a8\" y=\"247.508257\"/>\r\n    </g>\r\n   </g>\r\n   <g id=\"line2d_1\">\r\n    <path clip-path=\"url(#pfb1fd69816)\" d=\"M 55.068891 465.970309 \r\nL 729.731109 465.970309 \r\nL 729.731109 29.046205 \r\nL 55.068891 29.046205 \r\nL 55.068891 465.970309 \r\n\" style=\"fill:none;stroke:#808080;stroke-linecap:square;stroke-width:1.5;\"/>\r\n   </g>\r\n   <g id=\"line2d_2\">\r\n    <path clip-path=\"url(#pfb1fd69816)\" d=\"M 729.731109 373.779323 \r\nL 615.038532 373.779323 \r\nL 615.038532 121.237191 \r\nL 729.731109 121.237191 \r\n\" style=\"fill:none;stroke:#808080;stroke-linecap:square;stroke-width:1.5;\"/>\r\n   </g>\r\n   <g id=\"line2d_3\">\r\n    <path clip-path=\"url(#pfb1fd69816)\" d=\"M 55.068891 373.779323 \r\nL 169.761468 373.779323 \r\nL 169.761468 121.237191 \r\nL 55.068891 121.237191 \r\n\" style=\"fill:none;stroke:#808080;stroke-linecap:square;stroke-width:1.5;\"/>\r\n   </g>\r\n   <g id=\"line2d_4\">\r\n    <path clip-path=\"url(#pfb1fd69816)\" d=\"M 729.731109 268.480614 \r\nL 742.581818 268.480614 \r\nL 742.581818 226.5359 \r\nL 729.731109 226.5359 \r\n\" style=\"fill:none;stroke:#808080;stroke-linecap:square;stroke-width:1.5;\"/>\r\n   </g>\r\n   <g id=\"line2d_5\">\r\n    <path clip-path=\"url(#pfb1fd69816)\" d=\"M 55.068891 268.480614 \r\nL 42.218182 268.480614 \r\nL 42.218182 226.5359 \r\nL 55.068891 226.5359 \r\n\" style=\"fill:none;stroke:#808080;stroke-linecap:square;stroke-width:1.5;\"/>\r\n   </g>\r\n   <g id=\"line2d_6\">\r\n    <path clip-path=\"url(#pfb1fd69816)\" d=\"M 729.731109 306.056087 \r\nL 690.600701 306.056087 \r\nL 690.600701 189.834275 \r\nL 729.731109 189.834275 \r\n\" style=\"fill:none;stroke:#808080;stroke-linecap:square;stroke-width:1.5;\"/>\r\n   </g>\r\n   <g id=\"line2d_7\">\r\n    <path clip-path=\"url(#pfb1fd69816)\" d=\"M 55.068891 306.056087 \r\nL 94.199299 306.056087 \r\nL 94.199299 189.834275 \r\nL 55.068891 189.834275 \r\n\" style=\"fill:none;stroke:#808080;stroke-linecap:square;stroke-width:1.5;\"/>\r\n   </g>\r\n   <g id=\"line2d_8\">\r\n    <path clip-path=\"url(#pfb1fd69816)\" d=\"M 392.4 465.970309 \r\nL 392.4 29.046205 \r\n\" style=\"fill:none;stroke:#808080;stroke-linecap:square;stroke-width:1.5;\"/>\r\n   </g>\r\n   <g id=\"patch_2\">\r\n    <path clip-path=\"url(#pfb1fd69816)\" d=\"M 392.4 306.878532 \r\nC 408.145181 306.878532 423.2476 300.622905 434.381124 289.489381 \r\nC 445.514648 278.355857 451.770275 263.253438 451.770275 247.508257 \r\nC 451.770275 231.763076 445.514648 216.660657 434.381124 205.527133 \r\nC 423.2476 194.393608 408.145181 188.137982 392.4 188.137982 \r\nC 376.654819 188.137982 361.5524 194.393608 350.418876 205.527133 \r\nC 339.285352 216.660657 333.029725 231.763076 333.029725 247.508257 \r\nC 333.029725 263.253438 339.285352 278.355857 350.418876 289.489381 \r\nC 361.5524 300.622905 376.654819 306.878532 392.4 306.878532 \r\nz\r\n\" style=\"fill:none;stroke:#808080;stroke-linejoin:miter;stroke-width:1.5;\"/>\r\n   </g>\r\n   <g id=\"patch_3\">\r\n    <path clip-path=\"url(#pfb1fd69816)\" d=\"M 614.983705 201.2063 \r\nC 608.052364 206.76929 602.457831 213.818351 598.614107 221.831847 \r\nC 594.770383 229.845344 592.774679 238.620606 592.774679 247.508257 \r\nC 592.774679 256.395908 594.770383 265.17117 598.614107 273.184666 \r\nC 602.457831 281.198163 608.052364 288.247224 614.983705 293.810213 \r\n\" style=\"fill:none;stroke:#808080;stroke-linejoin:miter;stroke-width:1.5;\"/>\r\n   </g>\r\n   <g id=\"patch_4\">\r\n    <path clip-path=\"url(#pfb1fd69816)\" d=\"M 169.816295 293.810213 \r\nC 176.747636 288.247224 182.342169 281.198163 186.185893 273.184666 \r\nC 190.029617 265.17117 192.025321 256.395908 192.025321 247.508257 \r\nC 192.025321 238.620606 190.029617 229.845344 186.185893 221.831847 \r\nC 182.342169 213.818351 176.747636 206.76929 169.816295 201.2063 \r\n\" style=\"fill:none;stroke:#808080;stroke-linejoin:miter;stroke-width:1.5;\"/>\r\n   </g>\r\n  </g>\r\n </g>\r\n <defs>\r\n  <clipPath id=\"pfb1fd69816\">\r\n   <rect height=\"480.616514\" width=\"770.4\" x=\"7.2\" y=\"7.2\"/>\r\n  </clipPath>\r\n </defs>\r\n</svg>\r\n",
      "image/png": "[encoded data removed]"
     },
     "metadata": {
      "needs_background": "light"
     }
    }
   ],
   "source": [
    "\n",
    "fig, ax = plt.subplots(figsize=(11,7))\n",
    "ax.axis(\"off\")\n",
    "for line in lines:\n",
    "    ax.plot(line[0], line[1],\n",
    "            color=line_color,\n",
    "            lw=line_thickness,\n",
    "            zorder=-1)\n",
    "\n",
    "for point in points:\n",
    "    ax.scatter(point[0], point[1],\n",
    "               color=line_color,\n",
    "               s=point_size,\n",
    "               zorder=-1)\n",
    "\n",
    "circle = plt.Circle((circle_points[0], circle_points[1]),\n",
    "                     x_max * 0.088,\n",
    "                     lw=line_thickness,\n",
    "                     color=line_color,\n",
    "                     fill=False,\n",
    "                     zorder=-1)\n",
    "\n",
    "ax.add_artist(circle)\n",
    "\n",
    "arc1 = Arc((arc_points1[0], arc_points1[1]),\n",
    "           height=x_max * 0.088 * 2,\n",
    "           width=x_max * 0.088 * 2,\n",
    "           angle=arc_angle,\n",
    "           theta1=128.75,\n",
    "           theta2=231.25,\n",
    "           color=line_color,\n",
    "           lw=line_thickness,\n",
    "           zorder=-1)\n",
    "\n",
    "ax.add_artist(arc1)\n",
    "\n",
    "arc2 = Arc((arc_points2[0], arc_points2[1]),\n",
    "           height=x_max * 0.088 * 2,\n",
    "           width=x_max * 0.088 * 2,\n",
    "           angle=arc_angle,\n",
    "           theta1=308.75,\n",
    "           theta2=51.25,\n",
    "           color=line_color,\n",
    "           lw=line_thickness,\n",
    "           zorder=-1)\n",
    "\n",
    "ax.add_artist(arc2)\n",
    "\n",
    "ax.set_aspect(\"equal\") # keeps circles in correct shape ~regardless of of fig dimensions\n",
    "plt.tight_layout()\n",
    "plt.show()"
   ]
  },
  {
   "source": [
    "## Add a few variables "
   ],
   "cell_type": "markdown",
   "metadata": {}
  },
  {
   "cell_type": "code",
   "execution_count": 19,
   "metadata": {},
   "outputs": [
    {
     "output_type": "display_data",
     "data": {
      "text/plain": "<Figure size 792x504 with 1 Axes>",
      "image/svg+xml": "<?xml version=\"1.0\" encoding=\"utf-8\" standalone=\"no\"?>\r\n<!DOCTYPE svg PUBLIC \"-//W3C//DTD SVG 1.1//EN\"\r\n  \"http://www.w3.org/Graphics/SVG/1.1/DTD/svg11.dtd\">\r\n<!-- Created with matplotlib (https://matplotlib.org/) -->\r\n<svg height=\"495.016514pt\" version=\"1.1\" viewBox=\"0 0 784.8 495.016514\" width=\"784.8pt\" xmlns=\"http://www.w3.org/2000/svg\" xmlns:xlink=\"http://www.w3.org/1999/xlink\">\r\n <metadata>\r\n  <rdf:RDF xmlns:cc=\"http://creativecommons.org/ns#\" xmlns:dc=\"http://purl.org/dc/elements/1.1/\" xmlns:rdf=\"http://www.w3.org/1999/02/22-rdf-syntax-ns#\">\r\n   <cc:Work>\r\n    <dc:type rdf:resource=\"http://purl.org/dc/dcmitype/StillImage\"/>\r\n    <dc:date>2020-12-17T00:05:31.856478</dc:date>\r\n    <dc:format>image/svg+xml</dc:format>\r\n    <dc:creator>\r\n     <cc:Agent>\r\n      <dc:title>Matplotlib v3.3.3, https://matplotlib.org/</dc:title>\r\n     </cc:Agent>\r\n    </dc:creator>\r\n   </cc:Work>\r\n  </rdf:RDF>\r\n </metadata>\r\n <defs>\r\n  <style type=\"text/css\">*{stroke-linecap:butt;stroke-linejoin:round;}</style>\r\n </defs>\r\n <g id=\"figure_1\">\r\n  <g id=\"patch_1\">\r\n   <path d=\"M 0 495.016514 \r\nL 784.8 495.016514 \r\nL 784.8 0 \r\nL 0 0 \r\nz\r\n\" style=\"fill:none;\"/>\r\n  </g>\r\n  <g id=\"axes_1\">\r\n   <g id=\"PathCollection_1\">\r\n    <defs>\r\n     <path d=\"M 0 2.236068 \r\nC 0.593012 2.236068 1.161816 2.000462 1.581139 1.581139 \r\nC 2.000462 1.161816 2.236068 0.593012 2.236068 0 \r\nC 2.236068 -0.593012 2.000462 -1.161816 1.581139 -1.581139 \r\nC 1.161816 -2.000462 0.593012 -2.236068 0 -2.236068 \r\nC -0.593012 -2.236068 -1.161816 -2.000462 -1.581139 -1.581139 \r\nC -2.000462 -1.161816 -2.236068 -0.593012 -2.236068 0 \r\nC -2.236068 0.593012 -2.000462 1.161816 -1.581139 1.581139 \r\nC -1.161816 2.000462 -0.593012 2.236068 0 2.236068 \r\nz\r\n\" id=\"mfb32ff3073\" style=\"stroke:#808080;\"/>\r\n    </defs>\r\n    <g clip-path=\"url(#pca48ea95b7)\">\r\n     <use style=\"fill:#808080;stroke:#808080;\" x=\"652.144954\" xlink:href=\"#mfb32ff3073\" y=\"247.508257\"/>\r\n    </g>\r\n   </g>\r\n   <g id=\"PathCollection_2\">\r\n    <g clip-path=\"url(#pca48ea95b7)\">\r\n     <use style=\"fill:#808080;stroke:#808080;\" x=\"132.655046\" xlink:href=\"#mfb32ff3073\" y=\"247.508257\"/>\r\n    </g>\r\n   </g>\r\n   <g id=\"PathCollection_3\">\r\n    <g clip-path=\"url(#pca48ea95b7)\">\r\n     <use style=\"fill:#808080;stroke:#808080;\" x=\"392.4\" xlink:href=\"#mfb32ff3073\" y=\"247.508257\"/>\r\n    </g>\r\n   </g>\r\n   <g id=\"line2d_1\">\r\n    <path clip-path=\"url(#pca48ea95b7)\" d=\"M 55.068891 465.970309 \r\nL 729.731109 465.970309 \r\nL 729.731109 29.046205 \r\nL 55.068891 29.046205 \r\nL 55.068891 465.970309 \r\n\" style=\"fill:none;stroke:#808080;stroke-linecap:square;stroke-width:1.5;\"/>\r\n   </g>\r\n   <g id=\"line2d_2\">\r\n    <path clip-path=\"url(#pca48ea95b7)\" d=\"M 729.731109 373.779323 \r\nL 615.038532 373.779323 \r\nL 615.038532 121.237191 \r\nL 729.731109 121.237191 \r\n\" style=\"fill:none;stroke:#808080;stroke-linecap:square;stroke-width:1.5;\"/>\r\n   </g>\r\n   <g id=\"line2d_3\">\r\n    <path clip-path=\"url(#pca48ea95b7)\" d=\"M 55.068891 373.779323 \r\nL 169.761468 373.779323 \r\nL 169.761468 121.237191 \r\nL 55.068891 121.237191 \r\n\" style=\"fill:none;stroke:#808080;stroke-linecap:square;stroke-width:1.5;\"/>\r\n   </g>\r\n   <g id=\"line2d_4\">\r\n    <path clip-path=\"url(#pca48ea95b7)\" d=\"M 729.731109 268.480614 \r\nL 742.581818 268.480614 \r\nL 742.581818 226.5359 \r\nL 729.731109 226.5359 \r\n\" style=\"fill:none;stroke:#808080;stroke-linecap:square;stroke-width:1.5;\"/>\r\n   </g>\r\n   <g id=\"line2d_5\">\r\n    <path clip-path=\"url(#pca48ea95b7)\" d=\"M 55.068891 268.480614 \r\nL 42.218182 268.480614 \r\nL 42.218182 226.5359 \r\nL 55.068891 226.5359 \r\n\" style=\"fill:none;stroke:#808080;stroke-linecap:square;stroke-width:1.5;\"/>\r\n   </g>\r\n   <g id=\"line2d_6\">\r\n    <path clip-path=\"url(#pca48ea95b7)\" d=\"M 729.731109 306.056087 \r\nL 690.600701 306.056087 \r\nL 690.600701 189.834275 \r\nL 729.731109 189.834275 \r\n\" style=\"fill:none;stroke:#808080;stroke-linecap:square;stroke-width:1.5;\"/>\r\n   </g>\r\n   <g id=\"line2d_7\">\r\n    <path clip-path=\"url(#pca48ea95b7)\" d=\"M 55.068891 306.056087 \r\nL 94.199299 306.056087 \r\nL 94.199299 189.834275 \r\nL 55.068891 189.834275 \r\n\" style=\"fill:none;stroke:#808080;stroke-linecap:square;stroke-width:1.5;\"/>\r\n   </g>\r\n   <g id=\"line2d_8\">\r\n    <path clip-path=\"url(#pca48ea95b7)\" d=\"M 392.4 465.970309 \r\nL 392.4 29.046205 \r\n\" style=\"fill:none;stroke:#808080;stroke-linecap:square;stroke-width:1.5;\"/>\r\n   </g>\r\n   <g id=\"patch_2\">\r\n    <path clip-path=\"url(#pca48ea95b7)\" d=\"M 392.4 306.878532 \r\nC 408.145181 306.878532 423.2476 300.622905 434.381124 289.489381 \r\nC 445.514648 278.355857 451.770275 263.253438 451.770275 247.508257 \r\nC 451.770275 231.763076 445.514648 216.660657 434.381124 205.527133 \r\nC 423.2476 194.393608 408.145181 188.137982 392.4 188.137982 \r\nC 376.654819 188.137982 361.5524 194.393608 350.418876 205.527133 \r\nC 339.285352 216.660657 333.029725 231.763076 333.029725 247.508257 \r\nC 333.029725 263.253438 339.285352 278.355857 350.418876 289.489381 \r\nC 361.5524 300.622905 376.654819 306.878532 392.4 306.878532 \r\nz\r\n\" style=\"fill:none;stroke:#808080;stroke-linejoin:miter;stroke-width:1.5;\"/>\r\n   </g>\r\n   <g id=\"patch_3\">\r\n    <path clip-path=\"url(#pca48ea95b7)\" d=\"M 614.983705 201.2063 \r\nC 608.052364 206.76929 602.457831 213.818351 598.614107 221.831847 \r\nC 594.770383 229.845344 592.774679 238.620606 592.774679 247.508257 \r\nC 592.774679 256.395908 594.770383 265.17117 598.614107 273.184666 \r\nC 602.457831 281.198163 608.052364 288.247224 614.983705 293.810213 \r\n\" style=\"fill:none;stroke:#808080;stroke-linejoin:miter;stroke-width:1.5;\"/>\r\n   </g>\r\n   <g id=\"patch_4\">\r\n    <path clip-path=\"url(#pca48ea95b7)\" d=\"M 169.816295 293.810213 \r\nC 176.747636 288.247224 182.342169 281.198163 186.185893 273.184666 \r\nC 190.029617 265.17117 192.025321 256.395908 192.025321 247.508257 \r\nC 192.025321 238.620606 190.029617 229.845344 186.185893 221.831847 \r\nC 182.342169 213.818351 176.747636 206.76929 169.816295 201.2063 \r\n\" style=\"fill:none;stroke:#808080;stroke-linejoin:miter;stroke-width:1.5;\"/>\r\n   </g>\r\n  </g>\r\n </g>\r\n <defs>\r\n  <clipPath id=\"pca48ea95b7\">\r\n   <rect height=\"480.616514\" width=\"770.4\" x=\"7.2\" y=\"7.2\"/>\r\n  </clipPath>\r\n </defs>\r\n</svg>\r\n",
      "image/png": "[encoded data removed]"
     },
     "metadata": {
      "needs_background": "light"
     }
    }
   ],
   "source": [
    "\n",
    "fig, ax = plt.subplots(figsize=(11,7))\n",
    "ax.axis(\"off\")\n",
    "\n",
    "for line in lines:\n",
    "    ax.plot(line[first], line[second],\n",
    "            color=line_color,\n",
    "            lw=line_thickness,\n",
    "            zorder=-1)\n",
    "\n",
    "for point in points:\n",
    "    ax.scatter(point[first], point[second],\n",
    "               color=line_color,\n",
    "               s=point_size,\n",
    "               zorder=-1)\n",
    "\n",
    "circle = plt.Circle((circle_points[first], circle_points[second]),\n",
    "                     x_max * 0.088,\n",
    "                     lw=line_thickness,\n",
    "                     color=line_color,\n",
    "                     fill=False,\n",
    "                     zorder=-1)\n",
    "\n",
    "ax.add_artist(circle)\n",
    "\n",
    "arc1 = Arc((arc_points1[first], arc_points1[second]),\n",
    "           height=x_max * 0.088 * 2,\n",
    "           width=x_max * 0.088 * 2,\n",
    "           angle=arc_angle,\n",
    "           theta1=128.75,\n",
    "           theta2=231.25,\n",
    "           color=line_color,\n",
    "           lw=line_thickness,\n",
    "           zorder=-1)\n",
    "\n",
    "ax.add_artist(arc1)\n",
    "\n",
    "arc2 = Arc((arc_points2[first], arc_points2[second]),\n",
    "           height=x_max * 0.088 * 2,\n",
    "           width=x_max * 0.088 * 2,\n",
    "           angle=arc_angle,\n",
    "           theta1=308.75,\n",
    "           theta2=51.25,\n",
    "           color=line_color,\n",
    "           lw=line_thickness,\n",
    "           zorder=-1)\n",
    "\n",
    "ax.add_artist(arc2)\n",
    "\n",
    "ax.set_aspect(\"equal\")\n",
    "plt.tight_layout()\n",
    "plt.show()\n"
   ]
  },
  {
   "cell_type": "code",
   "execution_count": 20,
   "metadata": {},
   "outputs": [
    {
     "output_type": "display_data",
     "data": {
      "text/plain": "<Figure size 504x792 with 1 Axes>",
      "image/svg+xml": "<?xml version=\"1.0\" encoding=\"utf-8\" standalone=\"no\"?>\r\n<!DOCTYPE svg PUBLIC \"-//W3C//DTD SVG 1.1//EN\"\r\n  \"http://www.w3.org/Graphics/SVG/1.1/DTD/svg11.dtd\">\r\n<!-- Created with matplotlib (https://matplotlib.org/) -->\r\n<svg height=\"784.8pt\" version=\"1.1\" viewBox=\"0 0 495.016514 784.8\" width=\"495.016514pt\" xmlns=\"http://www.w3.org/2000/svg\" xmlns:xlink=\"http://www.w3.org/1999/xlink\">\r\n <metadata>\r\n  <rdf:RDF xmlns:cc=\"http://creativecommons.org/ns#\" xmlns:dc=\"http://purl.org/dc/elements/1.1/\" xmlns:rdf=\"http://www.w3.org/1999/02/22-rdf-syntax-ns#\">\r\n   <cc:Work>\r\n    <dc:type rdf:resource=\"http://purl.org/dc/dcmitype/StillImage\"/>\r\n    <dc:date>2020-12-17T00:05:58.587582</dc:date>\r\n    <dc:format>image/svg+xml</dc:format>\r\n    <dc:creator>\r\n     <cc:Agent>\r\n      <dc:title>Matplotlib v3.3.3, https://matplotlib.org/</dc:title>\r\n     </cc:Agent>\r\n    </dc:creator>\r\n   </cc:Work>\r\n  </rdf:RDF>\r\n </metadata>\r\n <defs>\r\n  <style type=\"text/css\">*{stroke-linecap:butt;stroke-linejoin:round;}</style>\r\n </defs>\r\n <g id=\"figure_1\">\r\n  <g id=\"patch_1\">\r\n   <path d=\"M 0 784.8 \r\nL 495.016514 784.8 \r\nL 495.016514 0 \r\nL 0 0 \r\nz\r\n\" style=\"fill:none;\"/>\r\n  </g>\r\n  <g id=\"axes_1\">\r\n   <g id=\"PathCollection_1\">\r\n    <defs>\r\n     <path d=\"M 0 2.236068 \r\nC 0.593012 2.236068 1.161816 2.000462 1.581139 1.581139 \r\nC 2.000462 1.161816 2.236068 0.593012 2.236068 0 \r\nC 2.236068 -0.593012 2.000462 -1.161816 1.581139 -1.581139 \r\nC 1.161816 -2.000462 0.593012 -2.236068 0 -2.236068 \r\nC -0.593012 -2.236068 -1.161816 -2.000462 -1.581139 -1.581139 \r\nC -2.000462 -1.161816 -2.236068 -0.593012 -2.236068 0 \r\nC -2.236068 0.593012 -2.000462 1.161816 -1.581139 1.581139 \r\nC -1.161816 2.000462 -0.593012 2.236068 0 2.236068 \r\nz\r\n\" id=\"m398f14d6a2\" style=\"stroke:#808080;\"/>\r\n    </defs>\r\n    <g clip-path=\"url(#p424c9511ad)\">\r\n     <use style=\"fill:#808080;stroke:#808080;\" x=\"247.508257\" xlink:href=\"#m398f14d6a2\" y=\"132.655046\"/>\r\n    </g>\r\n   </g>\r\n   <g id=\"PathCollection_2\">\r\n    <g clip-path=\"url(#p424c9511ad)\">\r\n     <use style=\"fill:#808080;stroke:#808080;\" x=\"247.508257\" xlink:href=\"#m398f14d6a2\" y=\"652.144954\"/>\r\n    </g>\r\n   </g>\r\n   <g id=\"PathCollection_3\">\r\n    <g clip-path=\"url(#p424c9511ad)\">\r\n     <use style=\"fill:#808080;stroke:#808080;\" x=\"247.508257\" xlink:href=\"#m398f14d6a2\" y=\"392.4\"/>\r\n    </g>\r\n   </g>\r\n   <g id=\"line2d_1\">\r\n    <path clip-path=\"url(#p424c9511ad)\" d=\"M 29.046205 729.731109 \r\nL 29.046205 55.068891 \r\nL 465.970309 55.068891 \r\nL 465.970309 729.731109 \r\nL 29.046205 729.731109 \r\n\" style=\"fill:none;stroke:#808080;stroke-linecap:square;stroke-width:1.5;\"/>\r\n   </g>\r\n   <g id=\"line2d_2\">\r\n    <path clip-path=\"url(#p424c9511ad)\" d=\"M 121.237191 55.068891 \r\nL 121.237191 169.761468 \r\nL 373.779323 169.761468 \r\nL 373.779323 55.068891 \r\n\" style=\"fill:none;stroke:#808080;stroke-linecap:square;stroke-width:1.5;\"/>\r\n   </g>\r\n   <g id=\"line2d_3\">\r\n    <path clip-path=\"url(#p424c9511ad)\" d=\"M 121.237191 729.731109 \r\nL 121.237191 615.038532 \r\nL 373.779323 615.038532 \r\nL 373.779323 729.731109 \r\n\" style=\"fill:none;stroke:#808080;stroke-linecap:square;stroke-width:1.5;\"/>\r\n   </g>\r\n   <g id=\"line2d_4\">\r\n    <path clip-path=\"url(#p424c9511ad)\" d=\"M 226.5359 55.068891 \r\nL 226.5359 42.218182 \r\nL 268.480614 42.218182 \r\nL 268.480614 55.068891 \r\n\" style=\"fill:none;stroke:#808080;stroke-linecap:square;stroke-width:1.5;\"/>\r\n   </g>\r\n   <g id=\"line2d_5\">\r\n    <path clip-path=\"url(#p424c9511ad)\" d=\"M 226.5359 729.731109 \r\nL 226.5359 742.581818 \r\nL 268.480614 742.581818 \r\nL 268.480614 729.731109 \r\n\" style=\"fill:none;stroke:#808080;stroke-linecap:square;stroke-width:1.5;\"/>\r\n   </g>\r\n   <g id=\"line2d_6\">\r\n    <path clip-path=\"url(#p424c9511ad)\" d=\"M 188.960427 55.068891 \r\nL 188.960427 94.199299 \r\nL 305.182239 94.199299 \r\nL 305.182239 55.068891 \r\n\" style=\"fill:none;stroke:#808080;stroke-linecap:square;stroke-width:1.5;\"/>\r\n   </g>\r\n   <g id=\"line2d_7\">\r\n    <path clip-path=\"url(#p424c9511ad)\" d=\"M 188.960427 729.731109 \r\nL 188.960427 690.600701 \r\nL 305.182239 690.600701 \r\nL 305.182239 729.731109 \r\n\" style=\"fill:none;stroke:#808080;stroke-linecap:square;stroke-width:1.5;\"/>\r\n   </g>\r\n   <g id=\"line2d_8\">\r\n    <path clip-path=\"url(#p424c9511ad)\" d=\"M 29.046205 392.4 \r\nL 465.970309 392.4 \r\n\" style=\"fill:none;stroke:#808080;stroke-linecap:square;stroke-width:1.5;\"/>\r\n   </g>\r\n   <g id=\"patch_2\">\r\n    <path clip-path=\"url(#p424c9511ad)\" d=\"M 247.508257 451.770275 \r\nC 263.253438 451.770275 278.355857 445.514648 289.489381 434.381124 \r\nC 300.622905 423.2476 306.878532 408.145181 306.878532 392.4 \r\nC 306.878532 376.654819 300.622905 361.5524 289.489381 350.418876 \r\nC 278.355857 339.285352 263.253438 333.029725 247.508257 333.029725 \r\nC 231.763076 333.029725 216.660657 339.285352 205.527133 350.418876 \r\nC 194.393608 361.5524 188.137982 376.654819 188.137982 392.4 \r\nC 188.137982 408.145181 194.393608 423.2476 205.527133 434.381124 \r\nC 216.660657 445.514648 231.763076 451.770275 247.508257 451.770275 \r\nz\r\n\" style=\"fill:none;stroke:#808080;stroke-linejoin:miter;stroke-width:1.5;\"/>\r\n   </g>\r\n   <g id=\"patch_3\">\r\n    <path clip-path=\"url(#p424c9511ad)\" d=\"M 201.2063 169.816295 \r\nC 206.76929 176.747636 213.818351 182.342169 221.831847 186.185893 \r\nC 229.845344 190.029617 238.620606 192.025321 247.508257 192.025321 \r\nC 256.395908 192.025321 265.17117 190.029617 273.184666 186.185893 \r\nC 281.198163 182.342169 288.247224 176.747636 293.810213 169.816295 \r\n\" style=\"fill:none;stroke:#808080;stroke-linejoin:miter;stroke-width:1.5;\"/>\r\n   </g>\r\n   <g id=\"patch_4\">\r\n    <path clip-path=\"url(#p424c9511ad)\" d=\"M 293.810213 614.983705 \r\nC 288.247224 608.052364 281.198163 602.457831 273.184666 598.614107 \r\nC 265.17117 594.770383 256.395908 592.774679 247.508257 592.774679 \r\nC 238.620606 592.774679 229.845344 594.770383 221.831847 598.614107 \r\nC 213.818351 602.457831 206.76929 608.052364 201.2063 614.983705 \r\n\" style=\"fill:none;stroke:#808080;stroke-linejoin:miter;stroke-width:1.5;\"/>\r\n   </g>\r\n  </g>\r\n </g>\r\n <defs>\r\n  <clipPath id=\"p424c9511ad\">\r\n   <rect height=\"770.4\" width=\"480.616514\" x=\"7.2\" y=\"7.2\"/>\r\n  </clipPath>\r\n </defs>\r\n</svg>\r\n",
      "image/png": "[encoded data removed]"
     },
     "metadata": {
      "needs_background": "light"
     }
    }
   ],
   "source": [
    "\n",
    "first = 1\n",
    "second = 0\n",
    "arc_angle = 90\n",
    "\n",
    "fig, ax = plt.subplots(figsize=(7,11))\n",
    "ax.axis(\"off\")\n",
    "\n",
    "for line in lines:\n",
    "    ax.plot(line[first], line[second],\n",
    "            color=line_color,\n",
    "            lw=line_thickness,\n",
    "            zorder=-1)\n",
    "\n",
    "for point in points:\n",
    "    ax.scatter(point[first], point[second],\n",
    "               color=line_color,\n",
    "               s=point_size,\n",
    "               zorder=-1)\n",
    "\n",
    "circle = plt.Circle((circle_points[first], circle_points[second]),\n",
    "                     x_max * 0.088,\n",
    "                     lw=line_thickness,\n",
    "                     color=line_color,\n",
    "                     fill=False,\n",
    "                     zorder=-1)\n",
    "\n",
    "ax.add_artist(circle)\n",
    "\n",
    "arc1 = Arc((arc_points1[first], arc_points1[second]),\n",
    "           height=x_max * 0.088 * 2,\n",
    "           width=x_max * 0.088 * 2,\n",
    "           angle=arc_angle,\n",
    "           theta1=128.75,\n",
    "           theta2=231.25,\n",
    "           color=line_color,\n",
    "           lw=line_thickness,\n",
    "           zorder=-1)\n",
    "\n",
    "ax.add_artist(arc1)\n",
    "\n",
    "arc2 = Arc((arc_points2[first], arc_points2[second]),\n",
    "           height=x_max * 0.088 * 2,\n",
    "           width=x_max * 0.088 * 2,\n",
    "           angle=arc_angle,\n",
    "           theta1=308.75,\n",
    "           theta2=51.25,\n",
    "           color=line_color,\n",
    "           lw=line_thickness,\n",
    "           zorder=-1)\n",
    "\n",
    "ax.add_artist(arc2)\n",
    "\n",
    "ax.set_aspect(\"equal\")\n",
    "plt.tight_layout()\n",
    "plt.show()\n"
   ]
  },
  {
   "source": [
    "## Function to draw a map"
   ],
   "cell_type": "markdown",
   "metadata": {}
  },
  {
   "cell_type": "code",
   "execution_count": 9,
   "metadata": {},
   "outputs": [],
   "source": [
    "\n",
    "def draw_pitch(x_min=0, x_max=105,\n",
    "               y_min=0, y_max=68,\n",
    "               pitch_color=\"w\",\n",
    "               line_color=\"grey\",\n",
    "               line_thickness=1.5,\n",
    "               point_size=20,\n",
    "               orientation=\"horizontal\",\n",
    "               aspect=\"full\",\n",
    "               ax=None\n",
    "               ):\n",
    "\n",
    "    if not ax:\n",
    "        raise TypeError(\"This function is intended to be used with an existing fig and ax in order to allow flexibility in plotting of various sizes and in subplots.\")\n",
    "\n",
    "\n",
    "    if orientation.lower().startswith(\"h\"):\n",
    "        first = 0\n",
    "        second = 1\n",
    "        arc_angle = 0\n",
    "\n",
    "        if aspect == \"half\":\n",
    "            ax.set_xlim(x_max / 2, x_max + 5)\n",
    "\n",
    "    elif orientation.lower().startswith(\"v\"):\n",
    "        first = 1\n",
    "        second = 0\n",
    "        arc_angle = 90\n",
    "\n",
    "        if aspect == \"half\":\n",
    "            ax.set_ylim(x_max / 2, x_max + 5)\n",
    "\n",
    "    \n",
    "    else:\n",
    "        raise NameError(\"You must choose one of horizontal or vertical\")\n",
    "\n",
    "    \n",
    "    ax.axis(\"off\")\n",
    "\n",
    "    rect = plt.Rectangle((x_min, y_min),\n",
    "                         x_max, y_max,\n",
    "                         facecolor=pitch_color,\n",
    "                         edgecolor=\"none\",\n",
    "                         zorder=-2)\n",
    "\n",
    "    ax.add_artist(rect)\n",
    "\n",
    "    x_conversion = x_max / 100\n",
    "    y_conversion = y_max / 100\n",
    "\n",
    "    pitch_x = [0,5.8,11.5,17,50,83,88.5,94.2,100] # pitch x markings\n",
    "    pitch_x = [x * x_conversion for x in pitch_x]\n",
    "\n",
    "    pitch_y = [0, 21.1, 36.6, 50, 63.2, 78.9, 100] # pitch y markings\n",
    "    pitch_y = [x * y_conversion for x in pitch_y]\n",
    "\n",
    "    goal_y = [45.2, 54.8] # goal posts\n",
    "    goal_y = [x * y_conversion for x in goal_y]\n",
    "\n",
    "    # side and goal lines\n",
    "    lx1 = [x_min, x_max, x_max, x_min, x_min]\n",
    "    ly1 = [y_min, y_min, y_max, y_max, y_min]\n",
    "\n",
    "    # outer boxed\n",
    "    lx2 = [x_max, pitch_x[5], pitch_x[5], x_max]\n",
    "    ly2 = [pitch_y[1], pitch_y[1], pitch_y[5], pitch_y[5]]\n",
    "\n",
    "    lx3 = [0, pitch_x[3], pitch_x[3], 0]\n",
    "    ly3 = [pitch_y[1], pitch_y[1], pitch_y[5], pitch_y[5]]\n",
    "\n",
    "    # goals\n",
    "    lx4 = [x_max, x_max+2, x_max+2, x_max]\n",
    "    ly4 = [goal_y[0], goal_y[0], goal_y[1], goal_y[1]]\n",
    "\n",
    "    lx5 = [0, -2, -2, 0]\n",
    "    ly5 = [goal_y[0], goal_y[0], goal_y[1], goal_y[1]]\n",
    "\n",
    "    # 6 yard boxes\n",
    "    lx6 = [x_max, pitch_x[7], pitch_x[7], x_max]\n",
    "    ly6 = [pitch_y[2],pitch_y[2], pitch_y[4], pitch_y[4]]\n",
    "\n",
    "    lx7 = [0, pitch_x[1], pitch_x[1], 0]\n",
    "    ly7 = [pitch_y[2],pitch_y[2], pitch_y[4], pitch_y[4]]\n",
    "\n",
    "\n",
    "    # Halfway line, penalty spots, and kickoff spot\n",
    "    lx8 = [pitch_x[4], pitch_x[4]]\n",
    "    ly8 = [0, y_max]\n",
    "\n",
    "    lines = [\n",
    "        [lx1, ly1],\n",
    "        [lx2, ly2],\n",
    "        [lx3, ly3],\n",
    "        [lx4, ly4],\n",
    "        [lx5, ly5],\n",
    "        [lx6, ly6],\n",
    "        [lx7, ly7],\n",
    "        [lx8, ly8],\n",
    "        ]\n",
    "\n",
    "    points = [\n",
    "        [pitch_x[6], pitch_y[3]],\n",
    "        [pitch_x[2], pitch_y[3]],\n",
    "        [pitch_x[4], pitch_y[3]]\n",
    "        ]\n",
    "\n",
    "    circle_points = [pitch_x[4], pitch_y[3]]\n",
    "    arc_points1 = [pitch_x[6], pitch_y[3]]\n",
    "    arc_points2 = [pitch_x[2], pitch_y[3]]\n",
    "\n",
    "\n",
    "    for line in lines:\n",
    "        ax.plot(line[first], line[second],\n",
    "                color=line_color,\n",
    "                lw=line_thickness,\n",
    "                zorder=-1)\n",
    "\n",
    "    for point in points:\n",
    "        ax.scatter(point[first], point[second],\n",
    "                   color=line_color,\n",
    "                   s=point_size,\n",
    "                   zorder=-1)\n",
    "\n",
    "    circle = plt.Circle((circle_points[first], circle_points[second]),\n",
    "                        x_max * 0.088,\n",
    "                        lw=line_thickness,\n",
    "                        color=line_color,\n",
    "                        fill=False,\n",
    "                        zorder=-1)\n",
    "\n",
    "    ax.add_artist(circle)\n",
    "\n",
    "    arc1 = Arc((arc_points1[first], arc_points1[second]),\n",
    "               height=x_max * 0.088 * 2,\n",
    "               width=x_max * 0.088 * 2,\n",
    "               angle=arc_angle,\n",
    "               theta1=128.75,\n",
    "               theta2=231.25,\n",
    "               color=line_color,\n",
    "               lw=line_thickness,\n",
    "               zorder=-1)\n",
    "\n",
    "    ax.add_artist(arc1)\n",
    "\n",
    "    arc2 = Arc((arc_points2[first], arc_points2[second]),\n",
    "               height=x_max * 0.088 * 2,\n",
    "               width=x_max * 0.088 * 2,\n",
    "               angle=arc_angle,\n",
    "               theta1=308.75,\n",
    "               theta2=51.25,\n",
    "               color=line_color,\n",
    "               lw=line_thickness,\n",
    "               zorder=-1)\n",
    "\n",
    "    ax.add_artist(arc2)\n",
    "\n",
    "    ax.set_aspect(\"equal\")\n",
    "\n",
    "    return ax\n",
    "    "
   ]
  },
  {
   "source": [
    "## Horizontal field"
   ],
   "cell_type": "markdown",
   "metadata": {}
  },
  {
   "cell_type": "code",
   "execution_count": 7,
   "metadata": {},
   "outputs": [],
   "source": [
    "data  = pd.read_csv(\"C:/Users/jacky/Downloads/Work/ESILV/Projets/HeungMinSon/data/event/goal_burnley_5.csv\")"
   ]
  },
  {
   "cell_type": "code",
   "execution_count": null,
   "metadata": {},
   "outputs": [],
   "source": []
  },
  {
   "cell_type": "code",
   "execution_count": 32,
   "metadata": {},
   "outputs": [
    {
     "output_type": "error",
     "ename": "KeyError",
     "evalue": "13",
     "traceback": [
      "\u001b[1;31m---------------------------------------------------------------------------\u001b[0m",
      "\u001b[1;31mValueError\u001b[0m                                Traceback (most recent call last)",
      "\u001b[1;32m~\\AppData\\Local\\Programs\\Python\\Python39\\lib\\site-packages\\pandas\\core\\indexes\\range.py\u001b[0m in \u001b[0;36mget_loc\u001b[1;34m(self, key, method, tolerance)\u001b[0m\n\u001b[0;32m    354\u001b[0m                 \u001b[1;32mtry\u001b[0m\u001b[1;33m:\u001b[0m\u001b[1;33m\u001b[0m\u001b[1;33m\u001b[0m\u001b[0m\n\u001b[1;32m--> 355\u001b[1;33m                     \u001b[1;32mreturn\u001b[0m \u001b[0mself\u001b[0m\u001b[1;33m.\u001b[0m\u001b[0m_range\u001b[0m\u001b[1;33m.\u001b[0m\u001b[0mindex\u001b[0m\u001b[1;33m(\u001b[0m\u001b[0mnew_key\u001b[0m\u001b[1;33m)\u001b[0m\u001b[1;33m\u001b[0m\u001b[1;33m\u001b[0m\u001b[0m\n\u001b[0m\u001b[0;32m    356\u001b[0m                 \u001b[1;32mexcept\u001b[0m \u001b[0mValueError\u001b[0m \u001b[1;32mas\u001b[0m \u001b[0merr\u001b[0m\u001b[1;33m:\u001b[0m\u001b[1;33m\u001b[0m\u001b[1;33m\u001b[0m\u001b[0m\n",
      "\u001b[1;31mValueError\u001b[0m: 13 is not in range",
      "\nThe above exception was the direct cause of the following exception:\n",
      "\u001b[1;31mKeyError\u001b[0m                                  Traceback (most recent call last)",
      "\u001b[1;32m<ipython-input-32-826b9eff12cb>\u001b[0m in \u001b[0;36m<module>\u001b[1;34m\u001b[0m\n\u001b[0;32m     11\u001b[0m \u001b[1;33m\u001b[0m\u001b[0m\n\u001b[0;32m     12\u001b[0m \u001b[1;32mfor\u001b[0m \u001b[0mi\u001b[0m \u001b[1;32min\u001b[0m \u001b[0mrange\u001b[0m \u001b[1;33m(\u001b[0m\u001b[1;36m0\u001b[0m\u001b[1;33m,\u001b[0m\u001b[1;36m13\u001b[0m\u001b[1;33m,\u001b[0m\u001b[1;36m1\u001b[0m\u001b[1;33m)\u001b[0m \u001b[1;33m:\u001b[0m\u001b[1;33m\u001b[0m\u001b[1;33m\u001b[0m\u001b[0m\n\u001b[1;32m---> 13\u001b[1;33m     \u001b[0mplt\u001b[0m\u001b[1;33m.\u001b[0m\u001b[0mplot\u001b[0m\u001b[1;33m(\u001b[0m\u001b[1;33m[\u001b[0m\u001b[0mint\u001b[0m\u001b[1;33m(\u001b[0m\u001b[0mdata\u001b[0m\u001b[1;33m[\u001b[0m\u001b[1;34m\"Y\"\u001b[0m\u001b[1;33m]\u001b[0m\u001b[1;33m[\u001b[0m\u001b[0mi\u001b[0m\u001b[1;33m]\u001b[0m\u001b[1;33m)\u001b[0m\u001b[1;33m*\u001b[0m\u001b[0mx_conversion\u001b[0m\u001b[1;33m,\u001b[0m \u001b[0mint\u001b[0m\u001b[1;33m(\u001b[0m\u001b[0mdata\u001b[0m\u001b[1;33m[\u001b[0m\u001b[1;34m'Y'\u001b[0m\u001b[1;33m]\u001b[0m\u001b[1;33m[\u001b[0m\u001b[0mi\u001b[0m\u001b[1;33m+\u001b[0m\u001b[1;36m1\u001b[0m\u001b[1;33m]\u001b[0m\u001b[1;33m)\u001b[0m\u001b[1;33m*\u001b[0m\u001b[0mx_conversion\u001b[0m\u001b[1;33m]\u001b[0m\u001b[1;33m,\u001b[0m \u001b[1;33m[\u001b[0m\u001b[0mint\u001b[0m\u001b[1;33m(\u001b[0m\u001b[0mdata\u001b[0m\u001b[1;33m[\u001b[0m\u001b[1;34m\"X\"\u001b[0m\u001b[1;33m]\u001b[0m\u001b[1;33m[\u001b[0m\u001b[0mi\u001b[0m\u001b[1;33m]\u001b[0m\u001b[1;33m)\u001b[0m\u001b[1;33m*\u001b[0m\u001b[0my_conversion\u001b[0m\u001b[1;33m,\u001b[0m \u001b[0mint\u001b[0m\u001b[1;33m(\u001b[0m\u001b[0mdata\u001b[0m\u001b[1;33m[\u001b[0m\u001b[1;34m\"X\"\u001b[0m\u001b[1;33m]\u001b[0m\u001b[1;33m[\u001b[0m\u001b[0mi\u001b[0m\u001b[1;33m+\u001b[0m\u001b[1;36m1\u001b[0m\u001b[1;33m]\u001b[0m\u001b[1;33m)\u001b[0m\u001b[1;33m*\u001b[0m\u001b[0my_conversion\u001b[0m\u001b[1;33m]\u001b[0m\u001b[1;33m,\u001b[0m \u001b[0mcolor\u001b[0m \u001b[1;33m=\u001b[0m \u001b[1;34m\"w\"\u001b[0m\u001b[1;33m)\u001b[0m\u001b[1;33m\u001b[0m\u001b[1;33m\u001b[0m\u001b[0m\n\u001b[0m\u001b[0;32m     14\u001b[0m \u001b[1;33m\u001b[0m\u001b[0m\n\u001b[0;32m     15\u001b[0m     \u001b[0mplt\u001b[0m\u001b[1;33m.\u001b[0m\u001b[0mplot\u001b[0m\u001b[1;33m(\u001b[0m\u001b[0mint\u001b[0m\u001b[1;33m(\u001b[0m\u001b[0mdata\u001b[0m\u001b[1;33m[\u001b[0m\u001b[1;34m\"Y\"\u001b[0m\u001b[1;33m]\u001b[0m\u001b[1;33m[\u001b[0m\u001b[0mi\u001b[0m\u001b[1;33m]\u001b[0m\u001b[1;33m)\u001b[0m\u001b[1;33m*\u001b[0m\u001b[0mx_conversion\u001b[0m\u001b[1;33m,\u001b[0m \u001b[0mint\u001b[0m\u001b[1;33m(\u001b[0m\u001b[0mdata\u001b[0m\u001b[1;33m[\u001b[0m\u001b[1;34m\"X\"\u001b[0m\u001b[1;33m]\u001b[0m\u001b[1;33m[\u001b[0m\u001b[0mi\u001b[0m\u001b[1;33m]\u001b[0m\u001b[1;33m)\u001b[0m\u001b[1;33m*\u001b[0m\u001b[0my_conversion\u001b[0m\u001b[1;33m,\u001b[0m \u001b[1;34m\"o\"\u001b[0m\u001b[1;33m,\u001b[0m \u001b[0mcolor\u001b[0m \u001b[1;33m=\u001b[0m\u001b[1;34m\"w\"\u001b[0m\u001b[1;33m)\u001b[0m\u001b[1;33m\u001b[0m\u001b[1;33m\u001b[0m\u001b[0m\n",
      "\u001b[1;32m~\\AppData\\Local\\Programs\\Python\\Python39\\lib\\site-packages\\pandas\\core\\series.py\u001b[0m in \u001b[0;36m__getitem__\u001b[1;34m(self, key)\u001b[0m\n\u001b[0;32m    880\u001b[0m \u001b[1;33m\u001b[0m\u001b[0m\n\u001b[0;32m    881\u001b[0m         \u001b[1;32melif\u001b[0m \u001b[0mkey_is_scalar\u001b[0m\u001b[1;33m:\u001b[0m\u001b[1;33m\u001b[0m\u001b[1;33m\u001b[0m\u001b[0m\n\u001b[1;32m--> 882\u001b[1;33m             \u001b[1;32mreturn\u001b[0m \u001b[0mself\u001b[0m\u001b[1;33m.\u001b[0m\u001b[0m_get_value\u001b[0m\u001b[1;33m(\u001b[0m\u001b[0mkey\u001b[0m\u001b[1;33m)\u001b[0m\u001b[1;33m\u001b[0m\u001b[1;33m\u001b[0m\u001b[0m\n\u001b[0m\u001b[0;32m    883\u001b[0m \u001b[1;33m\u001b[0m\u001b[0m\n\u001b[0;32m    884\u001b[0m         \u001b[1;32mif\u001b[0m \u001b[0mis_hashable\u001b[0m\u001b[1;33m(\u001b[0m\u001b[0mkey\u001b[0m\u001b[1;33m)\u001b[0m\u001b[1;33m:\u001b[0m\u001b[1;33m\u001b[0m\u001b[1;33m\u001b[0m\u001b[0m\n",
      "\u001b[1;32m~\\AppData\\Local\\Programs\\Python\\Python39\\lib\\site-packages\\pandas\\core\\series.py\u001b[0m in \u001b[0;36m_get_value\u001b[1;34m(self, label, takeable)\u001b[0m\n\u001b[0;32m    987\u001b[0m \u001b[1;33m\u001b[0m\u001b[0m\n\u001b[0;32m    988\u001b[0m         \u001b[1;31m# Similar to Index.get_value, but we do not fall back to positional\u001b[0m\u001b[1;33m\u001b[0m\u001b[1;33m\u001b[0m\u001b[1;33m\u001b[0m\u001b[0m\n\u001b[1;32m--> 989\u001b[1;33m         \u001b[0mloc\u001b[0m \u001b[1;33m=\u001b[0m \u001b[0mself\u001b[0m\u001b[1;33m.\u001b[0m\u001b[0mindex\u001b[0m\u001b[1;33m.\u001b[0m\u001b[0mget_loc\u001b[0m\u001b[1;33m(\u001b[0m\u001b[0mlabel\u001b[0m\u001b[1;33m)\u001b[0m\u001b[1;33m\u001b[0m\u001b[1;33m\u001b[0m\u001b[0m\n\u001b[0m\u001b[0;32m    990\u001b[0m         \u001b[1;32mreturn\u001b[0m \u001b[0mself\u001b[0m\u001b[1;33m.\u001b[0m\u001b[0mindex\u001b[0m\u001b[1;33m.\u001b[0m\u001b[0m_get_values_for_loc\u001b[0m\u001b[1;33m(\u001b[0m\u001b[0mself\u001b[0m\u001b[1;33m,\u001b[0m \u001b[0mloc\u001b[0m\u001b[1;33m,\u001b[0m \u001b[0mlabel\u001b[0m\u001b[1;33m)\u001b[0m\u001b[1;33m\u001b[0m\u001b[1;33m\u001b[0m\u001b[0m\n\u001b[0;32m    991\u001b[0m \u001b[1;33m\u001b[0m\u001b[0m\n",
      "\u001b[1;32m~\\AppData\\Local\\Programs\\Python\\Python39\\lib\\site-packages\\pandas\\core\\indexes\\range.py\u001b[0m in \u001b[0;36mget_loc\u001b[1;34m(self, key, method, tolerance)\u001b[0m\n\u001b[0;32m    355\u001b[0m                     \u001b[1;32mreturn\u001b[0m \u001b[0mself\u001b[0m\u001b[1;33m.\u001b[0m\u001b[0m_range\u001b[0m\u001b[1;33m.\u001b[0m\u001b[0mindex\u001b[0m\u001b[1;33m(\u001b[0m\u001b[0mnew_key\u001b[0m\u001b[1;33m)\u001b[0m\u001b[1;33m\u001b[0m\u001b[1;33m\u001b[0m\u001b[0m\n\u001b[0;32m    356\u001b[0m                 \u001b[1;32mexcept\u001b[0m \u001b[0mValueError\u001b[0m \u001b[1;32mas\u001b[0m \u001b[0merr\u001b[0m\u001b[1;33m:\u001b[0m\u001b[1;33m\u001b[0m\u001b[1;33m\u001b[0m\u001b[0m\n\u001b[1;32m--> 357\u001b[1;33m                     \u001b[1;32mraise\u001b[0m \u001b[0mKeyError\u001b[0m\u001b[1;33m(\u001b[0m\u001b[0mkey\u001b[0m\u001b[1;33m)\u001b[0m \u001b[1;32mfrom\u001b[0m \u001b[0merr\u001b[0m\u001b[1;33m\u001b[0m\u001b[1;33m\u001b[0m\u001b[0m\n\u001b[0m\u001b[0;32m    358\u001b[0m             \u001b[1;32mraise\u001b[0m \u001b[0mKeyError\u001b[0m\u001b[1;33m(\u001b[0m\u001b[0mkey\u001b[0m\u001b[1;33m)\u001b[0m\u001b[1;33m\u001b[0m\u001b[1;33m\u001b[0m\u001b[0m\n\u001b[0;32m    359\u001b[0m         \u001b[1;32mreturn\u001b[0m \u001b[0msuper\u001b[0m\u001b[1;33m(\u001b[0m\u001b[1;33m)\u001b[0m\u001b[1;33m.\u001b[0m\u001b[0mget_loc\u001b[0m\u001b[1;33m(\u001b[0m\u001b[0mkey\u001b[0m\u001b[1;33m,\u001b[0m \u001b[0mmethod\u001b[0m\u001b[1;33m=\u001b[0m\u001b[0mmethod\u001b[0m\u001b[1;33m,\u001b[0m \u001b[0mtolerance\u001b[0m\u001b[1;33m=\u001b[0m\u001b[0mtolerance\u001b[0m\u001b[1;33m)\u001b[0m\u001b[1;33m\u001b[0m\u001b[1;33m\u001b[0m\u001b[0m\n",
      "\u001b[1;31mKeyError\u001b[0m: 13"
     ]
    }
   ],
   "source": [
    "\n",
    "background = \"#303640\"\n",
    "\n",
    "fig, ax = plt.subplots(figsize=(11, 7))\n",
    "fig.set_facecolor(background)\n",
    "\n",
    "draw_pitch(orientation=\"h\",\n",
    "           aspect=\"full\",\n",
    "           pitch_color=background, \n",
    "           line_color=\"lightgrey\",\n",
    "           ax=ax)\n",
    "\n",
    "for i in range (0,len(data)-1,1) :\n",
    "    plt.plot([int(data[\"Y\"][i])*x_conversion, int(data['Y'][i+1])*x_conversion], [int(data[\"X\"][i])*y_conversion, int(data[\"X\"][i+1])*y_conversion], color = \"w\")\n",
    "\n",
    "    plt.plot(int(data[\"Y\"][i])*x_conversion, int(data[\"X\"][i])*y_conversion, \"o\", color =\"w\")\n",
    "\n",
    "fig.text(0.15,1, \"Son's goal against Burnley - Spurs 5-0 Burnley \\n\", fontsize = 16, fontweight = \"bold\", color = \"w\")\n",
    "fig.text(0.15,1, \"FIFA Puskas Award 2020 Winner\", fontsize = 14, fontweight = \"regular\", color = \"w\")\n",
    "\n",
    "ax2 = fig.add_axes([0.02,0.96,0.15,0.15]) # badge\n",
    "ax2.axis(\"off\")\n",
    "url = \"https://logos-world.net/wp-content/uploads/2020/06/Tottenham-Hotspur-Logo.png\"\n",
    "response = requests.get(url)\n",
    "img = Image.open(BytesIO(response.content))\n",
    "ax2.imshow(img)\n",
    "\n",
    "fig.text(0.05, -0.025, \"Created by Jacky KUOCH / @jacky_kch\",\n",
    "        fontstyle=\"italic\",fontsize=9, color=\"w\")\n",
    "\n",
    "plt.tight_layout()\n",
    "\n",
    "plt.savefig(f\"../coding/goal_burnley/test{i}\", dpi = 300, bbox_inches = \"tight\")\n",
    "plt.show()\n"
   ]
  },
  {
   "cell_type": "code",
   "execution_count": null,
   "metadata": {},
   "outputs": [],
   "source": []
  },
  {
   "cell_type": "code",
   "execution_count": 19,
   "metadata": {},
   "outputs": [
    {
     "output_type": "display_data",
     "data": {
      "text/plain": "<Figure size 792x504 with 1 Axes>",
      "image/svg+xml": "<?xml version=\"1.0\" encoding=\"utf-8\" standalone=\"no\"?>\r\n<!DOCTYPE svg PUBLIC \"-//W3C//DTD SVG 1.1//EN\"\r\n  \"http://www.w3.org/Graphics/SVG/1.1/DTD/svg11.dtd\">\r\n<!-- Created with matplotlib (https://matplotlib.org/) -->\r\n<svg height=\"496.8pt\" version=\"1.1\" viewBox=\"0 0 315.346789 496.8\" width=\"315.346789pt\" xmlns=\"http://www.w3.org/2000/svg\" xmlns:xlink=\"http://www.w3.org/1999/xlink\">\r\n <metadata>\r\n  <rdf:RDF xmlns:cc=\"http://creativecommons.org/ns#\" xmlns:dc=\"http://purl.org/dc/elements/1.1/\" xmlns:rdf=\"http://www.w3.org/1999/02/22-rdf-syntax-ns#\">\r\n   <cc:Work>\r\n    <dc:type rdf:resource=\"http://purl.org/dc/dcmitype/StillImage\"/>\r\n    <dc:date>2020-12-18T10:58:06.664663</dc:date>\r\n    <dc:format>image/svg+xml</dc:format>\r\n    <dc:creator>\r\n     <cc:Agent>\r\n      <dc:title>Matplotlib v3.3.3, https://matplotlib.org/</dc:title>\r\n     </cc:Agent>\r\n    </dc:creator>\r\n   </cc:Work>\r\n  </rdf:RDF>\r\n </metadata>\r\n <defs>\r\n  <style type=\"text/css\">*{stroke-linecap:butt;stroke-linejoin:round;}</style>\r\n </defs>\r\n <g id=\"figure_1\">\r\n  <g id=\"patch_1\">\r\n   <path d=\"M 0 496.8 \r\nL 315.346789 496.8 \r\nL 315.346789 0 \r\nL 0 0 \r\nz\r\n\" style=\"fill:#303640;\"/>\r\n  </g>\r\n  <g id=\"axes_1\">\r\n   <g id=\"patch_2\">\r\n    <path clip-path=\"url(#pbd90c93302)\" d=\"M 20.879399 459.626022 \r\nL 443.331443 459.626022 \r\nL 443.331443 186.038032 \r\nL 20.879399 186.038032 \r\nz\r\n\" style=\"fill:#303640;\"/>\r\n   </g>\r\n   <g id=\"PathCollection_1\">\r\n    <defs>\r\n     <path d=\"M 0 2.236068 \r\nC 0.593012 2.236068 1.161816 2.000462 1.581139 1.581139 \r\nC 2.000462 1.161816 2.236068 0.593012 2.236068 0 \r\nC 2.236068 -0.593012 2.000462 -1.161816 1.581139 -1.581139 \r\nC 1.161816 -2.000462 0.593012 -2.236068 0 -2.236068 \r\nC -0.593012 -2.236068 -1.161816 -2.000462 -1.581139 -1.581139 \r\nC -2.000462 -1.161816 -2.236068 -0.593012 -2.236068 0 \r\nC -2.236068 0.593012 -2.000462 1.161816 -1.581139 1.581139 \r\nC -1.161816 2.000462 -0.593012 2.236068 0 2.236068 \r\nz\r\n\" id=\"mab94701643\" style=\"stroke:#d3d3d3;\"/>\r\n    </defs>\r\n    <g clip-path=\"url(#pbd90c93302)\">\r\n     <use style=\"fill:#d3d3d3;stroke:#d3d3d3;\" x=\"157.673394\" xlink:href=\"#mab94701643\" y=\"85.755963\"/>\r\n    </g>\r\n   </g>\r\n   <g id=\"PathCollection_2\">\r\n    <g clip-path=\"url(#pbd90c93302)\">\r\n     <use style=\"fill:#d3d3d3;stroke:#d3d3d3;\" x=\"157.673394\" xlink:href=\"#mab94701643\" y=\"411.044037\"/>\r\n    </g>\r\n   </g>\r\n   <g id=\"PathCollection_3\">\r\n    <g clip-path=\"url(#pbd90c93302)\">\r\n     <use style=\"fill:#d3d3d3;stroke:#d3d3d3;\" x=\"157.673394\" xlink:href=\"#mab94701643\" y=\"248.4\"/>\r\n    </g>\r\n   </g>\r\n   <g id=\"line2d_1\">\r\n    <path clip-path=\"url(#pbd90c93302)\" d=\"M 20.879399 459.626022 \r\nL 20.879399 37.173978 \r\nL 294.467389 37.173978 \r\nL 294.467389 459.626022 \r\nL 20.879399 459.626022 \r\n\" style=\"fill:none;stroke:#d3d3d3;stroke-linecap:square;stroke-width:1.5;\"/>\r\n   </g>\r\n   <g id=\"line2d_2\">\r\n    <path clip-path=\"url(#pbd90c93302)\" d=\"M 78.606465 37.173978 \r\nL 78.606465 108.990826 \r\nL 236.740324 108.990826 \r\nL 236.740324 37.173978 \r\n\" style=\"fill:none;stroke:#d3d3d3;stroke-linecap:square;stroke-width:1.5;\"/>\r\n   </g>\r\n   <g id=\"line2d_3\">\r\n    <path clip-path=\"url(#pbd90c93302)\" d=\"M 78.606465 459.626022 \r\nL 78.606465 387.809174 \r\nL 236.740324 387.809174 \r\nL 236.740324 459.626022 \r\n\" style=\"fill:none;stroke:#d3d3d3;stroke-linecap:square;stroke-width:1.5;\"/>\r\n   </g>\r\n   <g id=\"line2d_4\">\r\n    <path clip-path=\"url(#pbd90c93302)\" d=\"M 144.541171 37.173978 \r\nL 144.541171 29.127273 \r\nL 170.805618 29.127273 \r\nL 170.805618 37.173978 \r\n\" style=\"fill:none;stroke:#d3d3d3;stroke-linecap:square;stroke-width:1.5;\"/>\r\n   </g>\r\n   <g id=\"line2d_5\">\r\n    <path clip-path=\"url(#pbd90c93302)\" d=\"M 144.541171 459.626022 \r\nL 144.541171 467.672727 \r\nL 170.805618 467.672727 \r\nL 170.805618 459.626022 \r\n\" style=\"fill:none;stroke:#d3d3d3;stroke-linecap:square;stroke-width:1.5;\"/>\r\n   </g>\r\n   <g id=\"line2d_6\">\r\n    <path clip-path=\"url(#pbd90c93302)\" d=\"M 121.012604 37.173978 \r\nL 121.012604 61.676197 \r\nL 193.787009 61.676197 \r\nL 193.787009 37.173978 \r\n\" style=\"fill:none;stroke:#d3d3d3;stroke-linecap:square;stroke-width:1.5;\"/>\r\n   </g>\r\n   <g id=\"line2d_7\">\r\n    <path clip-path=\"url(#pbd90c93302)\" d=\"M 121.012604 459.626022 \r\nL 121.012604 435.123803 \r\nL 193.787009 435.123803 \r\nL 193.787009 459.626022 \r\n\" style=\"fill:none;stroke:#d3d3d3;stroke-linecap:square;stroke-width:1.5;\"/>\r\n   </g>\r\n   <g id=\"line2d_8\">\r\n    <path clip-path=\"url(#pbd90c93302)\" d=\"M 20.879399 248.4 \r\nL 294.467389 248.4 \r\n\" style=\"fill:none;stroke:#d3d3d3;stroke-linecap:square;stroke-width:1.5;\"/>\r\n   </g>\r\n   <g id=\"patch_3\">\r\n    <path clip-path=\"url(#pbd90c93302)\" d=\"M 157.673394 285.57578 \r\nC 167.532527 285.57578 176.989181 281.658705 183.96064 274.687246 \r\nC 190.9321 267.715787 194.849174 258.259132 194.849174 248.4 \r\nC 194.849174 238.540868 190.9321 229.084213 183.96064 222.112754 \r\nC 176.989181 215.141295 167.532527 211.22422 157.673394 211.22422 \r\nC 147.814262 211.22422 138.357608 215.141295 131.386148 222.112754 \r\nC 124.414689 229.084213 120.497615 238.540868 120.497615 248.4 \r\nC 120.497615 258.259132 124.414689 267.715787 131.386148 274.687246 \r\nC 138.357608 281.658705 147.814262 285.57578 157.673394 285.57578 \r\nz\r\n\" style=\"fill:none;stroke:#d3d3d3;stroke-linejoin:miter;stroke-width:1.5;\"/>\r\n   </g>\r\n   <g id=\"patch_4\">\r\n    <path clip-path=\"url(#pbd90c93302)\" d=\"M 128.680581 109.025156 \r\nC 132.163948 113.365342 136.577846 116.868461 141.595643 119.275279 \r\nC 146.613439 121.682097 152.10823 122.931743 157.673394 122.931743 \r\nC 163.238559 122.931743 168.73335 121.682097 173.751146 119.275279 \r\nC 178.768943 116.868461 183.182841 113.365342 186.666208 109.025156 \r\n\" style=\"fill:none;stroke:#d3d3d3;stroke-linejoin:miter;stroke-width:1.5;\"/>\r\n   </g>\r\n   <g id=\"patch_5\">\r\n    <path clip-path=\"url(#pbd90c93302)\" d=\"M 186.666208 387.774844 \r\nC 183.182841 383.434658 178.768943 379.931539 173.751146 377.524721 \r\nC 168.73335 375.117903 163.238559 373.868257 157.673394 373.868257 \r\nC 152.10823 373.868257 146.613439 375.117903 141.595643 377.524721 \r\nC 136.577846 379.931539 132.163948 383.434658 128.680581 387.774844 \r\n\" style=\"fill:none;stroke:#d3d3d3;stroke-linejoin:miter;stroke-width:1.5;\"/>\r\n   </g>\r\n   <g id=\"line2d_9\">\r\n    <path clip-path=\"url(#pbd90c93302)\" d=\"M 83.804637 151.23603 \r\nL 94.748157 151.23603 \r\n\" style=\"fill:none;stroke:#0000ff;stroke-linecap:square;stroke-width:1.5;\"/>\r\n   </g>\r\n   <g id=\"line2d_10\">\r\n    <path clip-path=\"url(#pbd90c93302)\" d=\"M 94.748157 151.23603 \r\nL 100.219917 147.01151 \r\n\" style=\"fill:none;stroke:#0000ff;stroke-linecap:square;stroke-width:1.5;\"/>\r\n   </g>\r\n   <g id=\"line2d_11\">\r\n    <path clip-path=\"url(#pbd90c93302)\" d=\"M 100.219917 147.01151 \r\nL 108.427556 147.01151 \r\n\" style=\"fill:none;stroke:#0000ff;stroke-linecap:square;stroke-width:1.5;\"/>\r\n   </g>\r\n   <g id=\"line2d_12\">\r\n    <path clip-path=\"url(#pbd90c93302)\" d=\"M 108.427556 147.01151 \r\nL 116.635196 142.786989 \r\n\" style=\"fill:none;stroke:#0000ff;stroke-linecap:square;stroke-width:1.5;\"/>\r\n   </g>\r\n   <g id=\"line2d_13\">\r\n    <path clip-path=\"url(#pbd90c93302)\" d=\"M 116.635196 142.786989 \r\nL 124.842836 142.786989 \r\n\" style=\"fill:none;stroke:#0000ff;stroke-linecap:square;stroke-width:1.5;\"/>\r\n   </g>\r\n   <g id=\"line2d_14\">\r\n    <path clip-path=\"url(#pbd90c93302)\" d=\"M 124.842836 142.786989 \r\nL 141.258115 142.786989 \r\n\" style=\"fill:none;stroke:#0000ff;stroke-linecap:square;stroke-width:1.5;\"/>\r\n   </g>\r\n   <g id=\"line2d_15\">\r\n    <path clip-path=\"url(#pbd90c93302)\" d=\"M 141.258115 142.786989 \r\nL 154.937515 155.46055 \r\n\" style=\"fill:none;stroke:#0000ff;stroke-linecap:square;stroke-width:1.5;\"/>\r\n   </g>\r\n   <g id=\"line2d_16\">\r\n    <path clip-path=\"url(#pbd90c93302)\" d=\"M 154.937515 155.46055 \r\nL 185.032193 189.256714 \r\n\" style=\"fill:none;stroke:#0000ff;stroke-linecap:square;stroke-width:1.5;\"/>\r\n   </g>\r\n   <g id=\"line2d_17\">\r\n    <path clip-path=\"url(#pbd90c93302)\" d=\"M 185.032193 189.256714 \r\nL 220.598632 197.705755 \r\n\" style=\"fill:none;stroke:#0000ff;stroke-linecap:square;stroke-width:1.5;\"/>\r\n   </g>\r\n   <g id=\"line2d_18\">\r\n    <path clip-path=\"url(#pbd90c93302)\" d=\"M 220.598632 197.705755 \r\nL 237.013912 206.154796 \r\n\" style=\"fill:none;stroke:#0000ff;stroke-linecap:square;stroke-width:1.5;\"/>\r\n   </g>\r\n   <g id=\"line2d_19\">\r\n    <path clip-path=\"url(#pbd90c93302)\" d=\"M 237.013912 206.154796 \r\nL 256.165071 206.154796 \r\n\" style=\"fill:none;stroke:#0000ff;stroke-linecap:square;stroke-width:1.5;\"/>\r\n   </g>\r\n   <g id=\"line2d_20\">\r\n    <path clip-path=\"url(#pbd90c93302)\" d=\"M 256.165071 206.154796 \r\nL 294.467389 252.62452 \r\n\" style=\"fill:none;stroke:#0000ff;stroke-linecap:square;stroke-width:1.5;\"/>\r\n   </g>\r\n  </g>\r\n </g>\r\n <defs>\r\n  <clipPath id=\"pbd90c93302\">\r\n   <rect height=\"482.4\" width=\"300.946789\" x=\"7.2\" y=\"7.2\"/>\r\n  </clipPath>\r\n </defs>\r\n</svg>\r\n",
      "image/png": "[encoded data removed]"
     },
     "metadata": {}
    }
   ],
   "source": [
    "\n",
    "background = \"#303640\"\n",
    "\n",
    "fig, ax = plt.subplots(figsize=(11, 7))\n",
    "fig.set_facecolor(background)\n",
    "\n",
    "draw_pitch(orientation=\"vertical\",\n",
    "           aspect=\"full\",\n",
    "           pitch_color=background, \n",
    "           line_color=\"lightgrey\",\n",
    "           ax=ax)\n",
    "\n",
    "for i in range (0,len(data)-1,1) :\n",
    "    plt.plot([int(data[\"Y\"][i])*y_conversion, int(data['Y'][i+1])*y_conversion], [int(data[\"X\"][i])*x_conversion, int(data[\"X\"][i+1])*x_conversion], color = \"blue\")\n",
    "\n",
    "\n",
    "plt.tight_layout()\n",
    "plt.show()\n"
   ]
  },
  {
   "cell_type": "code",
   "execution_count": null,
   "metadata": {},
   "outputs": [],
   "source": []
  }
 ]
}