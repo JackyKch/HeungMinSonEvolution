{
 "metadata": {
  "language_info": {
   "codemirror_mode": {
    "name": "ipython",
    "version": 3
   },
   "file_extension": ".py",
   "mimetype": "text/x-python",
   "name": "python",
   "nbconvert_exporter": "python",
   "pygments_lexer": "ipython3",
   "version": "3.9.0-final"
  },
  "orig_nbformat": 2,
  "kernelspec": {
   "name": "python3",
   "display_name": "Python 3.9.0 64-bit",
   "metadata": {
    "interpreter": {
     "hash": "6f63aac4862f49defdc0ab97c706aeed6401f5109f2f5eb8ddfd96c2030351e5"
    }
   }
  }
 },
 "nbformat": 4,
 "nbformat_minor": 2,
 "cells": [
  {
   "source": [
    "# Understand why Son scores (or not) in his games"
   ],
   "cell_type": "markdown",
   "metadata": {}
  },
  {
   "source": [
    "## Imports"
   ],
   "cell_type": "markdown",
   "metadata": {}
  },
  {
   "cell_type": "code",
   "execution_count": 1,
   "metadata": {},
   "outputs": [],
   "source": [
    "from sklearn.cluster import KMeans\n",
    "import pandas as pd \n",
    "import numpy as np\n",
    "from datetime import datetime"
   ]
  },
  {
   "source": [
    "## K-Means from a csv file"
   ],
   "cell_type": "markdown",
   "metadata": {}
  },
  {
   "cell_type": "code",
   "execution_count": 2,
   "metadata": {},
   "outputs": [],
   "source": [
    "def KMC (filename, n) :\n",
    "\n",
    "    data = pd.read_csv(filename)\n",
    "    kmeans = KMeans(n_clusters= n, random_state= 0)\n",
    "    kmeans.fit(data)\n",
    "    centers = kmeans.cluster_centers_\n",
    "\n",
    "    for c in range (len(centers)) :\n",
    "        print (\"---------------------- Values for Cluster ---------------\", c+1, \" ---------------------\")\n",
    "        for i in range (len(centers[c])) :\n",
    "            print ((data.columns.values[i]), \": \", np.round(centers[c][i], 4))\n",
    "        print (np.count_nonzero(kmeans.labels_ == c), \" Games included in this cluster\")"
   ]
  },
  {
   "source": [
    "## K-Means from a Pandas DataFrame"
   ],
   "cell_type": "markdown",
   "metadata": {}
  },
  {
   "cell_type": "code",
   "execution_count": 3,
   "metadata": {},
   "outputs": [],
   "source": [
    "def KMC_df (df, n) :\n",
    "\n",
    "    data = df\n",
    "    kmeans = KMeans(n_clusters= n, random_state= 0)\n",
    "    kmeans.fit(data)\n",
    "    centers = kmeans.cluster_centers_\n",
    "\n",
    "    for c in range (len(centers)) :\n",
    "        print (\"---------------------- Values for Cluster ---------------\", c+1, \" ---------------------\")\n",
    "        for i in range (len(centers[c])) :\n",
    "            print ((data.columns.values[i]), \": \", np.round(centers[c][i], 4))\n",
    "        print (np.count_nonzero(kmeans.labels_ == c), \" Games included in this cluster\")\n",
    "    return"
   ]
  },
  {
   "source": [
    "## Load the dataset including Son league and UCL Games "
   ],
   "cell_type": "markdown",
   "metadata": {}
  },
  {
   "cell_type": "code",
   "execution_count": 96,
   "metadata": {},
   "outputs": [],
   "source": [
    "data_match = pd.read_csv(\"../../data/club/all_season/Son_data_champ-ldc_matchs_details_all_season.csv\")"
   ]
  },
  {
   "cell_type": "code",
   "execution_count": 97,
   "metadata": {},
   "outputs": [],
   "source": [
    "data_match['Date'] = pd.to_datetime(data_match['Date'])"
   ]
  },
  {
   "cell_type": "code",
   "execution_count": 58,
   "metadata": {},
   "outputs": [],
   "source": [
    "data_match_kmeans = ['Start', 'Gls','Sh', 'SoT' ,'Home_1_Away_0', 'xG', 'SCA', 'GCA', 'Elo_Diff']"
   ]
  },
  {
   "source": [
    "## Split the data according to the club in which Son plays"
   ],
   "cell_type": "markdown",
   "metadata": {}
  },
  {
   "cell_type": "code",
   "execution_count": 7,
   "metadata": {},
   "outputs": [],
   "source": [
    "start_leverkusen = datetime.strptime(\"2013-08-10\", \"%Y-%m-%d\")\n",
    "start_spurs = datetime.strptime(\"2015-09-13\", \"%Y-%m-%d\")"
   ]
  },
  {
   "cell_type": "code",
   "execution_count": 8,
   "metadata": {},
   "outputs": [],
   "source": [
    "hamburg_data = data_match[data_match['Date'] < start_leverkusen]"
   ]
  },
  {
   "cell_type": "code",
   "execution_count": 91,
   "metadata": {},
   "outputs": [],
   "source": [
    "leverkusen_data = data_match[(data_match['Date'] < start_spurs) & (data_match['Date'] >= start_leverkusen)]"
   ]
  },
  {
   "cell_type": "code",
   "execution_count": 103,
   "metadata": {},
   "outputs": [],
   "source": [
    "spurs_data = data_match[data_match['Date'] >= start_spurs]"
   ]
  },
  {
   "source": [
    "## Select the columns that will be used in the K-Means"
   ],
   "cell_type": "markdown",
   "metadata": {}
  },
  {
   "source": [
    "### Hamburg data"
   ],
   "cell_type": "markdown",
   "metadata": {}
  },
  {
   "cell_type": "code",
   "execution_count": 59,
   "metadata": {},
   "outputs": [],
   "source": [
    "hamburg_data_kmeans = hamburg_data[data_match_kmeans]"
   ]
  },
  {
   "cell_type": "code",
   "execution_count": 60,
   "metadata": {},
   "outputs": [],
   "source": [
    "hamburg_data_kmeans = hamburg_data_kmeans.fillna(np.nan)"
   ]
  },
  {
   "cell_type": "code",
   "execution_count": 61,
   "metadata": {},
   "outputs": [
    {
     "output_type": "execute_result",
     "data": {
      "text/plain": [
       "   Start Gls  Sh  SoT  Home_1_Away_0  xG  SCA  GCA  Elo_Diff\n",
       "0      1   1 NaN  NaN            0.0 NaN  NaN  NaN       152\n",
       "1      0   0 NaN  NaN            1.0 NaN  NaN  NaN        25\n",
       "2      0   0 NaN  NaN            0.0 NaN  NaN  NaN       -70\n",
       "3      1   2 NaN  NaN            0.0 NaN  NaN  NaN        96\n",
       "4      1   0 NaN  NaN            1.0 NaN  NaN  NaN       -20\n",
       "..   ...  ..  ..  ...            ...  ..  ...  ...       ...\n",
       "68     1   0 NaN  NaN            1.0 NaN  NaN  NaN        64\n",
       "69     1   0 NaN  NaN            0.0 NaN  NaN  NaN       -71\n",
       "70     1   0 NaN  NaN            1.0 NaN  NaN  NaN       -30\n",
       "71     1   1 NaN  NaN            0.0 NaN  NaN  NaN        50\n",
       "72     1   0 NaN  NaN            1.0 NaN  NaN  NaN      -118\n",
       "\n",
       "[73 rows x 9 columns]"
      ],
      "text/html": "<div>\n<style scoped>\n    .dataframe tbody tr th:only-of-type {\n        vertical-align: middle;\n    }\n\n    .dataframe tbody tr th {\n        vertical-align: top;\n    }\n\n    .dataframe thead th {\n        text-align: right;\n    }\n</style>\n<table border=\"1\" class=\"dataframe\">\n  <thead>\n    <tr style=\"text-align: right;\">\n      <th></th>\n      <th>Start</th>\n      <th>Gls</th>\n      <th>Sh</th>\n      <th>SoT</th>\n      <th>Home_1_Away_0</th>\n      <th>xG</th>\n      <th>SCA</th>\n      <th>GCA</th>\n      <th>Elo_Diff</th>\n    </tr>\n  </thead>\n  <tbody>\n    <tr>\n      <th>0</th>\n      <td>1</td>\n      <td>1</td>\n      <td>NaN</td>\n      <td>NaN</td>\n      <td>0.0</td>\n      <td>NaN</td>\n      <td>NaN</td>\n      <td>NaN</td>\n      <td>152</td>\n    </tr>\n    <tr>\n      <th>1</th>\n      <td>0</td>\n      <td>0</td>\n      <td>NaN</td>\n      <td>NaN</td>\n      <td>1.0</td>\n      <td>NaN</td>\n      <td>NaN</td>\n      <td>NaN</td>\n      <td>25</td>\n    </tr>\n    <tr>\n      <th>2</th>\n      <td>0</td>\n      <td>0</td>\n      <td>NaN</td>\n      <td>NaN</td>\n      <td>0.0</td>\n      <td>NaN</td>\n      <td>NaN</td>\n      <td>NaN</td>\n      <td>-70</td>\n    </tr>\n    <tr>\n      <th>3</th>\n      <td>1</td>\n      <td>2</td>\n      <td>NaN</td>\n      <td>NaN</td>\n      <td>0.0</td>\n      <td>NaN</td>\n      <td>NaN</td>\n      <td>NaN</td>\n      <td>96</td>\n    </tr>\n    <tr>\n      <th>4</th>\n      <td>1</td>\n      <td>0</td>\n      <td>NaN</td>\n      <td>NaN</td>\n      <td>1.0</td>\n      <td>NaN</td>\n      <td>NaN</td>\n      <td>NaN</td>\n      <td>-20</td>\n    </tr>\n    <tr>\n      <th>...</th>\n      <td>...</td>\n      <td>...</td>\n      <td>...</td>\n      <td>...</td>\n      <td>...</td>\n      <td>...</td>\n      <td>...</td>\n      <td>...</td>\n      <td>...</td>\n    </tr>\n    <tr>\n      <th>68</th>\n      <td>1</td>\n      <td>0</td>\n      <td>NaN</td>\n      <td>NaN</td>\n      <td>1.0</td>\n      <td>NaN</td>\n      <td>NaN</td>\n      <td>NaN</td>\n      <td>64</td>\n    </tr>\n    <tr>\n      <th>69</th>\n      <td>1</td>\n      <td>0</td>\n      <td>NaN</td>\n      <td>NaN</td>\n      <td>0.0</td>\n      <td>NaN</td>\n      <td>NaN</td>\n      <td>NaN</td>\n      <td>-71</td>\n    </tr>\n    <tr>\n      <th>70</th>\n      <td>1</td>\n      <td>0</td>\n      <td>NaN</td>\n      <td>NaN</td>\n      <td>1.0</td>\n      <td>NaN</td>\n      <td>NaN</td>\n      <td>NaN</td>\n      <td>-30</td>\n    </tr>\n    <tr>\n      <th>71</th>\n      <td>1</td>\n      <td>1</td>\n      <td>NaN</td>\n      <td>NaN</td>\n      <td>0.0</td>\n      <td>NaN</td>\n      <td>NaN</td>\n      <td>NaN</td>\n      <td>50</td>\n    </tr>\n    <tr>\n      <th>72</th>\n      <td>1</td>\n      <td>0</td>\n      <td>NaN</td>\n      <td>NaN</td>\n      <td>1.0</td>\n      <td>NaN</td>\n      <td>NaN</td>\n      <td>NaN</td>\n      <td>-118</td>\n    </tr>\n  </tbody>\n</table>\n<p>73 rows × 9 columns</p>\n</div>"
     },
     "metadata": {},
     "execution_count": 61
    }
   ],
   "source": [
    "hamburg_data_kmeans"
   ]
  },
  {
   "cell_type": "code",
   "execution_count": 62,
   "metadata": {},
   "outputs": [],
   "source": [
    "for col in hamburg_data_kmeans.columns :\n",
    "    hamburg_data_kmeans[col] = pd.to_numeric (hamburg_data_kmeans[col])"
   ]
  },
  {
   "cell_type": "code",
   "execution_count": 65,
   "metadata": {},
   "outputs": [],
   "source": [
    "# In columns in which we have NaN values, we can fix them to 0 as they are all NaN\n",
    "hamburg_data_kmeans = hamburg_data_kmeans.fillna(0)"
   ]
  },
  {
   "source": [
    "### Leverkusen data"
   ],
   "cell_type": "markdown",
   "metadata": {}
  },
  {
   "cell_type": "code",
   "execution_count": 130,
   "metadata": {},
   "outputs": [],
   "source": [
    "leverkusen_data_kmeans = leverkusen_data[data_match_kmeans]"
   ]
  },
  {
   "cell_type": "code",
   "execution_count": 131,
   "metadata": {},
   "outputs": [],
   "source": [
    "# Replace the NaN values by Numpy NaN\n",
    "leverkusen_data_kmeans = leverkusen_data_kmeans.fillna(np.nan)"
   ]
  },
  {
   "cell_type": "code",
   "execution_count": 132,
   "metadata": {},
   "outputs": [],
   "source": [
    "# Replace the match in which Son was not on Match Sheet with NaN values\n",
    "leverkusen_data_kmeans = leverkusen_data_kmeans.replace('On m', None)"
   ]
  },
  {
   "cell_type": "code",
   "execution_count": 133,
   "metadata": {},
   "outputs": [],
   "source": [
    "for col in leverkusen_data_kmeans.columns :\n",
    "    leverkusen_data_kmeans[col] = pd.to_numeric(leverkusen_data_kmeans[col])"
   ]
  },
  {
   "cell_type": "code",
   "execution_count": 134,
   "metadata": {},
   "outputs": [],
   "source": [
    "leverkusen_data_kmeans = leverkusen_data_kmeans.fillna(leverkusen_data_kmeans.mean())"
   ]
  },
  {
   "cell_type": "code",
   "execution_count": 136,
   "metadata": {},
   "outputs": [],
   "source": [
    "leverkusen_data_kmeans = leverkusen_data_kmeans.fillna(0)"
   ]
  },
  {
   "source": [
    "### Spurs data"
   ],
   "cell_type": "markdown",
   "metadata": {}
  },
  {
   "cell_type": "code",
   "execution_count": 104,
   "metadata": {},
   "outputs": [],
   "source": [
    "spurs_data_kmeans = spurs_data[data_match_kmeans]"
   ]
  },
  {
   "cell_type": "code",
   "execution_count": 105,
   "metadata": {},
   "outputs": [],
   "source": [
    "spurs_data_kmeans = spurs_data_kmeans.fillna(np.nan)"
   ]
  },
  {
   "cell_type": "code",
   "execution_count": 106,
   "metadata": {},
   "outputs": [],
   "source": [
    "# Replace the match in which Son was not on Match Sheet with NaN values\n",
    "spurs_data_kmeans = spurs_data_kmeans.replace('On m', None)"
   ]
  },
  {
   "cell_type": "code",
   "execution_count": 108,
   "metadata": {},
   "outputs": [],
   "source": [
    "for col in spurs_data_kmeans.columns :\n",
    "    spurs_data_kmeans[col] = pd.to_numeric(spurs_data_kmeans[col])"
   ]
  },
  {
   "cell_type": "code",
   "execution_count": 142,
   "metadata": {},
   "outputs": [],
   "source": [
    "spurs_data_kmeans = spurs_data_kmeans.fillna(spurs_data_kmeans.mean())"
   ]
  },
  {
   "source": [
    "## Split the data : If Son scored and if Son didn't score and store them in csv file (for Silhouette Analysis)"
   ],
   "cell_type": "markdown",
   "metadata": {}
  },
  {
   "source": [
    "### Hamburg data"
   ],
   "cell_type": "markdown",
   "metadata": {}
  },
  {
   "cell_type": "code",
   "execution_count": 110,
   "metadata": {},
   "outputs": [],
   "source": [
    "hamburg_data_kmeans_no_goals = hamburg_data_kmeans[hamburg_data_kmeans['Gls'] < 1]"
   ]
  },
  {
   "cell_type": "code",
   "execution_count": 116,
   "metadata": {},
   "outputs": [],
   "source": [
    "hamburg_data_kmeans_no_goals.to_csv(\"Son_hamburg_no_goals.csv\", index=False)"
   ]
  },
  {
   "cell_type": "code",
   "execution_count": 121,
   "metadata": {},
   "outputs": [],
   "source": [
    "hamburg_data_kmeans_goals = hamburg_data_kmeans[hamburg_data_kmeans['Gls'] >= 1]"
   ]
  },
  {
   "cell_type": "code",
   "execution_count": 123,
   "metadata": {},
   "outputs": [],
   "source": [
    "hamburg_data_kmeans_goals.to_csv(\"Son_hamburg_goals.csv\", index=False)"
   ]
  },
  {
   "source": [
    "### Leverkusen data"
   ],
   "cell_type": "markdown",
   "metadata": {}
  },
  {
   "cell_type": "code",
   "execution_count": 138,
   "metadata": {},
   "outputs": [],
   "source": [
    "leverkusen_data_kmeans_no_goals = leverkusen_data_kmeans[leverkusen_data_kmeans['Gls'] < 1]"
   ]
  },
  {
   "cell_type": "code",
   "execution_count": 139,
   "metadata": {},
   "outputs": [],
   "source": [
    "leverkusen_data_kmeans_no_goals.to_csv(\"Son_leverkusen_no_goals.csv\", index=False)"
   ]
  },
  {
   "cell_type": "code",
   "execution_count": 140,
   "metadata": {},
   "outputs": [],
   "source": [
    "leverkusen_data_kmeans_goals = leverkusen_data_kmeans[leverkusen_data_kmeans['Gls'] >= 1]"
   ]
  },
  {
   "cell_type": "code",
   "execution_count": 141,
   "metadata": {},
   "outputs": [],
   "source": [
    "leverkusen_data_kmeans_goals.to_csv(\"Son_leverkusen_goals.csv\", index=False)"
   ]
  },
  {
   "source": [
    "### Spurs data"
   ],
   "cell_type": "markdown",
   "metadata": {}
  },
  {
   "cell_type": "code",
   "execution_count": 145,
   "metadata": {},
   "outputs": [],
   "source": [
    "spurs_data_kmeans_no_goals = spurs_data_kmeans[spurs_data_kmeans['Gls'] < 1]"
   ]
  },
  {
   "cell_type": "code",
   "execution_count": 146,
   "metadata": {},
   "outputs": [],
   "source": [
    "spurs_data_kmeans_no_goals.to_csv(\"Son_spurs_no_goals.csv\", index=False)"
   ]
  },
  {
   "cell_type": "code",
   "execution_count": 147,
   "metadata": {},
   "outputs": [],
   "source": [
    "spurs_data_kmeans_goals = spurs_data_kmeans[spurs_data_kmeans['Gls'] >= 1]"
   ]
  },
  {
   "cell_type": "code",
   "execution_count": 148,
   "metadata": {},
   "outputs": [],
   "source": [
    "spurs_data_kmeans_goals.to_csv(\"Son_spurs_goals.csv\", index=False)"
   ]
  },
  {
   "cell_type": "code",
   "execution_count": null,
   "metadata": {},
   "outputs": [],
   "source": []
  }
 ]
}