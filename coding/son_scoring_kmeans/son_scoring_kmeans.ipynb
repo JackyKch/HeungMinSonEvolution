{
 "metadata": {
  "language_info": {
   "codemirror_mode": {
    "name": "ipython",
    "version": 3
   },
   "file_extension": ".py",
   "mimetype": "text/x-python",
   "name": "python",
   "nbconvert_exporter": "python",
   "pygments_lexer": "ipython3",
   "version": 3
  },
  "orig_nbformat": 2
 },
 "nbformat": 4,
 "nbformat_minor": 2,
 "cells": [
  {
   "source": [
    "## Imports"
   ],
   "cell_type": "markdown",
   "metadata": {}
  },
  {
   "cell_type": "code",
   "execution_count": null,
   "metadata": {},
   "outputs": [],
   "source": [
    "from sklearn.cluster import KMeans\n",
    "import pandas as pd \n",
    "import numpy as np\n",
    "from datetime import datetime"
   ]
  },
  {
   "source": [
    "## K-Means from a csv file"
   ],
   "cell_type": "markdown",
   "metadata": {}
  },
  {
   "cell_type": "code",
   "execution_count": null,
   "metadata": {},
   "outputs": [],
   "source": [
    "def KMC (filename, n) :\n",
    "\n",
    "    data = pd.read_csv(filename)\n",
    "    kmeans = KMeans(n_clusters= n, random_state= 0)\n",
    "    kmeans.fit(data)\n",
    "    centers = kmeans.cluster_centers_\n",
    "\n",
    "    for c in range (len(centers)) :\n",
    "        print (\"---------------------- Values for Cluster ---------------\", c+1, \" ---------------------\")\n",
    "        for i in range (len(centers[c])) :\n",
    "            print ((data.columns.values[i]), \": \", np.round(centers[c][i], 4))\n",
    "        print (np.count_nonzero(kmeans.labels_ == c), \" Games included in this cluster\")"
   ]
  },
  {
   "source": [
    "## K-Means from a Pandas DataFrame"
   ],
   "cell_type": "markdown",
   "metadata": {}
  },
  {
   "cell_type": "code",
   "execution_count": null,
   "metadata": {},
   "outputs": [],
   "source": [
    "def KMC_df (df, n) :\n",
    "\n",
    "    data = df\n",
    "    kmeans = KMeans(n_clusters= n, random_state= 0)\n",
    "    kmeans.fit(data)\n",
    "    centers = kmeans.cluster_centers_\n",
    "\n",
    "    for c in range (len(centers)) :\n",
    "        print (\"---------------------- Values for Cluster ---------------\", c+1, \" ---------------------\")\n",
    "        for i in range (len(centers[c])) :\n",
    "            print ((data.columns.values[i]), \": \", np.round(centers[c][i], 4))\n",
    "        print (np.count_nonzero(kmeans.labels_ == c), \" Games included in this cluster\")\n",
    "    return"
   ]
  },
  {
   "cell_type": "code",
   "execution_count": null,
   "metadata": {},
   "outputs": [],
   "source": []
  }
 ]
}