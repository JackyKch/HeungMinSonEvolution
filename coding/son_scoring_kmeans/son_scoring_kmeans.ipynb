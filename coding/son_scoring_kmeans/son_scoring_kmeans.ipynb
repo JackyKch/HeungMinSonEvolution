{
 "metadata": {
  "language_info": {
   "codemirror_mode": {
    "name": "ipython",
    "version": 3
   },
   "file_extension": ".py",
   "mimetype": "text/x-python",
   "name": "python",
   "nbconvert_exporter": "python",
   "pygments_lexer": "ipython3",
   "version": "3.9.0-final"
  },
  "orig_nbformat": 2,
  "kernelspec": {
   "name": "python3",
   "display_name": "Python 3.9.0 64-bit",
   "metadata": {
    "interpreter": {
     "hash": "6f63aac4862f49defdc0ab97c706aeed6401f5109f2f5eb8ddfd96c2030351e5"
    }
   }
  }
 },
 "nbformat": 4,
 "nbformat_minor": 2,
 "cells": [
  {
   "source": [
    "# Understand why Son scores (or not) in his games"
   ],
   "cell_type": "markdown",
   "metadata": {}
  },
  {
   "source": [
    "## Imports"
   ],
   "cell_type": "markdown",
   "metadata": {}
  },
  {
   "cell_type": "code",
   "execution_count": 3,
   "metadata": {},
   "outputs": [],
   "source": [
    "from sklearn.cluster import KMeans\n",
    "import pandas as pd \n",
    "import numpy as np\n",
    "from datetime import datetime"
   ]
  },
  {
   "source": [
    "## K-Means from a csv file"
   ],
   "cell_type": "markdown",
   "metadata": {}
  },
  {
   "cell_type": "code",
   "execution_count": 4,
   "metadata": {},
   "outputs": [],
   "source": [
    "def KMC (filename, n) :\n",
    "\n",
    "    data = pd.read_csv(filename)\n",
    "    kmeans = KMeans(n_clusters= n, random_state= 0)\n",
    "    kmeans.fit(data)\n",
    "    centers = kmeans.cluster_centers_\n",
    "\n",
    "    for c in range (len(centers)) :\n",
    "        print (\"---------------------- Values for Cluster ---------------\", c+1, \" ---------------------\")\n",
    "        for i in range (len(centers[c])) :\n",
    "            print ((data.columns.values[i]), \": \", np.round(centers[c][i], 4))\n",
    "        print (np.count_nonzero(kmeans.labels_ == c), \" Games included in this cluster\")"
   ]
  },
  {
   "source": [
    "## K-Means from a Pandas DataFrame"
   ],
   "cell_type": "markdown",
   "metadata": {}
  },
  {
   "cell_type": "code",
   "execution_count": 5,
   "metadata": {},
   "outputs": [],
   "source": [
    "def KMC_df (df, n) :\n",
    "\n",
    "    data = df\n",
    "    kmeans = KMeans(n_clusters= n, random_state= 0)\n",
    "    kmeans.fit(data)\n",
    "    centers = kmeans.cluster_centers_\n",
    "\n",
    "    for c in range (len(centers)) :\n",
    "        print (\"---------------------- Values for Cluster ---------------\", c+1, \" ---------------------\")\n",
    "        for i in range (len(centers[c])) :\n",
    "            print ((data.columns.values[i]), \": \", np.round(centers[c][i], 4))\n",
    "        print (np.count_nonzero(kmeans.labels_ == c), \" Games included in this cluster\")\n",
    "    return"
   ]
  },
  {
   "source": [
    "### Get the index of each game included in a cluster"
   ],
   "cell_type": "markdown",
   "metadata": {}
  },
  {
   "cell_type": "code",
   "execution_count": null,
   "metadata": {},
   "outputs": [],
   "source": [
    "def ClusterIndicesNumpy (clustNum, labels_array) :\n",
    "    return np.where(labels_array == clustNum)[0]"
   ]
  },
  {
   "cell_type": "code",
   "execution_count": null,
   "metadata": {},
   "outputs": [],
   "source": [
    "def KMC_details (filename, n) :\n",
    "\n",
    "    data = pd.read_csv(filename)\n",
    "    kmeans = KMeans(n_clusters= n, random_state= 0)\n",
    "    kmeans.fit(data)\n",
    "    centers = kmeans.cluster_centers_\n",
    "\n",
    "    for c in range (len(centers)) :\n",
    "        print (\"---------------------- Values for Cluster ---------------\", c+1, \" ---------------------\")\n",
    "        for i in range (len(centers[c])) :\n",
    "            print ((data.columns.values[i]), \": \", np.round(centers[c][i], 4))\n",
    "        print (np.count_nonzero(kmeans.labels_ == c), \" Games included in this cluster :\")\n",
    "        print(ClusterIndicesNumpy(c, kmeans.labels_))"
   ]
  },
  {
   "source": [
    "## Load the dataset including Son league and UCL Games "
   ],
   "cell_type": "markdown",
   "metadata": {}
  },
  {
   "cell_type": "code",
   "execution_count": 6,
   "metadata": {},
   "outputs": [],
   "source": [
    "data_match = pd.read_csv(\"../../data/club/all_season/Son_data_champ-ldc_matchs_details_all_season.csv\")"
   ]
  },
  {
   "cell_type": "code",
   "execution_count": 7,
   "metadata": {},
   "outputs": [],
   "source": [
    "data_match['Date'] = pd.to_datetime(data_match['Date'])"
   ]
  },
  {
   "cell_type": "code",
   "execution_count": 8,
   "metadata": {},
   "outputs": [],
   "source": [
    "data_match_kmeans = ['Start', 'Gls','Sh', 'SoT' ,'Home_1_Away_0', 'xG', 'SCA', 'GCA', 'Elo_Diff']"
   ]
  },
  {
   "source": [
    "## Split the data according to the club in which Son plays"
   ],
   "cell_type": "markdown",
   "metadata": {}
  },
  {
   "cell_type": "code",
   "execution_count": 7,
   "metadata": {},
   "outputs": [],
   "source": [
    "start_leverkusen = datetime.strptime(\"2013-08-10\", \"%Y-%m-%d\")\n",
    "start_spurs = datetime.strptime(\"2015-09-13\", \"%Y-%m-%d\")"
   ]
  },
  {
   "cell_type": "code",
   "execution_count": 8,
   "metadata": {},
   "outputs": [],
   "source": [
    "hamburg_data = data_match[data_match['Date'] < start_leverkusen]"
   ]
  },
  {
   "cell_type": "code",
   "execution_count": 91,
   "metadata": {},
   "outputs": [],
   "source": [
    "leverkusen_data = data_match[(data_match['Date'] < start_spurs) & (data_match['Date'] >= start_leverkusen)]"
   ]
  },
  {
   "cell_type": "code",
   "execution_count": 103,
   "metadata": {},
   "outputs": [],
   "source": [
    "spurs_data = data_match[data_match['Date'] >= start_spurs]"
   ]
  },
  {
   "source": [
    "## Select the columns that will be used in the K-Means"
   ],
   "cell_type": "markdown",
   "metadata": {}
  },
  {
   "source": [
    "### Hamburg data"
   ],
   "cell_type": "markdown",
   "metadata": {}
  },
  {
   "cell_type": "code",
   "execution_count": 59,
   "metadata": {},
   "outputs": [],
   "source": [
    "hamburg_data_kmeans = hamburg_data[data_match_kmeans]"
   ]
  },
  {
   "cell_type": "code",
   "execution_count": 60,
   "metadata": {},
   "outputs": [],
   "source": [
    "hamburg_data_kmeans = hamburg_data_kmeans.fillna(np.nan)"
   ]
  },
  {
   "cell_type": "code",
   "execution_count": 61,
   "metadata": {},
   "outputs": [
    {
     "output_type": "execute_result",
     "data": {
      "text/plain": [
       "   Start Gls  Sh  SoT  Home_1_Away_0  xG  SCA  GCA  Elo_Diff\n",
       "0      1   1 NaN  NaN            0.0 NaN  NaN  NaN       152\n",
       "1      0   0 NaN  NaN            1.0 NaN  NaN  NaN        25\n",
       "2      0   0 NaN  NaN            0.0 NaN  NaN  NaN       -70\n",
       "3      1   2 NaN  NaN            0.0 NaN  NaN  NaN        96\n",
       "4      1   0 NaN  NaN            1.0 NaN  NaN  NaN       -20\n",
       "..   ...  ..  ..  ...            ...  ..  ...  ...       ...\n",
       "68     1   0 NaN  NaN            1.0 NaN  NaN  NaN        64\n",
       "69     1   0 NaN  NaN            0.0 NaN  NaN  NaN       -71\n",
       "70     1   0 NaN  NaN            1.0 NaN  NaN  NaN       -30\n",
       "71     1   1 NaN  NaN            0.0 NaN  NaN  NaN        50\n",
       "72     1   0 NaN  NaN            1.0 NaN  NaN  NaN      -118\n",
       "\n",
       "[73 rows x 9 columns]"
      ],
      "text/html": "<div>\n<style scoped>\n    .dataframe tbody tr th:only-of-type {\n        vertical-align: middle;\n    }\n\n    .dataframe tbody tr th {\n        vertical-align: top;\n    }\n\n    .dataframe thead th {\n        text-align: right;\n    }\n</style>\n<table border=\"1\" class=\"dataframe\">\n  <thead>\n    <tr style=\"text-align: right;\">\n      <th></th>\n      <th>Start</th>\n      <th>Gls</th>\n      <th>Sh</th>\n      <th>SoT</th>\n      <th>Home_1_Away_0</th>\n      <th>xG</th>\n      <th>SCA</th>\n      <th>GCA</th>\n      <th>Elo_Diff</th>\n    </tr>\n  </thead>\n  <tbody>\n    <tr>\n      <th>0</th>\n      <td>1</td>\n      <td>1</td>\n      <td>NaN</td>\n      <td>NaN</td>\n      <td>0.0</td>\n      <td>NaN</td>\n      <td>NaN</td>\n      <td>NaN</td>\n      <td>152</td>\n    </tr>\n    <tr>\n      <th>1</th>\n      <td>0</td>\n      <td>0</td>\n      <td>NaN</td>\n      <td>NaN</td>\n      <td>1.0</td>\n      <td>NaN</td>\n      <td>NaN</td>\n      <td>NaN</td>\n      <td>25</td>\n    </tr>\n    <tr>\n      <th>2</th>\n      <td>0</td>\n      <td>0</td>\n      <td>NaN</td>\n      <td>NaN</td>\n      <td>0.0</td>\n      <td>NaN</td>\n      <td>NaN</td>\n      <td>NaN</td>\n      <td>-70</td>\n    </tr>\n    <tr>\n      <th>3</th>\n      <td>1</td>\n      <td>2</td>\n      <td>NaN</td>\n      <td>NaN</td>\n      <td>0.0</td>\n      <td>NaN</td>\n      <td>NaN</td>\n      <td>NaN</td>\n      <td>96</td>\n    </tr>\n    <tr>\n      <th>4</th>\n      <td>1</td>\n      <td>0</td>\n      <td>NaN</td>\n      <td>NaN</td>\n      <td>1.0</td>\n      <td>NaN</td>\n      <td>NaN</td>\n      <td>NaN</td>\n      <td>-20</td>\n    </tr>\n    <tr>\n      <th>...</th>\n      <td>...</td>\n      <td>...</td>\n      <td>...</td>\n      <td>...</td>\n      <td>...</td>\n      <td>...</td>\n      <td>...</td>\n      <td>...</td>\n      <td>...</td>\n    </tr>\n    <tr>\n      <th>68</th>\n      <td>1</td>\n      <td>0</td>\n      <td>NaN</td>\n      <td>NaN</td>\n      <td>1.0</td>\n      <td>NaN</td>\n      <td>NaN</td>\n      <td>NaN</td>\n      <td>64</td>\n    </tr>\n    <tr>\n      <th>69</th>\n      <td>1</td>\n      <td>0</td>\n      <td>NaN</td>\n      <td>NaN</td>\n      <td>0.0</td>\n      <td>NaN</td>\n      <td>NaN</td>\n      <td>NaN</td>\n      <td>-71</td>\n    </tr>\n    <tr>\n      <th>70</th>\n      <td>1</td>\n      <td>0</td>\n      <td>NaN</td>\n      <td>NaN</td>\n      <td>1.0</td>\n      <td>NaN</td>\n      <td>NaN</td>\n      <td>NaN</td>\n      <td>-30</td>\n    </tr>\n    <tr>\n      <th>71</th>\n      <td>1</td>\n      <td>1</td>\n      <td>NaN</td>\n      <td>NaN</td>\n      <td>0.0</td>\n      <td>NaN</td>\n      <td>NaN</td>\n      <td>NaN</td>\n      <td>50</td>\n    </tr>\n    <tr>\n      <th>72</th>\n      <td>1</td>\n      <td>0</td>\n      <td>NaN</td>\n      <td>NaN</td>\n      <td>1.0</td>\n      <td>NaN</td>\n      <td>NaN</td>\n      <td>NaN</td>\n      <td>-118</td>\n    </tr>\n  </tbody>\n</table>\n<p>73 rows × 9 columns</p>\n</div>"
     },
     "metadata": {},
     "execution_count": 61
    }
   ],
   "source": [
    "hamburg_data_kmeans"
   ]
  },
  {
   "cell_type": "code",
   "execution_count": 62,
   "metadata": {},
   "outputs": [],
   "source": [
    "for col in hamburg_data_kmeans.columns :\n",
    "    hamburg_data_kmeans[col] = pd.to_numeric (hamburg_data_kmeans[col])"
   ]
  },
  {
   "cell_type": "code",
   "execution_count": 65,
   "metadata": {},
   "outputs": [],
   "source": [
    "# In columns in which we have NaN values, we can fix them to 0 as they are all NaN\n",
    "hamburg_data_kmeans = hamburg_data_kmeans.fillna(0)"
   ]
  },
  {
   "source": [
    "### Leverkusen data"
   ],
   "cell_type": "markdown",
   "metadata": {}
  },
  {
   "cell_type": "code",
   "execution_count": 130,
   "metadata": {},
   "outputs": [],
   "source": [
    "leverkusen_data_kmeans = leverkusen_data[data_match_kmeans]"
   ]
  },
  {
   "cell_type": "code",
   "execution_count": 131,
   "metadata": {},
   "outputs": [],
   "source": [
    "# Replace the NaN values by Numpy NaN\n",
    "leverkusen_data_kmeans = leverkusen_data_kmeans.fillna(np.nan)"
   ]
  },
  {
   "cell_type": "code",
   "execution_count": 132,
   "metadata": {},
   "outputs": [],
   "source": [
    "# Replace the match in which Son was not on Match Sheet with NaN values\n",
    "leverkusen_data_kmeans = leverkusen_data_kmeans.replace('On m', None)"
   ]
  },
  {
   "cell_type": "code",
   "execution_count": 133,
   "metadata": {},
   "outputs": [],
   "source": [
    "for col in leverkusen_data_kmeans.columns :\n",
    "    leverkusen_data_kmeans[col] = pd.to_numeric(leverkusen_data_kmeans[col])"
   ]
  },
  {
   "cell_type": "code",
   "execution_count": 134,
   "metadata": {},
   "outputs": [],
   "source": [
    "leverkusen_data_kmeans = leverkusen_data_kmeans.fillna(leverkusen_data_kmeans.mean())"
   ]
  },
  {
   "cell_type": "code",
   "execution_count": 136,
   "metadata": {},
   "outputs": [],
   "source": [
    "leverkusen_data_kmeans = leverkusen_data_kmeans.fillna(0)"
   ]
  },
  {
   "source": [
    "### Spurs data"
   ],
   "cell_type": "markdown",
   "metadata": {}
  },
  {
   "cell_type": "code",
   "execution_count": 104,
   "metadata": {},
   "outputs": [],
   "source": [
    "spurs_data_kmeans = spurs_data[data_match_kmeans]"
   ]
  },
  {
   "cell_type": "code",
   "execution_count": 105,
   "metadata": {},
   "outputs": [],
   "source": [
    "spurs_data_kmeans = spurs_data_kmeans.fillna(np.nan)"
   ]
  },
  {
   "cell_type": "code",
   "execution_count": 106,
   "metadata": {},
   "outputs": [],
   "source": [
    "# Replace the match in which Son was not on Match Sheet with NaN values\n",
    "spurs_data_kmeans = spurs_data_kmeans.replace('On m', None)"
   ]
  },
  {
   "cell_type": "code",
   "execution_count": 108,
   "metadata": {},
   "outputs": [],
   "source": [
    "for col in spurs_data_kmeans.columns :\n",
    "    spurs_data_kmeans[col] = pd.to_numeric(spurs_data_kmeans[col])"
   ]
  },
  {
   "cell_type": "code",
   "execution_count": 142,
   "metadata": {},
   "outputs": [],
   "source": [
    "spurs_data_kmeans = spurs_data_kmeans.fillna(spurs_data_kmeans.mean())"
   ]
  },
  {
   "source": [
    "## Split the data : If Son scored and if Son didn't score and store them in csv file (for Silhouette Analysis)"
   ],
   "cell_type": "markdown",
   "metadata": {}
  },
  {
   "source": [
    "### Hamburg data"
   ],
   "cell_type": "markdown",
   "metadata": {}
  },
  {
   "cell_type": "code",
   "execution_count": 110,
   "metadata": {},
   "outputs": [],
   "source": [
    "hamburg_data_kmeans_no_goals = hamburg_data_kmeans[hamburg_data_kmeans['Gls'] < 1]"
   ]
  },
  {
   "cell_type": "code",
   "execution_count": 116,
   "metadata": {},
   "outputs": [],
   "source": [
    "hamburg_data_kmeans_no_goals.to_csv(\"Son_hamburg_no_goals.csv\", index=False)"
   ]
  },
  {
   "cell_type": "code",
   "execution_count": 121,
   "metadata": {},
   "outputs": [],
   "source": [
    "hamburg_data_kmeans_goals = hamburg_data_kmeans[hamburg_data_kmeans['Gls'] >= 1]"
   ]
  },
  {
   "cell_type": "code",
   "execution_count": 123,
   "metadata": {},
   "outputs": [],
   "source": [
    "hamburg_data_kmeans_goals.to_csv(\"Son_hamburg_goals.csv\", index=False)"
   ]
  },
  {
   "source": [
    "### Leverkusen data"
   ],
   "cell_type": "markdown",
   "metadata": {}
  },
  {
   "cell_type": "code",
   "execution_count": 138,
   "metadata": {},
   "outputs": [],
   "source": [
    "leverkusen_data_kmeans_no_goals = leverkusen_data_kmeans[leverkusen_data_kmeans['Gls'] < 1]"
   ]
  },
  {
   "cell_type": "code",
   "execution_count": 139,
   "metadata": {},
   "outputs": [],
   "source": [
    "leverkusen_data_kmeans_no_goals.to_csv(\"Son_leverkusen_no_goals.csv\", index=False)"
   ]
  },
  {
   "cell_type": "code",
   "execution_count": 140,
   "metadata": {},
   "outputs": [],
   "source": [
    "leverkusen_data_kmeans_goals = leverkusen_data_kmeans[leverkusen_data_kmeans['Gls'] >= 1]"
   ]
  },
  {
   "cell_type": "code",
   "execution_count": 141,
   "metadata": {},
   "outputs": [],
   "source": [
    "leverkusen_data_kmeans_goals.to_csv(\"Son_leverkusen_goals.csv\", index=False)"
   ]
  },
  {
   "source": [
    "### Spurs data"
   ],
   "cell_type": "markdown",
   "metadata": {}
  },
  {
   "cell_type": "code",
   "execution_count": 145,
   "metadata": {},
   "outputs": [],
   "source": [
    "spurs_data_kmeans_no_goals = spurs_data_kmeans[spurs_data_kmeans['Gls'] < 1]"
   ]
  },
  {
   "cell_type": "code",
   "execution_count": 146,
   "metadata": {},
   "outputs": [],
   "source": [
    "spurs_data_kmeans_no_goals.to_csv(\"Son_spurs_no_goals.csv\", index=False)"
   ]
  },
  {
   "cell_type": "code",
   "execution_count": 147,
   "metadata": {},
   "outputs": [],
   "source": [
    "spurs_data_kmeans_goals = spurs_data_kmeans[spurs_data_kmeans['Gls'] >= 1]"
   ]
  },
  {
   "cell_type": "code",
   "execution_count": 148,
   "metadata": {},
   "outputs": [],
   "source": [
    "spurs_data_kmeans_goals.to_csv(\"Son_spurs_goals.csv\", index=False)"
   ]
  },
  {
   "source": [
    "## Apply K-means on Hamburg .csv files"
   ],
   "cell_type": "markdown",
   "metadata": {}
  },
  {
   "cell_type": "code",
   "execution_count": 9,
   "metadata": {},
   "outputs": [
    {
     "output_type": "stream",
     "name": "stdout",
     "text": [
      "---------------------- Values for Cluster --------------- 1  ---------------------\nStart :  1.0\nGls :  1.1429\nSh :  0.0\nSoT :  0.0\nHome_1_Away_0 :  0.3571\nxG :  0.0\nSCA :  0.0\nGCA :  0.0\nElo_Diff :  15.9286\n14  Games included in this cluster\n---------------------- Values for Cluster --------------- 2  ---------------------\nStart :  1.0\nGls :  2.0\nSh :  0.0\nSoT :  0.0\nHome_1_Away_0 :  0.5\nxG :  0.0\nSCA :  0.0\nGCA :  0.0\nElo_Diff :  -276.5\n2  Games included in this cluster\n"
     ]
    }
   ],
   "source": [
    "KMC(\"Son_hamburg_goals.csv\", 2)"
   ]
  },
  {
   "cell_type": "code",
   "execution_count": 10,
   "metadata": {},
   "outputs": [
    {
     "output_type": "stream",
     "name": "stdout",
     "text": [
      "---------------------- Values for Cluster --------------- 1  ---------------------\nStart :  0.5652\nGls :  0.0\nSh :  0.0\nSoT :  0.0\nHome_1_Away_0 :  0.5217\nxG :  0.0\nSCA :  0.0\nGCA :  0.0\nElo_Diff :  -15.9565\n23  Games included in this cluster\n---------------------- Values for Cluster --------------- 2  ---------------------\nStart :  0.6\nGls :  0.0\nSh :  0.0\nSoT :  0.0\nHome_1_Away_0 :  0.4\nxG :  0.0\nSCA :  0.0\nGCA :  0.0\nElo_Diff :  -89.6\n15  Games included in this cluster\n---------------------- Values for Cluster --------------- 3  ---------------------\nStart :  0.75\nGls :  0.0\nSh :  0.0\nSoT :  0.0\nHome_1_Away_0 :  0.5\nxG :  0.0\nSCA :  0.0\nGCA :  0.0\nElo_Diff :  -238.75\n4  Games included in this cluster\n---------------------- Values for Cluster --------------- 4  ---------------------\nStart :  0.6\nGls :  0.0\nSh :  0.0\nSoT :  0.0\nHome_1_Away_0 :  0.6667\nxG :  0.0\nSCA :  0.0\nGCA :  0.0\nElo_Diff :  60.0\n15  Games included in this cluster\n"
     ]
    }
   ],
   "source": [
    "KMC(\"Son_hamburg_no_goals.csv\", 4)"
   ]
  },
  {
   "source": [
    "## Apply K-means on Leverkusen .csv files"
   ],
   "cell_type": "markdown",
   "metadata": {}
  },
  {
   "cell_type": "code",
   "execution_count": 11,
   "metadata": {},
   "outputs": [
    {
     "output_type": "stream",
     "name": "stdout",
     "text": [
      "---------------------- Values for Cluster --------------- 1  ---------------------\nStart :  0.8571\nGls :  1.7143\nSh :  2.4424\nSoT :  1.3456\nHome_1_Away_0 :  0.5714\nxG :  0.0\nSCA :  0.0\nGCA :  0.0\nElo_Diff :  169.7143\n7  Games included in this cluster\n---------------------- Values for Cluster --------------- 2  ---------------------\nStart :  1.0\nGls :  1.6667\nSh :  3.0215\nSoT :  1.5376\nHome_1_Away_0 :  0.5079\nxG :  0.0\nSCA :  0.0\nGCA :  0.0\nElo_Diff :  -60.6667\n3  Games included in this cluster\n---------------------- Values for Cluster --------------- 3  ---------------------\nStart :  1.0\nGls :  1.1667\nSh :  2.3548\nSoT :  0.871\nHome_1_Away_0 :  0.4206\nxG :  0.0\nSCA :  0.0\nGCA :  0.0\nElo_Diff :  69.3333\n6  Games included in this cluster\n---------------------- Values for Cluster --------------- 4  ---------------------\nStart :  1.0\nGls :  1.0\nSh :  2.0323\nSoT :  0.8065\nHome_1_Away_0 :  0.5238\nxG :  0.0\nSCA :  0.0\nGCA :  0.0\nElo_Diff :  274.0\n2  Games included in this cluster\n"
     ]
    }
   ],
   "source": [
    "KMC(\"Son_leverkusen_goals.csv\", 4)"
   ]
  },
  {
   "cell_type": "code",
   "execution_count": 12,
   "metadata": {},
   "outputs": [
    {
     "output_type": "stream",
     "name": "stdout",
     "text": [
      "---------------------- Values for Cluster --------------- 1  ---------------------\nStart :  0.75\nGls :  0.0\nSh :  1.9409\nSoT :  0.6882\nHome_1_Away_0 :  0.5119\nxG :  0.0\nSCA :  0.0\nGCA :  0.0\nElo_Diff :  -154.0\n12  Games included in this cluster\n---------------------- Values for Cluster --------------- 2  ---------------------\nStart :  0.9216\nGls :  0.0\nSh :  1.9013\nSoT :  0.7097\nHome_1_Away_0 :  0.5331\nxG :  0.0\nSCA :  0.0\nGCA :  0.0\nElo_Diff :  120.4118\n51  Games included in this cluster\n"
     ]
    }
   ],
   "source": [
    "KMC(\"Son_leverkusen_no_goals.csv\", 2)"
   ]
  },
  {
   "source": [
    "## Apply K-means on Spurs .csv files"
   ],
   "cell_type": "markdown",
   "metadata": {}
  },
  {
   "cell_type": "code",
   "execution_count": 13,
   "metadata": {},
   "outputs": [
    {
     "output_type": "stream",
     "name": "stdout",
     "text": [
      "---------------------- Values for Cluster --------------- 1  ---------------------\nStart :  0.1951\nGls :  1.2927\nSh :  3.878\nSoT :  2.0244\nHome_1_Away_0 :  0.6103\nxG :  0.5491\nSCA :  3.5155\nGCA :  0.8677\nElo_Diff :  217.3415\n41  Games included in this cluster\n---------------------- Values for Cluster --------------- 2  ---------------------\nStart :  0.5455\nGls :  1.2273\nSh :  3.3182\nSoT :  1.8636\nHome_1_Away_0 :  0.5244\nxG :  0.429\nSCA :  2.7234\nGCA :  0.548\nElo_Diff :  -2.8636\n22  Games included in this cluster\n"
     ]
    }
   ],
   "source": [
    "KMC(\"Son_spurs_goals.csv\", 2)"
   ]
  },
  {
   "cell_type": "code",
   "execution_count": 14,
   "metadata": {},
   "outputs": [
    {
     "output_type": "stream",
     "name": "stdout",
     "text": [
      "---------------------- Values for Cluster --------------- 1  ---------------------\nStart :  0.1413\nGls :  0.0\nSh :  1.6304\nSoT :  0.4783\nHome_1_Away_0 :  0.4461\nxG :  0.1907\nSCA :  2.5805\nGCA :  0.4536\nElo_Diff :  213.0543\n92  Games included in this cluster\n---------------------- Values for Cluster --------------- 2  ---------------------\nStart :  0.2462\nGls :  0.0\nSh :  1.7231\nSoT :  0.7692\nHome_1_Away_0 :  0.5164\nxG :  0.2277\nSCA :  2.4804\nGCA :  0.3413\nElo_Diff :  -11.0923\n65  Games included in this cluster\n"
     ]
    }
   ],
   "source": [
    "KMC(\"Son_spurs_no_goals.csv\", 2)"
   ]
  },
  {
   "cell_type": "code",
   "execution_count": 43,
   "metadata": {},
   "outputs": [
    {
     "output_type": "stream",
     "name": "stdout",
     "text": [
      "---------------------- Values for Cluster --------------- 1  ---------------------\nStart :  0.1413\nGls :  0.0\nSh :  1.6304\nSoT :  0.4783\nHome_1_Away_0 :  0.4461\nxG :  0.1907\nSCA :  2.5805\nGCA :  0.4536\nElo_Diff :  213.0543\n92  Games included in this cluster\n[  0   3   5   6   8  11  12  13  14  16  17  19  20  23  24  25  27  29\n  31  35  38  40  41  42  44  45  46  48  49  50  52  54  55  57  58  59\n  60  61  62  63  68  69  71  72  73  78  80  82  83  84  85  86  87  89\n  90  91  93  94  95  97  98  99 100 103 104 106 110 112 114 115 116 119\n 121 122 123 124 125 127 128 129 135 137 138 140 142 144 145 146 148 151\n 152 154]\n---------------------- Values for Cluster --------------- 2  ---------------------\nStart :  0.2462\nGls :  0.0\nSh :  1.7231\nSoT :  0.7692\nHome_1_Away_0 :  0.5164\nxG :  0.2277\nSCA :  2.4804\nGCA :  0.3413\nElo_Diff :  -11.0923\n65  Games included in this cluster\n[  1   2   4   7   9  10  15  18  21  22  26  28  30  32  33  34  36  37\n  39  43  47  51  53  56  64  65  66  67  70  74  75  76  77  79  81  88\n  92  96 101 102 105 107 108 109 111 113 117 118 120 126 130 131 132 133\n 134 136 139 141 143 147 149 150 153 155 156]\n"
     ]
    }
   ],
   "source": [
    "test = KMC_details(\"Son_spurs_no_goals.csv\", 2)"
   ]
  },
  {
   "cell_type": "code",
   "execution_count": null,
   "metadata": {},
   "outputs": [],
   "source": []
  }
 ]
}