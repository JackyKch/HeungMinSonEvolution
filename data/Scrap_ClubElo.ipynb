{
 "metadata": {
  "language_info": {
   "codemirror_mode": {
    "name": "ipython",
    "version": 3
   },
   "file_extension": ".py",
   "mimetype": "text/x-python",
   "name": "python",
   "nbconvert_exporter": "python",
   "pygments_lexer": "ipython3",
   "version": "3.9.0-final"
  },
  "orig_nbformat": 2,
  "kernelspec": {
   "name": "python3",
   "display_name": "Python 3.9.0 64-bit",
   "metadata": {
    "interpreter": {
     "hash": "6f63aac4862f49defdc0ab97c706aeed6401f5109f2f5eb8ddfd96c2030351e5"
    }
   }
  }
 },
 "nbformat": 4,
 "nbformat_minor": 2,
 "cells": [
  {
   "source": [
    "## Imports"
   ],
   "cell_type": "markdown",
   "metadata": {}
  },
  {
   "cell_type": "code",
   "execution_count": 2,
   "metadata": {},
   "outputs": [],
   "source": [
    "import requests \n",
    "import csv\n",
    "from io import StringIO\n",
    "import pandas as pd \n",
    "import datetime"
   ]
  },
  {
   "source": [
    "## Get to the ClubElo API for the 3 different clubs Son played"
   ],
   "cell_type": "markdown",
   "metadata": {}
  },
  {
   "cell_type": "code",
   "execution_count": 3,
   "metadata": {},
   "outputs": [],
   "source": [
    "r_hamburg = requests.get('http://api.clubelo.com/Hamburg')"
   ]
  },
  {
   "cell_type": "code",
   "execution_count": 4,
   "metadata": {},
   "outputs": [],
   "source": [
    "r_leverkusen = requests.get('http://api.clubelo.com/Leverkusen')"
   ]
  },
  {
   "cell_type": "code",
   "execution_count": 5,
   "metadata": {},
   "outputs": [],
   "source": [
    "r_spurs = requests.get('http://api.clubelo.com/Tottenham')"
   ]
  },
  {
   "source": [
    "### Store the data in Dataframes"
   ],
   "cell_type": "markdown",
   "metadata": {}
  },
  {
   "cell_type": "code",
   "execution_count": 6,
   "metadata": {},
   "outputs": [],
   "source": [
    "data_hamburg = StringIO(r_hamburg.text)\n",
    "\n",
    "df_hamburg = pd.read_csv(data_hamburg, sep =',')"
   ]
  },
  {
   "cell_type": "code",
   "execution_count": 7,
   "metadata": {},
   "outputs": [],
   "source": [
    "data_leverkusen = StringIO(r_leverkusen.text)\n",
    "\n",
    "df_leverkusen = pd.read_csv(data_leverkusen, sep =',')"
   ]
  },
  {
   "cell_type": "code",
   "execution_count": 8,
   "metadata": {},
   "outputs": [],
   "source": [
    "data_spurs = StringIO(r_spurs.text)\n",
    "\n",
    "df_spurs = pd.read_csv(data_spurs,sep=',')"
   ]
  },
  {
   "source": [
    "### Change data type for Date columns"
   ],
   "cell_type": "markdown",
   "metadata": {}
  },
  {
   "cell_type": "code",
   "execution_count": 9,
   "metadata": {},
   "outputs": [],
   "source": [
    "df_hamburg.From = pd.to_datetime(df_hamburg['From'])\n",
    "df_hamburg.To = pd.to_datetime(df_hamburg['To'])"
   ]
  },
  {
   "cell_type": "code",
   "execution_count": 10,
   "metadata": {},
   "outputs": [],
   "source": [
    "df_leverkusen.From = pd.to_datetime(df_leverkusen['From'])\n",
    "df_leverkusen.To = pd.to_datetime(df_leverkusen['To'])"
   ]
  },
  {
   "cell_type": "code",
   "execution_count": 11,
   "metadata": {},
   "outputs": [],
   "source": [
    "df_spurs.From = pd.to_datetime(df_spurs['From'])\n",
    "df_spurs.To = pd.to_datetime(df_spurs['To'])"
   ]
  },
  {
   "source": [
    "### Open the file with all the matchs' data"
   ],
   "cell_type": "markdown",
   "metadata": {}
  },
  {
   "cell_type": "code",
   "execution_count": 12,
   "metadata": {},
   "outputs": [],
   "source": [
    "data_match = pd.read_csv(\"club/all_season/Son_data_champ-ldc_matchs_details_all_season.csv\")"
   ]
  },
  {
   "cell_type": "code",
   "execution_count": 13,
   "metadata": {},
   "outputs": [],
   "source": [
    "data_match.Date = pd.to_datetime(data_match['Date'])"
   ]
  },
  {
   "source": [
    "## Create column 'Elo' based on data acquired from the API"
   ],
   "cell_type": "markdown",
   "metadata": {}
  },
  {
   "cell_type": "code",
   "execution_count": 14,
   "metadata": {},
   "outputs": [],
   "source": [
    "data_match['Elo'] = 0\n",
    "\n",
    "start_leverkusen = datetime.datetime(2013,8,10)\n",
    "start_spurs = datetime.datetime(2015,9,13)\n",
    "\n",
    "for i in range (len(data_match)) :\n",
    "    #Elo for Hamburg\n",
    "    if (data_match['Date'][i] < start_leverkusen):\n",
    "        for j in range(len(df_hamburg)):\n",
    "            if (data_match['Date'][i] >= df_hamburg['From'][j]) & (data_match['Date'][i] <= df_hamburg['To'][j]) :\n",
    "                data_match['Elo'][i] = df_hamburg['Elo'][j]\n",
    "    #Elo for Leverkusen games\n",
    "    elif ((data_match['Date'][i]>= start_leverkusen) &(data_match['Date'][i] < start_spurs)):\n",
    "        for k in range(len(df_leverkusen)):\n",
    "            if (data_match['Date'][i] >= df_leverkusen['From'][k]) & (data_match['Date'][i] <= df_leverkusen['To'][k]) :\n",
    "                data_match['Elo'][i] = df_leverkusen['Elo'][k]\n",
    "    #Elo for Spurs games\n",
    "    else : \n",
    "        for l in range(len(df_spurs)):\n",
    "            if (data_match['Date'][i] >= df_spurs['From'][l]) & (data_match['Date'][i] <= df_spurs['To'][l]) :\n",
    "                data_match['Elo'][i] = df_spurs['Elo'][l]\n",
    "            \n",
    "    \n"
   ]
  },
  {
   "cell_type": "code",
   "execution_count": 15,
   "metadata": {},
   "outputs": [
    {
     "output_type": "execute_result",
     "data": {
      "text/plain": [
       "0      1750\n",
       "1      1741\n",
       "2      1747\n",
       "3      1740\n",
       "4      1731\n",
       "       ... \n",
       "369    1845\n",
       "370    1836\n",
       "371    1824\n",
       "372    1816\n",
       "373    1819\n",
       "Name: Elo, Length: 374, dtype: int64"
      ]
     },
     "metadata": {},
     "execution_count": 15
    }
   ],
   "source": [
    "data_match.Elo"
   ]
  },
  {
   "cell_type": "code",
   "execution_count": 16,
   "metadata": {},
   "outputs": [],
   "source": [
    "data_match.to_csv(\"club/all_season/Son_data_champ-ldc_matchs_details_all_season.csv\", index= False)"
   ]
  },
  {
   "cell_type": "code",
   "execution_count": null,
   "metadata": {},
   "outputs": [],
   "source": []
  }
 ]
}