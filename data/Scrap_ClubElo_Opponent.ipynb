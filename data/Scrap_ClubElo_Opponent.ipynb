{
 "metadata": {
  "language_info": {
   "codemirror_mode": {
    "name": "ipython",
    "version": 3
   },
   "file_extension": ".py",
   "mimetype": "text/x-python",
   "name": "python",
   "nbconvert_exporter": "python",
   "pygments_lexer": "ipython3",
   "version": "3.9.0-final"
  },
  "orig_nbformat": 2,
  "kernelspec": {
   "name": "python3",
   "display_name": "Python 3.9.0 64-bit",
   "metadata": {
    "interpreter": {
     "hash": "6f63aac4862f49defdc0ab97c706aeed6401f5109f2f5eb8ddfd96c2030351e5"
    }
   }
  }
 },
 "nbformat": 4,
 "nbformat_minor": 2,
 "cells": [
  {
   "source": [
    "# Scrap the Opponent Team Elo for each game from ClubElo.com"
   ],
   "cell_type": "markdown",
   "metadata": {}
  },
  {
   "source": [
    "## Imports & Webdriver options"
   ],
   "cell_type": "markdown",
   "metadata": {}
  },
  {
   "cell_type": "code",
   "execution_count": 1,
   "metadata": {},
   "outputs": [],
   "source": [
    "from selenium import webdriver\n",
    "import pandas as pd"
   ]
  },
  {
   "cell_type": "code",
   "execution_count": 2,
   "metadata": {},
   "outputs": [],
   "source": [
    "options = webdriver.ChromeOptions()"
   ]
  },
  {
   "cell_type": "code",
   "execution_count": 3,
   "metadata": {},
   "outputs": [],
   "source": [
    "options.add_argument(\"--incognito\")"
   ]
  },
  {
   "cell_type": "code",
   "execution_count": 7,
   "metadata": {},
   "outputs": [],
   "source": [
    "driver = webdriver.Chrome(\"../chromedriver.exe\", options= options)"
   ]
  },
  {
   "source": [
    "## Load the dataframe with all the games we are looking for "
   ],
   "cell_type": "markdown",
   "metadata": {}
  },
  {
   "cell_type": "code",
   "execution_count": 67,
   "metadata": {},
   "outputs": [],
   "source": [
    "data_match = pd.read_csv(\"club/all_season/Son_data_champ-ldc_matchs_details_all_season.csv\")"
   ]
  },
  {
   "source": [
    "### Take a look at the opponents' name "
   ],
   "cell_type": "markdown",
   "metadata": {}
  },
  {
   "cell_type": "code",
   "execution_count": 68,
   "metadata": {},
   "outputs": [
    {
     "output_type": "execute_result",
     "data": {
      "text/plain": [
       "array(['Köln', 'Hoffenheim', 'Dortmund', 'Hannover 96', 'Stuttgart',\n",
       "       'Freiburg', 'Leverkusen', 'Werder Bremen', 'Hertha BSC',\n",
       "       'Bayern Munich', 'KÃ¶ln', \"M'Gladbach\", 'Schalke 04', 'NÃ¼rnberg',\n",
       "       'Augsburg', 'Wolfsburg', 'Kaiserslautern', 'Mainz 05', 'Nürnberg',\n",
       "       'Eint Frankfurt', 'Greuther Fürth', 'Düsseldorf', 'Manchester Utd',\n",
       "       'Real Sociedad', 'Shakhtar', 'Hamburger SV', 'Paris S-G',\n",
       "       'Braunschweig', 'dk FC Copenhagen', 'FC Copenhagen', 'Monaco',\n",
       "       'Benfica', 'Paderborn 07', 'Zenit', 'Atlético Madrid',\n",
       "       'Sunderland', 'Crystal Palace', 'Manchester City', 'Arsenal',\n",
       "       'West Ham', 'Chelsea', 'West Brom', 'Newcastle Utd', 'Southampton',\n",
       "       'Norwich City', 'Watford', 'Everton', 'Leicester City',\n",
       "       'Swansea City', 'Aston Villa', 'Bournemouth', 'Liverpool',\n",
       "       'Stoke City', 'Middlesbrough', 'CSKA Moscow', 'Hull City',\n",
       "       'Burnley', 'APOEL FC', 'Huddersfield', 'Real Madrid', 'Brighton',\n",
       "       'Juventus', 'Inter', 'Barcelona', 'Cardiff City', 'PSV Eindhoven',\n",
       "       'Wolves', 'Ajax', 'Olympiacos', 'Red Star', 'Sheffield Utd',\n",
       "       'Leeds United', 'Fulham'], dtype=object)"
      ]
     },
     "metadata": {},
     "execution_count": 68
    }
   ],
   "source": [
    "data_match['Opponent'].unique()"
   ]
  },
  {
   "cell_type": "code",
   "execution_count": 73,
   "metadata": {},
   "outputs": [
    {
     "output_type": "execute_result",
     "data": {
      "text/plain": [
       "73"
      ]
     },
     "metadata": {},
     "execution_count": 73
    }
   ],
   "source": [
    "len(data_match['Opponent'].unique())"
   ]
  },
  {
   "source": [
    "## Replace the opponent names with the names used on ClubElo's links"
   ],
   "cell_type": "markdown",
   "metadata": {}
  },
  {
   "cell_type": "code",
   "execution_count": 74,
   "metadata": {},
   "outputs": [],
   "source": [
    "data_match['Opponent_NewNames']=data_match['Opponent']"
   ]
  },
  {
   "source": [
    "### Change one by one the names that need to be changed"
   ],
   "cell_type": "markdown",
   "metadata": {}
  },
  {
   "cell_type": "code",
   "execution_count": 75,
   "metadata": {},
   "outputs": [],
   "source": [
    "data_match['Opponent_NewNames'] = data_match['Opponent_NewNames'].replace('Köln','Koeln')"
   ]
  },
  {
   "cell_type": "code",
   "execution_count": 76,
   "metadata": {},
   "outputs": [],
   "source": [
    "data_match['Opponent_NewNames'] = data_match['Opponent_NewNames'].replace('KÃ¶ln','Koeln')"
   ]
  },
  {
   "cell_type": "code",
   "execution_count": 77,
   "metadata": {},
   "outputs": [],
   "source": [
    "data_match['Opponent_NewNames'] = data_match['Opponent_NewNames'].replace('Hannover 96','Hannover')"
   ]
  },
  {
   "cell_type": "code",
   "execution_count": 78,
   "metadata": {},
   "outputs": [],
   "source": [
    "data_match['Opponent_NewNames'] = data_match['Opponent_NewNames'].replace('Werder Bremen','Werder')"
   ]
  },
  {
   "cell_type": "code",
   "execution_count": 79,
   "metadata": {},
   "outputs": [],
   "source": [
    "data_match['Opponent_NewNames'] = data_match['Opponent_NewNames'].replace('Bayern Munich','Bayern')"
   ]
  },
  {
   "cell_type": "code",
   "execution_count": 80,
   "metadata": {},
   "outputs": [],
   "source": [
    "data_match['Opponent_NewNames'] = data_match['Opponent_NewNames'].replace(\"M'Gladbach\",'Gladbach')"
   ]
  },
  {
   "cell_type": "code",
   "execution_count": 81,
   "metadata": {},
   "outputs": [],
   "source": [
    "data_match['Opponent_NewNames'] = data_match['Opponent_NewNames'].replace(\"Schalke 04\",'Schalke')"
   ]
  },
  {
   "cell_type": "code",
   "execution_count": 82,
   "metadata": {},
   "outputs": [],
   "source": [
    "data_match['Opponent_NewNames'] = data_match['Opponent_NewNames'].replace(\"NÃ¼rnberg\",'Nuernberg')"
   ]
  },
  {
   "cell_type": "code",
   "execution_count": 83,
   "metadata": {},
   "outputs": [],
   "source": [
    "data_match['Opponent_NewNames'] = data_match['Opponent_NewNames'].replace(\"Nürnberg\",'Nuernberg')"
   ]
  },
  {
   "cell_type": "code",
   "execution_count": 84,
   "metadata": {},
   "outputs": [],
   "source": [
    "data_match['Opponent_NewNames'] = data_match['Opponent_NewNames'].replace('Kaiserslautern','Lautern')"
   ]
  },
  {
   "cell_type": "code",
   "execution_count": 85,
   "metadata": {},
   "outputs": [],
   "source": [
    "data_match['Opponent_NewNames'] = data_match['Opponent_NewNames'].replace('Mainz 05','Mainz')"
   ]
  },
  {
   "cell_type": "code",
   "execution_count": 86,
   "metadata": {},
   "outputs": [],
   "source": [
    "data_match['Opponent_NewNames'] = data_match['Opponent_NewNames'].replace('Eint Frankfurt','Frankfurt')"
   ]
  },
  {
   "cell_type": "code",
   "execution_count": 87,
   "metadata": {},
   "outputs": [],
   "source": [
    "data_match['Opponent_NewNames'] = data_match['Opponent_NewNames'].replace('Greuther Fürth','Fuerth')"
   ]
  },
  {
   "cell_type": "code",
   "execution_count": 88,
   "metadata": {},
   "outputs": [],
   "source": [
    "data_match['Opponent_NewNames'] = data_match['Opponent_NewNames'].replace('Düsseldorf','Duesseldorf')"
   ]
  },
  {
   "cell_type": "code",
   "execution_count": 89,
   "metadata": {},
   "outputs": [],
   "source": [
    "data_match['Opponent_NewNames'] = data_match['Opponent_NewNames'].replace('Hamburger SV','Hamburg')"
   ]
  },
  {
   "cell_type": "code",
   "execution_count": 90,
   "metadata": {},
   "outputs": [],
   "source": [
    "data_match['Opponent_NewNames'] = data_match['Opponent_NewNames'].replace('Paderborn 07','Paderborn')"
   ]
  },
  {
   "cell_type": "code",
   "execution_count": 91,
   "metadata": {},
   "outputs": [],
   "source": [
    "data_match['Opponent_NewNames'] = data_match['Opponent_NewNames'].replace('Crystal Palace','CrystalPalace')\n"
   ]
  },
  {
   "cell_type": "code",
   "execution_count": 92,
   "metadata": {},
   "outputs": [],
   "source": [
    "data_match['Opponent_NewNames'] = data_match['Opponent_NewNames'].replace('Manchester City','ManCity')"
   ]
  },
  {
   "cell_type": "code",
   "execution_count": 93,
   "metadata": {},
   "outputs": [],
   "source": [
    "data_match['Opponent_NewNames'] = data_match['Opponent_NewNames'].replace('West Ham','WestHam')"
   ]
  },
  {
   "cell_type": "code",
   "execution_count": 94,
   "metadata": {},
   "outputs": [],
   "source": [
    "data_match['Opponent_NewNames'] = data_match['Opponent_NewNames'].replace('West Brom','WestBrom')"
   ]
  },
  {
   "cell_type": "code",
   "execution_count": 95,
   "metadata": {},
   "outputs": [],
   "source": [
    "data_match['Opponent_NewNames'] = data_match['Opponent_NewNames'].replace('Newcastle Utd','Newcastle')"
   ]
  },
  {
   "cell_type": "code",
   "execution_count": 96,
   "metadata": {},
   "outputs": [],
   "source": [
    "data_match['Opponent_NewNames'] = data_match['Opponent_NewNames'].replace('Norwich City','Norwich')"
   ]
  },
  {
   "cell_type": "code",
   "execution_count": 97,
   "metadata": {},
   "outputs": [],
   "source": [
    "data_match['Opponent_NewNames'] = data_match['Opponent_NewNames'].replace('Leicester City','Leicester')"
   ]
  },
  {
   "cell_type": "code",
   "execution_count": 98,
   "metadata": {},
   "outputs": [],
   "source": [
    "data_match['Opponent_NewNames'] = data_match['Opponent_NewNames'].replace('Swansea City','Swansea')"
   ]
  },
  {
   "cell_type": "code",
   "execution_count": 99,
   "metadata": {},
   "outputs": [],
   "source": [
    "data_match['Opponent_NewNames'] = data_match['Opponent_NewNames'].replace('Aston Villa','AstonVilla')"
   ]
  },
  {
   "cell_type": "code",
   "execution_count": 100,
   "metadata": {},
   "outputs": [],
   "source": [
    "data_match['Opponent_NewNames'] = data_match['Opponent_NewNames'].replace('Manchester Utd','ManUnited')"
   ]
  },
  {
   "cell_type": "code",
   "execution_count": 101,
   "metadata": {},
   "outputs": [],
   "source": [
    "data_match['Opponent_NewNames'] = data_match['Opponent_NewNames'].replace('Stoke City','Stoke')\n"
   ]
  },
  {
   "cell_type": "code",
   "execution_count": 102,
   "metadata": {},
   "outputs": [],
   "source": [
    "data_match['Opponent_NewNames'] = data_match['Opponent_NewNames'].replace('Hull City','Hull')"
   ]
  },
  {
   "cell_type": "code",
   "execution_count": 103,
   "metadata": {},
   "outputs": [],
   "source": [
    "data_match['Opponent_NewNames'] = data_match['Opponent_NewNames'].replace('Cardiff City','Cardiff')"
   ]
  },
  {
   "cell_type": "code",
   "execution_count": 104,
   "metadata": {},
   "outputs": [],
   "source": [
    "data_match['Opponent_NewNames'] = data_match['Opponent_NewNames'].replace('Sheffield Utd','SheffieldUnited')"
   ]
  },
  {
   "cell_type": "code",
   "execution_count": 105,
   "metadata": {},
   "outputs": [],
   "source": [
    "data_match['Opponent_NewNames'] = data_match['Opponent_NewNames'].replace('Real Sociedad','Sociedad')"
   ]
  },
  {
   "cell_type": "code",
   "execution_count": 106,
   "metadata": {},
   "outputs": [],
   "source": [
    "data_match['Opponent_NewNames'] = data_match['Opponent_NewNames'].replace('Atlético Madrid','Atletico')"
   ]
  },
  {
   "cell_type": "code",
   "execution_count": 107,
   "metadata": {},
   "outputs": [],
   "source": [
    "data_match['Opponent_NewNames'] = data_match['Opponent_NewNames'].replace('Real Madrid','RealMadrid')"
   ]
  },
  {
   "cell_type": "code",
   "execution_count": 108,
   "metadata": {},
   "outputs": [],
   "source": [
    "data_match['Opponent_NewNames'] = data_match['Opponent_NewNames'].replace('Paris S-G','ParisSG')"
   ]
  },
  {
   "cell_type": "code",
   "execution_count": 109,
   "metadata": {},
   "outputs": [],
   "source": [
    "data_match['Opponent_NewNames'] = data_match['Opponent_NewNames'].replace('APOEL FC','APOEL')"
   ]
  },
  {
   "cell_type": "code",
   "execution_count": 110,
   "metadata": {},
   "outputs": [],
   "source": [
    "data_match['Opponent_NewNames'] = data_match['Opponent_NewNames'].replace('FC Copenhagen','FCKobenhavn')"
   ]
  },
  {
   "cell_type": "code",
   "execution_count": 111,
   "metadata": {},
   "outputs": [],
   "source": [
    "data_match['Opponent_NewNames'] = data_match['Opponent_NewNames'].replace('dk FC Copenhagen','FCKobenhavn')"
   ]
  },
  {
   "cell_type": "code",
   "execution_count": 112,
   "metadata": {},
   "outputs": [],
   "source": [
    "data_match['Opponent_NewNames'] = data_match['Opponent_NewNames'].replace('PSV Eindhoven','PSV')"
   ]
  },
  {
   "cell_type": "code",
   "execution_count": 113,
   "metadata": {},
   "outputs": [],
   "source": [
    "data_match['Opponent_NewNames'] = data_match['Opponent_NewNames'].replace('Olympiacos','Olympiakos')"
   ]
  },
  {
   "cell_type": "code",
   "execution_count": 114,
   "metadata": {},
   "outputs": [],
   "source": [
    "data_match['Opponent_NewNames'] = data_match['Opponent_NewNames'].replace('CSKA Moscow','CSKAMoskva')"
   ]
  },
  {
   "cell_type": "code",
   "execution_count": 115,
   "metadata": {},
   "outputs": [],
   "source": [
    "data_match['Opponent_NewNames'] = data_match['Opponent_NewNames'].replace('Red Star','CrvenaZvezda')"
   ]
  },
  {
   "cell_type": "code",
   "execution_count": 116,
   "metadata": {},
   "outputs": [],
   "source": [
    "data_match['Opponent_NewNames'] = data_match['Opponent_NewNames'].replace('Leeds United','Leeds')"
   ]
  },
  {
   "cell_type": "code",
   "execution_count": 117,
   "metadata": {},
   "outputs": [
    {
     "output_type": "execute_result",
     "data": {
      "text/plain": [
       "            Opponent Opponent_NewNames\n",
       "0               Köln             Koeln\n",
       "1         Hoffenheim        Hoffenheim\n",
       "2           Dortmund          Dortmund\n",
       "3        Hannover 96          Hannover\n",
       "4          Stuttgart         Stuttgart\n",
       "..               ...               ...\n",
       "369        Liverpool         Liverpool\n",
       "370         Brighton          Brighton\n",
       "371          Chelsea           Chelsea\n",
       "372        West Brom          WestBrom\n",
       "373  Manchester City           ManCity\n",
       "\n",
       "[374 rows x 2 columns]"
      ],
      "text/html": "<div>\n<style scoped>\n    .dataframe tbody tr th:only-of-type {\n        vertical-align: middle;\n    }\n\n    .dataframe tbody tr th {\n        vertical-align: top;\n    }\n\n    .dataframe thead th {\n        text-align: right;\n    }\n</style>\n<table border=\"1\" class=\"dataframe\">\n  <thead>\n    <tr style=\"text-align: right;\">\n      <th></th>\n      <th>Opponent</th>\n      <th>Opponent_NewNames</th>\n    </tr>\n  </thead>\n  <tbody>\n    <tr>\n      <th>0</th>\n      <td>Köln</td>\n      <td>Koeln</td>\n    </tr>\n    <tr>\n      <th>1</th>\n      <td>Hoffenheim</td>\n      <td>Hoffenheim</td>\n    </tr>\n    <tr>\n      <th>2</th>\n      <td>Dortmund</td>\n      <td>Dortmund</td>\n    </tr>\n    <tr>\n      <th>3</th>\n      <td>Hannover 96</td>\n      <td>Hannover</td>\n    </tr>\n    <tr>\n      <th>4</th>\n      <td>Stuttgart</td>\n      <td>Stuttgart</td>\n    </tr>\n    <tr>\n      <th>...</th>\n      <td>...</td>\n      <td>...</td>\n    </tr>\n    <tr>\n      <th>369</th>\n      <td>Liverpool</td>\n      <td>Liverpool</td>\n    </tr>\n    <tr>\n      <th>370</th>\n      <td>Brighton</td>\n      <td>Brighton</td>\n    </tr>\n    <tr>\n      <th>371</th>\n      <td>Chelsea</td>\n      <td>Chelsea</td>\n    </tr>\n    <tr>\n      <th>372</th>\n      <td>West Brom</td>\n      <td>WestBrom</td>\n    </tr>\n    <tr>\n      <th>373</th>\n      <td>Manchester City</td>\n      <td>ManCity</td>\n    </tr>\n  </tbody>\n</table>\n<p>374 rows × 2 columns</p>\n</div>"
     },
     "metadata": {},
     "execution_count": 117
    }
   ],
   "source": [
    "data_match[['Opponent','Opponent_NewNames']]"
   ]
  },
  {
   "cell_type": "code",
   "execution_count": null,
   "metadata": {},
   "outputs": [],
   "source": []
  }
 ]
}