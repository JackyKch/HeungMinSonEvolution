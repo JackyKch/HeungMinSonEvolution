{
 "metadata": {
  "language_info": {
   "codemirror_mode": {
    "name": "ipython",
    "version": 3
   },
   "file_extension": ".py",
   "mimetype": "text/x-python",
   "name": "python",
   "nbconvert_exporter": "python",
   "pygments_lexer": "ipython3",
   "version": "3.9.0-final"
  },
  "orig_nbformat": 2,
  "kernelspec": {
   "name": "python3",
   "display_name": "Python 3.9.0 64-bit",
   "metadata": {
    "interpreter": {
     "hash": "6f63aac4862f49defdc0ab97c706aeed6401f5109f2f5eb8ddfd96c2030351e5"
    }
   }
  }
 },
 "nbformat": 4,
 "nbformat_minor": 2,
 "cells": [
  {
   "source": [
    "# Scrap the Opponent Team Elo for each game from ClubElo.com"
   ],
   "cell_type": "markdown",
   "metadata": {}
  },
  {
   "source": [
    "## Imports & Webdriver options"
   ],
   "cell_type": "markdown",
   "metadata": {}
  },
  {
   "cell_type": "code",
   "execution_count": null,
   "metadata": {},
   "outputs": [],
   "source": [
    "from selenium import webdriver\n",
    "import pandas as pd"
   ]
  },
  {
   "cell_type": "code",
   "execution_count": null,
   "metadata": {},
   "outputs": [],
   "source": [
    "options = webdriver.ChromeOptions()"
   ]
  },
  {
   "cell_type": "code",
   "execution_count": null,
   "metadata": {},
   "outputs": [],
   "source": [
    "options.add_argument(\"--incognito\")"
   ]
  },
  {
   "cell_type": "code",
   "execution_count": null,
   "metadata": {},
   "outputs": [],
   "source": [
    "driver = webdriver.Chrome(\"../chromedriver.exe\", options= options)"
   ]
  },
  {
   "source": [
    "## Load the dataframe with all the games we are looking for "
   ],
   "cell_type": "markdown",
   "metadata": {}
  },
  {
   "cell_type": "code",
   "execution_count": 173,
   "metadata": {},
   "outputs": [],
   "source": [
    "data_match = pd.read_csv(\"club/all_season/Son_data_champ-ldc_matchs_details_all_season.csv\")"
   ]
  },
  {
   "source": [
    "### Take a look at the opponents' name "
   ],
   "cell_type": "markdown",
   "metadata": {}
  },
  {
   "cell_type": "code",
   "execution_count": null,
   "metadata": {},
   "outputs": [],
   "source": [
    "data_match['Opponent'].unique()"
   ]
  },
  {
   "cell_type": "code",
   "execution_count": null,
   "metadata": {},
   "outputs": [],
   "source": [
    "len(data_match['Opponent'].unique())"
   ]
  },
  {
   "source": [
    "## Replace the opponent names with the names used on ClubElo's links"
   ],
   "cell_type": "markdown",
   "metadata": {}
  },
  {
   "cell_type": "code",
   "execution_count": 174,
   "metadata": {},
   "outputs": [],
   "source": [
    "data_match['Opponent_NewNames']=data_match['Opponent']"
   ]
  },
  {
   "source": [
    "### Change one by one the names that need to be changed"
   ],
   "cell_type": "markdown",
   "metadata": {}
  },
  {
   "cell_type": "code",
   "execution_count": 175,
   "metadata": {},
   "outputs": [],
   "source": [
    "data_match['Opponent_NewNames'] = data_match['Opponent_NewNames'].replace('Köln','Koeln')"
   ]
  },
  {
   "cell_type": "code",
   "execution_count": 176,
   "metadata": {},
   "outputs": [],
   "source": [
    "data_match['Opponent_NewNames'] = data_match['Opponent_NewNames'].replace('KÃ¶ln','Koeln')"
   ]
  },
  {
   "cell_type": "code",
   "execution_count": 177,
   "metadata": {},
   "outputs": [],
   "source": [
    "data_match['Opponent_NewNames'] = data_match['Opponent_NewNames'].replace('Hannover 96','Hannover')"
   ]
  },
  {
   "cell_type": "code",
   "execution_count": 178,
   "metadata": {},
   "outputs": [],
   "source": [
    "data_match['Opponent_NewNames'] = data_match['Opponent_NewNames'].replace('Hertha BSC','Hertha')"
   ]
  },
  {
   "cell_type": "code",
   "execution_count": 179,
   "metadata": {},
   "outputs": [],
   "source": [
    "data_match['Opponent_NewNames'] = data_match['Opponent_NewNames'].replace('Werder Bremen','Werder')"
   ]
  },
  {
   "cell_type": "code",
   "execution_count": 180,
   "metadata": {},
   "outputs": [],
   "source": [
    "data_match['Opponent_NewNames'] = data_match['Opponent_NewNames'].replace('Bayern Munich','Bayern')"
   ]
  },
  {
   "cell_type": "code",
   "execution_count": 181,
   "metadata": {},
   "outputs": [],
   "source": [
    "data_match['Opponent_NewNames'] = data_match['Opponent_NewNames'].replace(\"M'Gladbach\",'Gladbach')"
   ]
  },
  {
   "cell_type": "code",
   "execution_count": 182,
   "metadata": {},
   "outputs": [],
   "source": [
    "data_match['Opponent_NewNames'] = data_match['Opponent_NewNames'].replace(\"Schalke 04\",'Schalke')"
   ]
  },
  {
   "cell_type": "code",
   "execution_count": 183,
   "metadata": {},
   "outputs": [],
   "source": [
    "data_match['Opponent_NewNames'] = data_match['Opponent_NewNames'].replace(\"NÃ¼rnberg\",'Nuernberg')"
   ]
  },
  {
   "cell_type": "code",
   "execution_count": 185,
   "metadata": {},
   "outputs": [],
   "source": [
    "data_match['Opponent_NewNames'] = data_match['Opponent_NewNames'].replace(\"Nürnberg\",'Nuernberg')"
   ]
  },
  {
   "cell_type": "code",
   "execution_count": 184,
   "metadata": {},
   "outputs": [],
   "source": [
    "data_match['Opponent_NewNames'] = data_match['Opponent_NewNames'].replace('Kaiserslautern','Lautern')"
   ]
  },
  {
   "cell_type": "code",
   "execution_count": 186,
   "metadata": {},
   "outputs": [],
   "source": [
    "data_match['Opponent_NewNames'] = data_match['Opponent_NewNames'].replace('Mainz 05','Mainz')"
   ]
  },
  {
   "cell_type": "code",
   "execution_count": 187,
   "metadata": {},
   "outputs": [],
   "source": [
    "data_match['Opponent_NewNames'] = data_match['Opponent_NewNames'].replace('Eint Frankfurt','Frankfurt')"
   ]
  },
  {
   "cell_type": "code",
   "execution_count": 188,
   "metadata": {},
   "outputs": [],
   "source": [
    "data_match['Opponent_NewNames'] = data_match['Opponent_NewNames'].replace('Greuther Fürth','Fuerth')"
   ]
  },
  {
   "cell_type": "code",
   "execution_count": 189,
   "metadata": {},
   "outputs": [],
   "source": [
    "data_match['Opponent_NewNames'] = data_match['Opponent_NewNames'].replace('Düsseldorf','Duesseldorf')"
   ]
  },
  {
   "cell_type": "code",
   "execution_count": 190,
   "metadata": {},
   "outputs": [],
   "source": [
    "data_match['Opponent_NewNames'] = data_match['Opponent_NewNames'].replace('Hamburger SV','Hamburg')"
   ]
  },
  {
   "cell_type": "code",
   "execution_count": 191,
   "metadata": {},
   "outputs": [],
   "source": [
    "data_match['Opponent_NewNames'] = data_match['Opponent_NewNames'].replace('Paderborn 07','Paderborn')"
   ]
  },
  {
   "cell_type": "code",
   "execution_count": 192,
   "metadata": {},
   "outputs": [],
   "source": [
    "data_match['Opponent_NewNames'] = data_match['Opponent_NewNames'].replace('Crystal Palace','CrystalPalace')\n"
   ]
  },
  {
   "cell_type": "code",
   "execution_count": 193,
   "metadata": {},
   "outputs": [],
   "source": [
    "data_match['Opponent_NewNames'] = data_match['Opponent_NewNames'].replace('Manchester City','ManCity')"
   ]
  },
  {
   "cell_type": "code",
   "execution_count": 194,
   "metadata": {},
   "outputs": [],
   "source": [
    "data_match['Opponent_NewNames'] = data_match['Opponent_NewNames'].replace('West Ham','WestHam')"
   ]
  },
  {
   "cell_type": "code",
   "execution_count": 195,
   "metadata": {},
   "outputs": [],
   "source": [
    "data_match['Opponent_NewNames'] = data_match['Opponent_NewNames'].replace('West Brom','WestBrom')"
   ]
  },
  {
   "cell_type": "code",
   "execution_count": 196,
   "metadata": {},
   "outputs": [],
   "source": [
    "data_match['Opponent_NewNames'] = data_match['Opponent_NewNames'].replace('Newcastle Utd','Newcastle')"
   ]
  },
  {
   "cell_type": "code",
   "execution_count": 197,
   "metadata": {},
   "outputs": [],
   "source": [
    "data_match['Opponent_NewNames'] = data_match['Opponent_NewNames'].replace('Norwich City','Norwich')"
   ]
  },
  {
   "cell_type": "code",
   "execution_count": 198,
   "metadata": {},
   "outputs": [],
   "source": [
    "data_match['Opponent_NewNames'] = data_match['Opponent_NewNames'].replace('Leicester City','Leicester')"
   ]
  },
  {
   "cell_type": "code",
   "execution_count": 199,
   "metadata": {},
   "outputs": [],
   "source": [
    "data_match['Opponent_NewNames'] = data_match['Opponent_NewNames'].replace('Swansea City','Swansea')"
   ]
  },
  {
   "cell_type": "code",
   "execution_count": 200,
   "metadata": {},
   "outputs": [],
   "source": [
    "data_match['Opponent_NewNames'] = data_match['Opponent_NewNames'].replace('Aston Villa','AstonVilla')"
   ]
  },
  {
   "cell_type": "code",
   "execution_count": 201,
   "metadata": {},
   "outputs": [],
   "source": [
    "data_match['Opponent_NewNames'] = data_match['Opponent_NewNames'].replace('Manchester Utd','ManUnited')"
   ]
  },
  {
   "cell_type": "code",
   "execution_count": 202,
   "metadata": {},
   "outputs": [],
   "source": [
    "data_match['Opponent_NewNames'] = data_match['Opponent_NewNames'].replace('Stoke City','Stoke')\n"
   ]
  },
  {
   "cell_type": "code",
   "execution_count": 203,
   "metadata": {},
   "outputs": [],
   "source": [
    "data_match['Opponent_NewNames'] = data_match['Opponent_NewNames'].replace('Hull City','Hull')"
   ]
  },
  {
   "cell_type": "code",
   "execution_count": 204,
   "metadata": {},
   "outputs": [],
   "source": [
    "data_match['Opponent_NewNames'] = data_match['Opponent_NewNames'].replace('Cardiff City','Cardiff')"
   ]
  },
  {
   "cell_type": "code",
   "execution_count": 205,
   "metadata": {},
   "outputs": [],
   "source": [
    "data_match['Opponent_NewNames'] = data_match['Opponent_NewNames'].replace('Sheffield Utd','SheffieldUnited')"
   ]
  },
  {
   "cell_type": "code",
   "execution_count": 206,
   "metadata": {},
   "outputs": [],
   "source": [
    "data_match['Opponent_NewNames'] = data_match['Opponent_NewNames'].replace('Real Sociedad','Sociedad')"
   ]
  },
  {
   "cell_type": "code",
   "execution_count": 207,
   "metadata": {},
   "outputs": [],
   "source": [
    "data_match['Opponent_NewNames'] = data_match['Opponent_NewNames'].replace('Atlético Madrid','Atletico')"
   ]
  },
  {
   "cell_type": "code",
   "execution_count": 208,
   "metadata": {},
   "outputs": [],
   "source": [
    "data_match['Opponent_NewNames'] = data_match['Opponent_NewNames'].replace('Real Madrid','RealMadrid')"
   ]
  },
  {
   "cell_type": "code",
   "execution_count": 209,
   "metadata": {},
   "outputs": [],
   "source": [
    "data_match['Opponent_NewNames'] = data_match['Opponent_NewNames'].replace('Paris S-G','ParisSG')"
   ]
  },
  {
   "cell_type": "code",
   "execution_count": 210,
   "metadata": {},
   "outputs": [],
   "source": [
    "data_match['Opponent_NewNames'] = data_match['Opponent_NewNames'].replace('APOEL FC','APOEL')"
   ]
  },
  {
   "cell_type": "code",
   "execution_count": 212,
   "metadata": {},
   "outputs": [],
   "source": [
    "data_match['Opponent_NewNames'] = data_match['Opponent_NewNames'].replace('FC Copenhagen','FCKobenhavn')"
   ]
  },
  {
   "cell_type": "code",
   "execution_count": 213,
   "metadata": {},
   "outputs": [],
   "source": [
    "data_match['Opponent_NewNames'] = data_match['Opponent_NewNames'].replace('dk FC Copenhagen','FCKobenhavn')"
   ]
  },
  {
   "cell_type": "code",
   "execution_count": 214,
   "metadata": {},
   "outputs": [],
   "source": [
    "data_match['Opponent_NewNames'] = data_match['Opponent_NewNames'].replace('PSV Eindhoven','PSV')"
   ]
  },
  {
   "cell_type": "code",
   "execution_count": 215,
   "metadata": {},
   "outputs": [],
   "source": [
    "data_match['Opponent_NewNames'] = data_match['Opponent_NewNames'].replace('Olympiacos','Olympiakos')"
   ]
  },
  {
   "cell_type": "code",
   "execution_count": 216,
   "metadata": {},
   "outputs": [],
   "source": [
    "data_match['Opponent_NewNames'] = data_match['Opponent_NewNames'].replace('CSKA Moscow','CSKAMoskva')"
   ]
  },
  {
   "cell_type": "code",
   "execution_count": 217,
   "metadata": {},
   "outputs": [],
   "source": [
    "data_match['Opponent_NewNames'] = data_match['Opponent_NewNames'].replace('Red Star','CrvenaZvezda')"
   ]
  },
  {
   "cell_type": "code",
   "execution_count": 218,
   "metadata": {},
   "outputs": [],
   "source": [
    "data_match['Opponent_NewNames'] = data_match['Opponent_NewNames'].replace('Leeds United','Leeds')"
   ]
  },
  {
   "cell_type": "code",
   "execution_count": 219,
   "metadata": {},
   "outputs": [
    {
     "output_type": "execute_result",
     "data": {
      "text/plain": [
       "            Opponent Opponent_NewNames\n",
       "0               Köln             Koeln\n",
       "1         Hoffenheim        Hoffenheim\n",
       "2           Dortmund          Dortmund\n",
       "3        Hannover 96          Hannover\n",
       "4          Stuttgart         Stuttgart\n",
       "..               ...               ...\n",
       "369        Liverpool         Liverpool\n",
       "370         Brighton          Brighton\n",
       "371          Chelsea           Chelsea\n",
       "372        West Brom          WestBrom\n",
       "373  Manchester City           ManCity\n",
       "\n",
       "[374 rows x 2 columns]"
      ],
      "text/html": "<div>\n<style scoped>\n    .dataframe tbody tr th:only-of-type {\n        vertical-align: middle;\n    }\n\n    .dataframe tbody tr th {\n        vertical-align: top;\n    }\n\n    .dataframe thead th {\n        text-align: right;\n    }\n</style>\n<table border=\"1\" class=\"dataframe\">\n  <thead>\n    <tr style=\"text-align: right;\">\n      <th></th>\n      <th>Opponent</th>\n      <th>Opponent_NewNames</th>\n    </tr>\n  </thead>\n  <tbody>\n    <tr>\n      <th>0</th>\n      <td>Köln</td>\n      <td>Koeln</td>\n    </tr>\n    <tr>\n      <th>1</th>\n      <td>Hoffenheim</td>\n      <td>Hoffenheim</td>\n    </tr>\n    <tr>\n      <th>2</th>\n      <td>Dortmund</td>\n      <td>Dortmund</td>\n    </tr>\n    <tr>\n      <th>3</th>\n      <td>Hannover 96</td>\n      <td>Hannover</td>\n    </tr>\n    <tr>\n      <th>4</th>\n      <td>Stuttgart</td>\n      <td>Stuttgart</td>\n    </tr>\n    <tr>\n      <th>...</th>\n      <td>...</td>\n      <td>...</td>\n    </tr>\n    <tr>\n      <th>369</th>\n      <td>Liverpool</td>\n      <td>Liverpool</td>\n    </tr>\n    <tr>\n      <th>370</th>\n      <td>Brighton</td>\n      <td>Brighton</td>\n    </tr>\n    <tr>\n      <th>371</th>\n      <td>Chelsea</td>\n      <td>Chelsea</td>\n    </tr>\n    <tr>\n      <th>372</th>\n      <td>West Brom</td>\n      <td>WestBrom</td>\n    </tr>\n    <tr>\n      <th>373</th>\n      <td>Manchester City</td>\n      <td>ManCity</td>\n    </tr>\n  </tbody>\n</table>\n<p>374 rows × 2 columns</p>\n</div>"
     },
     "metadata": {},
     "execution_count": 219
    }
   ],
   "source": [
    "data_match[['Opponent','Opponent_NewNames']]"
   ]
  },
  {
   "cell_type": "code",
   "execution_count": null,
   "metadata": {},
   "outputs": [],
   "source": [
    "data_match['Opponent_NewNames'].unique()"
   ]
  },
  {
   "source": [
    "## Create a loop to get the Opponent Elo for each fixtures "
   ],
   "cell_type": "markdown",
   "metadata": {}
  },
  {
   "cell_type": "code",
   "execution_count": null,
   "metadata": {},
   "outputs": [],
   "source": [
    "elo_list = []"
   ]
  },
  {
   "cell_type": "code",
   "execution_count": null,
   "metadata": {},
   "outputs": [],
   "source": [
    "for i in data_match.index :\n",
    "    url = \"http://clubelo.com/\" + str(data_match['Date'][i]) +\"/\"+ str(data_match['Opponent_NewNames'][i]).replace(\" \",\"\")\n",
    "    driver.get(url)\n",
    "    elo = driver.find_element_by_css_selector('div[class =\"astblatt\"] b')\n",
    "    print(elo.text)\n",
    "    elo_list.append(elo.text)"
   ]
  },
  {
   "source": [
    "## Add the Elo to the dataframe"
   ],
   "cell_type": "markdown",
   "metadata": {}
  },
  {
   "cell_type": "code",
   "execution_count": 221,
   "metadata": {},
   "outputs": [],
   "source": [
    "data_match['Elo_Opp'] = elo_list"
   ]
  },
  {
   "cell_type": "code",
   "execution_count": null,
   "metadata": {},
   "outputs": [],
   "source": [
    "driver.close()"
   ]
  },
  {
   "source": [
    "## Calculate the Elo_Diff between Son's Team and their opponent "
   ],
   "cell_type": "markdown",
   "metadata": {}
  },
  {
   "cell_type": "code",
   "execution_count": 223,
   "metadata": {},
   "outputs": [
    {
     "output_type": "execute_result",
     "data": {
      "text/plain": [
       "0      1750\n",
       "1      1741\n",
       "2      1747\n",
       "3      1740\n",
       "4      1731\n",
       "       ... \n",
       "369    1845\n",
       "370    1836\n",
       "371    1824\n",
       "372    1816\n",
       "373    1819\n",
       "Name: Elo, Length: 374, dtype: int64"
      ]
     },
     "metadata": {},
     "execution_count": 223
    }
   ],
   "source": [
    "data_match['Elo']"
   ]
  },
  {
   "cell_type": "code",
   "execution_count": 225,
   "metadata": {},
   "outputs": [],
   "source": [
    "data_match['Elo_Opp'] = data_match['Elo_Opp'].astype('int64')"
   ]
  },
  {
   "cell_type": "code",
   "execution_count": 226,
   "metadata": {},
   "outputs": [],
   "source": [
    "data_match['Elo_Diff'] = data_match['Elo'] - data_match['Elo_Opp']"
   ]
  },
  {
   "cell_type": "code",
   "execution_count": 233,
   "metadata": {},
   "outputs": [],
   "source": [
    "data_match = data_match.drop(['Opponent_NewNames'], axis=1)"
   ]
  },
  {
   "cell_type": "code",
   "execution_count": 235,
   "metadata": {},
   "outputs": [],
   "source": [
    "data_match.to_csv(\"club/all_season/Son_data_champ-ldc_matchs_details_all_season.csv\", index= False)"
   ]
  },
  {
   "cell_type": "code",
   "execution_count": null,
   "metadata": {},
   "outputs": [],
   "source": []
  }
 ]
}