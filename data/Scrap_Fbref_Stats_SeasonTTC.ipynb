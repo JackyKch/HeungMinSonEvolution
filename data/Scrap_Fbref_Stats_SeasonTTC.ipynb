{
 "metadata": {
  "language_info": {
   "codemirror_mode": {
    "name": "ipython",
    "version": 3
   },
   "file_extension": ".py",
   "mimetype": "text/x-python",
   "name": "python",
   "nbconvert_exporter": "python",
   "pygments_lexer": "ipython3",
   "version": "3.8.2-final"
  },
  "orig_nbformat": 2,
  "kernelspec": {
   "name": "Python 3.8.2 64-bit",
   "display_name": "Python 3.8.2 64-bit",
   "metadata": {
    "interpreter": {
     "hash": "95e24f6d028694f957b1106e412d23c4f9ba09e8613c65a2aeaf0c0e73a5daa1"
    }
   }
  }
 },
 "nbformat": 4,
 "nbformat_minor": 2,
 "cells": [
  {
   "cell_type": "code",
   "execution_count": 2,
   "metadata": {},
   "outputs": [],
   "source": [
    "from selenium import webdriver"
   ]
  },
  {
   "cell_type": "code",
   "execution_count": 32,
   "metadata": {},
   "outputs": [],
   "source": [
    "import pandas as pd"
   ]
  },
  {
   "cell_type": "code",
   "execution_count": 3,
   "metadata": {},
   "outputs": [],
   "source": [
    "options = webdriver.ChromeOptions()"
   ]
  },
  {
   "cell_type": "code",
   "execution_count": 4,
   "metadata": {},
   "outputs": [],
   "source": [
    "options.add_argument(\"--incognito\")"
   ]
  },
  {
   "cell_type": "code",
   "execution_count": 5,
   "metadata": {},
   "outputs": [],
   "source": [
    "driver = webdriver.Chrome(\"./chromedriver.exe\", options=options)"
   ]
  },
  {
   "cell_type": "code",
   "execution_count": 6,
   "metadata": {},
   "outputs": [],
   "source": [
    "driver.get('https://fbref.com/fr/joueurs/92e7e919/all_comps/Statistiques-Son-Heung-min-Stats---Toutes-les-competitions')"
   ]
  },
  {
   "cell_type": "code",
   "execution_count": 10,
   "metadata": {},
   "outputs": [],
   "source": [
    "saison = driver.find_elements_by_xpath('//table [@id = \"stats_player_summary_92e7e919\"] //tbody //th[@data-stat = \"season\"] ')"
   ]
  },
  {
   "cell_type": "code",
   "execution_count": 36,
   "metadata": {},
   "outputs": [],
   "source": [
    "lst_saison = [x.text for x in saison]"
   ]
  },
  {
   "cell_type": "code",
   "execution_count": 17,
   "metadata": {},
   "outputs": [],
   "source": [
    "age = driver.find_elements_by_xpath('//table [@id = \"stats_player_summary_92e7e919\"] //tbody //td[@data-stat = \"age\"] ')"
   ]
  },
  {
   "cell_type": "code",
   "execution_count": 37,
   "metadata": {},
   "outputs": [],
   "source": [
    "lst_age = [x.text for x in age]"
   ]
  },
  {
   "cell_type": "code",
   "execution_count": 22,
   "metadata": {},
   "outputs": [],
   "source": [
    "equipe = driver.find_elements_by_xpath('//table [@id = \"stats_player_summary_92e7e919\"] //tbody //td[@data-stat = \"squad\"] ')"
   ]
  },
  {
   "cell_type": "code",
   "execution_count": 38,
   "metadata": {},
   "outputs": [],
   "source": [
    "lst_equipe = [x.text for x in equipe]"
   ]
  },
  {
   "cell_type": "code",
   "execution_count": 24,
   "metadata": {},
   "outputs": [],
   "source": [
    "matchsttc = driver.find_elements_by_xpath('//table [@id = \"stats_player_summary_92e7e919\"] //tbody //td[@data-stat = \"all_games\"] ')"
   ]
  },
  {
   "cell_type": "code",
   "execution_count": 39,
   "metadata": {},
   "outputs": [],
   "source": [
    "lst_matchttc = [x.text for x in matchsttc]"
   ]
  },
  {
   "cell_type": "code",
   "execution_count": 26,
   "metadata": {},
   "outputs": [],
   "source": [
    "minplayed = driver.find_elements_by_xpath('//table [@id = \"stats_player_summary_92e7e919\"] //tbody //td[@data-stat = \"all_minutes\"] ')"
   ]
  },
  {
   "cell_type": "code",
   "execution_count": 40,
   "metadata": {},
   "outputs": [],
   "source": [
    "lst_minutes = [x.text for x in minplayed]"
   ]
  },
  {
   "cell_type": "code",
   "execution_count": 28,
   "metadata": {},
   "outputs": [],
   "source": [
    "buts = driver.find_elements_by_xpath('//table [@id = \"stats_player_summary_92e7e919\"] //tbody //td[@data-stat = \"all_goals\"] ')"
   ]
  },
  {
   "cell_type": "code",
   "execution_count": 41,
   "metadata": {},
   "outputs": [],
   "source": [
    "lst_buts = [x.text for x in buts]"
   ]
  },
  {
   "cell_type": "code",
   "execution_count": 30,
   "metadata": {},
   "outputs": [],
   "source": [
    "assist = driver.find_elements_by_xpath('//table [@id = \"stats_player_summary_92e7e919\"] //tbody //td[@data-stat = \"all_assists\"] ')"
   ]
  },
  {
   "cell_type": "code",
   "execution_count": 42,
   "metadata": {},
   "outputs": [],
   "source": [
    "lst_assist = [x.text for x in assist]"
   ]
  },
  {
   "cell_type": "code",
   "execution_count": 43,
   "metadata": {},
   "outputs": [],
   "source": [
    "df = pd.DataFrame(list(zip(lst_saison, lst_age, lst_equipe, lst_matchttc, lst_minutes, lst_buts, lst_assist)) , columns=['Saison', 'Age', 'Equipe', 'MJ TTC', \"Minutes\", \"Buts\", \"Passes D\"])"
   ]
  },
  {
   "cell_type": "code",
   "execution_count": 44,
   "metadata": {},
   "outputs": [
    {
     "output_type": "execute_result",
     "data": {
      "text/plain": [
       "       Saison Age        Equipe MJ TTC Minutes Buts Passes D\n",
       "0   2010-2011  18  Hamburger SV     13     720    3        0\n",
       "1   2011-2012  19  Hamburger SV     27   1,223    5        0\n",
       "2   2012-2013  20  Hamburger SV     33   2,689   12        2\n",
       "3   2013-2014  21    Leverkusen     39   2,876   10        6\n",
       "4   2014-2015  22    Leverkusen     40   2,991   15        3\n",
       "5   2015-2016  23    Leverkusen      1      63    0        0\n",
       "6   2015-2016  23     Tottenham     40   1,896    8        6\n",
       "7   2016-2017  24     Tottenham     47   2,968   21        7\n",
       "8   2017-2018  25     Tottenham     53   3,383   18       11\n",
       "9   2018-2019  26     Tottenham     48   3,306   20        9\n",
       "10  2019-2020  27     Tottenham     41   3,196   18       12\n",
       "11  2020-2021  28     Tottenham      8     539    9        2"
      ],
      "text/html": "<div>\n<style scoped>\n    .dataframe tbody tr th:only-of-type {\n        vertical-align: middle;\n    }\n\n    .dataframe tbody tr th {\n        vertical-align: top;\n    }\n\n    .dataframe thead th {\n        text-align: right;\n    }\n</style>\n<table border=\"1\" class=\"dataframe\">\n  <thead>\n    <tr style=\"text-align: right;\">\n      <th></th>\n      <th>Saison</th>\n      <th>Age</th>\n      <th>Equipe</th>\n      <th>MJ TTC</th>\n      <th>Minutes</th>\n      <th>Buts</th>\n      <th>Passes D</th>\n    </tr>\n  </thead>\n  <tbody>\n    <tr>\n      <th>0</th>\n      <td>2010-2011</td>\n      <td>18</td>\n      <td>Hamburger SV</td>\n      <td>13</td>\n      <td>720</td>\n      <td>3</td>\n      <td>0</td>\n    </tr>\n    <tr>\n      <th>1</th>\n      <td>2011-2012</td>\n      <td>19</td>\n      <td>Hamburger SV</td>\n      <td>27</td>\n      <td>1,223</td>\n      <td>5</td>\n      <td>0</td>\n    </tr>\n    <tr>\n      <th>2</th>\n      <td>2012-2013</td>\n      <td>20</td>\n      <td>Hamburger SV</td>\n      <td>33</td>\n      <td>2,689</td>\n      <td>12</td>\n      <td>2</td>\n    </tr>\n    <tr>\n      <th>3</th>\n      <td>2013-2014</td>\n      <td>21</td>\n      <td>Leverkusen</td>\n      <td>39</td>\n      <td>2,876</td>\n      <td>10</td>\n      <td>6</td>\n    </tr>\n    <tr>\n      <th>4</th>\n      <td>2014-2015</td>\n      <td>22</td>\n      <td>Leverkusen</td>\n      <td>40</td>\n      <td>2,991</td>\n      <td>15</td>\n      <td>3</td>\n    </tr>\n    <tr>\n      <th>5</th>\n      <td>2015-2016</td>\n      <td>23</td>\n      <td>Leverkusen</td>\n      <td>1</td>\n      <td>63</td>\n      <td>0</td>\n      <td>0</td>\n    </tr>\n    <tr>\n      <th>6</th>\n      <td>2015-2016</td>\n      <td>23</td>\n      <td>Tottenham</td>\n      <td>40</td>\n      <td>1,896</td>\n      <td>8</td>\n      <td>6</td>\n    </tr>\n    <tr>\n      <th>7</th>\n      <td>2016-2017</td>\n      <td>24</td>\n      <td>Tottenham</td>\n      <td>47</td>\n      <td>2,968</td>\n      <td>21</td>\n      <td>7</td>\n    </tr>\n    <tr>\n      <th>8</th>\n      <td>2017-2018</td>\n      <td>25</td>\n      <td>Tottenham</td>\n      <td>53</td>\n      <td>3,383</td>\n      <td>18</td>\n      <td>11</td>\n    </tr>\n    <tr>\n      <th>9</th>\n      <td>2018-2019</td>\n      <td>26</td>\n      <td>Tottenham</td>\n      <td>48</td>\n      <td>3,306</td>\n      <td>20</td>\n      <td>9</td>\n    </tr>\n    <tr>\n      <th>10</th>\n      <td>2019-2020</td>\n      <td>27</td>\n      <td>Tottenham</td>\n      <td>41</td>\n      <td>3,196</td>\n      <td>18</td>\n      <td>12</td>\n    </tr>\n    <tr>\n      <th>11</th>\n      <td>2020-2021</td>\n      <td>28</td>\n      <td>Tottenham</td>\n      <td>8</td>\n      <td>539</td>\n      <td>9</td>\n      <td>2</td>\n    </tr>\n  </tbody>\n</table>\n</div>"
     },
     "metadata": {},
     "execution_count": 44
    }
   ],
   "source": [
    "df"
   ]
  },
  {
   "cell_type": "code",
   "execution_count": 45,
   "metadata": {},
   "outputs": [],
   "source": [
    "titulaires = driver.find_elements_by_xpath('//table [@id = \"stats_playing_time_ks_collapsed\"] //tbody //td[@data-stat = \"games_starts\"] ')"
   ]
  },
  {
   "cell_type": "code",
   "execution_count": 47,
   "metadata": {},
   "outputs": [],
   "source": [
    "lst_titu = [x.text for x in titulaires]"
   ]
  },
  {
   "cell_type": "code",
   "execution_count": 48,
   "metadata": {},
   "outputs": [],
   "source": [
    "remplacant = driver.find_elements_by_xpath('//table [@id = \"stats_playing_time_ks_collapsed\"] //tbody //td[@data-stat = \"games_subs\"] ')"
   ]
  },
  {
   "cell_type": "code",
   "execution_count": 49,
   "metadata": {},
   "outputs": [],
   "source": [
    "lst_subs = [x.text for x in remplacant]"
   ]
  },
  {
   "cell_type": "code",
   "execution_count": 52,
   "metadata": {},
   "outputs": [],
   "source": [
    "df2 = pd.DataFrame(list(zip(lst_saison, lst_age, lst_equipe, lst_matchttc,lst_titu,lst_subs, lst_minutes, lst_buts, lst_assist)) , columns=['Saison', 'Age', 'Equipe', 'MJ TTC','Titulaire','Remplacant', \"Minutes\", \"Buts\", \"Passes D\"])"
   ]
  },
  {
   "cell_type": "code",
   "execution_count": 53,
   "metadata": {},
   "outputs": [
    {
     "output_type": "execute_result",
     "data": {
      "text/plain": [
       "       Saison Age        Equipe MJ TTC Titulaire Remplacant Minutes Buts  \\\n",
       "0   2010-2011  18  Hamburger SV     13         8          5     720    3   \n",
       "1   2011-2012  19  Hamburger SV     27        11         16   1,223    5   \n",
       "2   2012-2013  20  Hamburger SV     33        31          2   2,689   12   \n",
       "3   2013-2014  21    Leverkusen     39        36          3   2,876   10   \n",
       "4   2014-2015  22    Leverkusen     40        36          4   2,991   15   \n",
       "5   2015-2016  23    Leverkusen      1         1          0      63    0   \n",
       "6   2015-2016  23     Tottenham     40        22         18   1,896    8   \n",
       "7   2016-2017  24     Tottenham     47        34         13   2,968   21   \n",
       "8   2017-2018  25     Tottenham     53        39         14   3,383   18   \n",
       "9   2018-2019  26     Tottenham     48        38         10   3,306   20   \n",
       "10  2019-2020  27     Tottenham     41        35          6   3,196   18   \n",
       "11  2020-2021  28     Tottenham      8         6          2     539    9   \n",
       "\n",
       "   Passes D  \n",
       "0         0  \n",
       "1         0  \n",
       "2         2  \n",
       "3         6  \n",
       "4         3  \n",
       "5         0  \n",
       "6         6  \n",
       "7         7  \n",
       "8        11  \n",
       "9         9  \n",
       "10       12  \n",
       "11        2  "
      ],
      "text/html": "<div>\n<style scoped>\n    .dataframe tbody tr th:only-of-type {\n        vertical-align: middle;\n    }\n\n    .dataframe tbody tr th {\n        vertical-align: top;\n    }\n\n    .dataframe thead th {\n        text-align: right;\n    }\n</style>\n<table border=\"1\" class=\"dataframe\">\n  <thead>\n    <tr style=\"text-align: right;\">\n      <th></th>\n      <th>Saison</th>\n      <th>Age</th>\n      <th>Equipe</th>\n      <th>MJ TTC</th>\n      <th>Titulaire</th>\n      <th>Remplacant</th>\n      <th>Minutes</th>\n      <th>Buts</th>\n      <th>Passes D</th>\n    </tr>\n  </thead>\n  <tbody>\n    <tr>\n      <th>0</th>\n      <td>2010-2011</td>\n      <td>18</td>\n      <td>Hamburger SV</td>\n      <td>13</td>\n      <td>8</td>\n      <td>5</td>\n      <td>720</td>\n      <td>3</td>\n      <td>0</td>\n    </tr>\n    <tr>\n      <th>1</th>\n      <td>2011-2012</td>\n      <td>19</td>\n      <td>Hamburger SV</td>\n      <td>27</td>\n      <td>11</td>\n      <td>16</td>\n      <td>1,223</td>\n      <td>5</td>\n      <td>0</td>\n    </tr>\n    <tr>\n      <th>2</th>\n      <td>2012-2013</td>\n      <td>20</td>\n      <td>Hamburger SV</td>\n      <td>33</td>\n      <td>31</td>\n      <td>2</td>\n      <td>2,689</td>\n      <td>12</td>\n      <td>2</td>\n    </tr>\n    <tr>\n      <th>3</th>\n      <td>2013-2014</td>\n      <td>21</td>\n      <td>Leverkusen</td>\n      <td>39</td>\n      <td>36</td>\n      <td>3</td>\n      <td>2,876</td>\n      <td>10</td>\n      <td>6</td>\n    </tr>\n    <tr>\n      <th>4</th>\n      <td>2014-2015</td>\n      <td>22</td>\n      <td>Leverkusen</td>\n      <td>40</td>\n      <td>36</td>\n      <td>4</td>\n      <td>2,991</td>\n      <td>15</td>\n      <td>3</td>\n    </tr>\n    <tr>\n      <th>5</th>\n      <td>2015-2016</td>\n      <td>23</td>\n      <td>Leverkusen</td>\n      <td>1</td>\n      <td>1</td>\n      <td>0</td>\n      <td>63</td>\n      <td>0</td>\n      <td>0</td>\n    </tr>\n    <tr>\n      <th>6</th>\n      <td>2015-2016</td>\n      <td>23</td>\n      <td>Tottenham</td>\n      <td>40</td>\n      <td>22</td>\n      <td>18</td>\n      <td>1,896</td>\n      <td>8</td>\n      <td>6</td>\n    </tr>\n    <tr>\n      <th>7</th>\n      <td>2016-2017</td>\n      <td>24</td>\n      <td>Tottenham</td>\n      <td>47</td>\n      <td>34</td>\n      <td>13</td>\n      <td>2,968</td>\n      <td>21</td>\n      <td>7</td>\n    </tr>\n    <tr>\n      <th>8</th>\n      <td>2017-2018</td>\n      <td>25</td>\n      <td>Tottenham</td>\n      <td>53</td>\n      <td>39</td>\n      <td>14</td>\n      <td>3,383</td>\n      <td>18</td>\n      <td>11</td>\n    </tr>\n    <tr>\n      <th>9</th>\n      <td>2018-2019</td>\n      <td>26</td>\n      <td>Tottenham</td>\n      <td>48</td>\n      <td>38</td>\n      <td>10</td>\n      <td>3,306</td>\n      <td>20</td>\n      <td>9</td>\n    </tr>\n    <tr>\n      <th>10</th>\n      <td>2019-2020</td>\n      <td>27</td>\n      <td>Tottenham</td>\n      <td>41</td>\n      <td>35</td>\n      <td>6</td>\n      <td>3,196</td>\n      <td>18</td>\n      <td>12</td>\n    </tr>\n    <tr>\n      <th>11</th>\n      <td>2020-2021</td>\n      <td>28</td>\n      <td>Tottenham</td>\n      <td>8</td>\n      <td>6</td>\n      <td>2</td>\n      <td>539</td>\n      <td>9</td>\n      <td>2</td>\n    </tr>\n  </tbody>\n</table>\n</div>"
     },
     "metadata": {},
     "execution_count": 53
    }
   ],
   "source": [
    "df2"
   ]
  },
  {
   "cell_type": "code",
   "execution_count": 56,
   "metadata": {},
   "outputs": [],
   "source": [
    "df2.to_csv(r'C:\\Users\\jacky\\Downloads\\Work\\ESILV\\Projets\\HeungMinSon\\Data\\SeasonTTC.csv', header = True, index = False)"
   ]
  },
  {
   "cell_type": "code",
   "execution_count": null,
   "metadata": {},
   "outputs": [],
   "source": []
  }
 ]
}