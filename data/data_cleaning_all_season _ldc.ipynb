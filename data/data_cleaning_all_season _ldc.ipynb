{
 "metadata": {
  "language_info": {
   "codemirror_mode": {
    "name": "ipython",
    "version": 3
   },
   "file_extension": ".py",
   "mimetype": "text/x-python",
   "name": "python",
   "nbconvert_exporter": "python",
   "pygments_lexer": "ipython3",
   "version": "3.9.0-final"
  },
  "orig_nbformat": 2,
  "kernelspec": {
   "name": "python3",
   "display_name": "Python 3.9.0 64-bit",
   "metadata": {
    "interpreter": {
     "hash": "6f63aac4862f49defdc0ab97c706aeed6401f5109f2f5eb8ddfd96c2030351e5"
    }
   }
  }
 },
 "nbformat": 4,
 "nbformat_minor": 2,
 "cells": [
  {
   "source": [
    "## Imports"
   ],
   "cell_type": "markdown",
   "metadata": {}
  },
  {
   "cell_type": "code",
   "execution_count": 1,
   "metadata": {},
   "outputs": [],
   "source": [
    "import pandas as pd\n",
    "import os"
   ]
  },
  {
   "source": [
    "## Store the league data for all seasons"
   ],
   "cell_type": "markdown",
   "metadata": {}
  },
  {
   "cell_type": "code",
   "execution_count": 2,
   "metadata": {},
   "outputs": [],
   "source": [
    "for i in range (10,20) :\n",
    "    if os.path.exists(f\"club/20{i}-20{i+1}/Son_data_ldc_matchs_details_20{i}-20{i+1}.csv\"):\n",
    "        globals()[\"df_season_20\" + str(i)] = pd.read_csv(f\"club/20{i}-20{i+1}/Son_data_ldc_matchs_details_20{i}-20{i+1}.csv\")"
   ]
  },
  {
   "source": [
    "## Concatenate these dataframes to get a dataframe with all seasons' league games and save it in a csv file\n"
   ],
   "cell_type": "markdown",
   "metadata": {}
  },
  {
   "cell_type": "code",
   "execution_count": 3,
   "metadata": {},
   "outputs": [],
   "source": [
    "outdir = \"./club/all_season\"\n",
    "if not os.path.exists(outdir):\n",
    "    os.mkdir(outdir)"
   ]
  },
  {
   "cell_type": "code",
   "execution_count": 4,
   "metadata": {},
   "outputs": [],
   "source": [
    "df_season = pd.DataFrame()\n",
    "for i in range (10,20) :\n",
    "    if \"df_season_20\" + str(i) in locals():\n",
    "        df_season =  df_season.append(globals()[\"df_season_20\" + str(i)])"
   ]
  },
  {
   "source": [
    "### Drop the indexes"
   ],
   "cell_type": "markdown",
   "metadata": {}
  },
  {
   "cell_type": "code",
   "execution_count": 5,
   "metadata": {},
   "outputs": [],
   "source": [
    "df_season = df_season.reset_index(drop=True)"
   ]
  },
  {
   "cell_type": "code",
   "execution_count": 6,
   "metadata": {},
   "outputs": [],
   "source": [
    "df_season.to_csv(\"club/all_season/Son_data_ldc_matchs_details_all_season.csv\", index= False)"
   ]
  },
  {
   "cell_type": "code",
   "execution_count": 7,
   "metadata": {},
   "outputs": [
    {
     "output_type": "execute_result",
     "data": {
      "text/plain": [
       "          Date           Round Venue         Result       Squad  \\\n",
       "0   2013-09-17     Group stage  Away          L 2–4  Leverkusen   \n",
       "1   2013-10-02     Group stage  Home          W 2–1  Leverkusen   \n",
       "2   2013-10-23     Group stage  Home          W 4–0  Leverkusen   \n",
       "3   2013-11-05     Group stage  Away          D 0–0  Leverkusen   \n",
       "4   2013-11-27     Group stage  Home          L 0–5  Leverkusen   \n",
       "5   2013-12-10     Group stage  Away          W 1–0  Leverkusen   \n",
       "6   2014-02-18     Round of 16  Home          L 0–4  Leverkusen   \n",
       "7   2014-03-12     Round of 16  Away          L 1–2  Leverkusen   \n",
       "8   2014-08-19  Play-off Round  Away          W 3–2  Leverkusen   \n",
       "9   2014-08-27  Play-off Round  Home          W 4–0  Leverkusen   \n",
       "10  2014-09-16     Group stage  Away          L 0–1  Leverkusen   \n",
       "11  2014-10-01     Group stage  Home          W 3–1  Leverkusen   \n",
       "12  2014-10-22     Group stage  Home          W 2–0  Leverkusen   \n",
       "13  2014-11-04     Group stage  Away          W 2–1  Leverkusen   \n",
       "14  2014-11-26     Group stage  Home          L 0–1  Leverkusen   \n",
       "15  2014-12-09     Group stage  Away          D 0–0  Leverkusen   \n",
       "16  2015-02-25     Round of 16  Home          W 1–0  Leverkusen   \n",
       "17  2015-03-17     Round of 16  Away  L 0 (2)–1 (3)  Leverkusen   \n",
       "18  2016-09-14     Group stage  Home          L 1–2   Tottenham   \n",
       "19  2016-09-27     Group stage  Away          W 1–0   Tottenham   \n",
       "20  2016-10-18     Group stage  Away          D 0–0   Tottenham   \n",
       "21  2016-11-02     Group stage  Home          L 0–1   Tottenham   \n",
       "22  2016-11-22     Group stage  Away          L 1–2   Tottenham   \n",
       "23  2016-12-07     Group stage  Home          W 3–1   Tottenham   \n",
       "24  2017-09-13     Group stage  Home          W 3–1   Tottenham   \n",
       "25  2017-09-26     Group stage  Away          W 3–0   Tottenham   \n",
       "26  2017-10-17     Group stage  Away          D 1–1   Tottenham   \n",
       "27  2017-11-01     Group stage  Home          W 3–1   Tottenham   \n",
       "28  2017-11-21     Group stage  Away          W 2–1   Tottenham   \n",
       "29  2017-12-06     Group stage  Home          W 3–0   Tottenham   \n",
       "30  2018-02-13     Round of 16  Away          D 2–2   Tottenham   \n",
       "31  2018-03-07     Round of 16  Home          L 1–2   Tottenham   \n",
       "32  2018-09-18     Group stage  Away          L 1–2   Tottenham   \n",
       "33  2018-10-03     Group stage  Home          L 2–4   Tottenham   \n",
       "34  2018-10-24     Group stage  Away          D 2–2   Tottenham   \n",
       "35  2018-11-06     Group stage  Home          W 2–1   Tottenham   \n",
       "36  2018-11-28     Group stage  Home          W 1–0   Tottenham   \n",
       "37  2018-12-11     Group stage  Away          D 1–1   Tottenham   \n",
       "38  2019-02-13     Round of 16  Home          W 3–0   Tottenham   \n",
       "39  2019-03-05     Round of 16  Away          W 1–0   Tottenham   \n",
       "40  2019-04-09  Quarter-finals  Home          W 1–0   Tottenham   \n",
       "41  2019-04-17  Quarter-finals  Away          L 3–4   Tottenham   \n",
       "42  2019-05-08     Semi-finals  Away          W 3–2   Tottenham   \n",
       "43  2019-06-01           Final  Home          L 0–2   Tottenham   \n",
       "44  2019-09-18     Group stage  Away          D 2–2   Tottenham   \n",
       "45  2019-10-01     Group stage  Home          L 2–7   Tottenham   \n",
       "46  2019-10-22     Group stage  Home          W 5–0   Tottenham   \n",
       "47  2019-11-06     Group stage  Away          W 4–0   Tottenham   \n",
       "48  2019-11-26     Group stage  Home          W 4–2   Tottenham   \n",
       "49  2019-12-11     Group stage  Away          L 1–3   Tottenham   \n",
       "\n",
       "            Opponent Start     Pos   Min   Gls  ...  SCA  GCA   Cmp   Att  \\\n",
       "0     Manchester Utd     Y     NaN    64     0  ...  NaN  NaN   NaN   NaN   \n",
       "1      Real Sociedad     Y     NaN    68     0  ...  NaN  NaN   NaN   NaN   \n",
       "2           Shakhtar     Y     NaN    71     0  ...  NaN  NaN   NaN   NaN   \n",
       "3           Shakhtar     Y     NaN    77     0  ...  NaN  NaN   NaN   NaN   \n",
       "4     Manchester Utd     Y     NaN    70     0  ...  NaN  NaN   NaN   NaN   \n",
       "5      Real Sociedad     Y     NaN    90     0  ...  NaN  NaN   NaN   NaN   \n",
       "6          Paris S-G     Y     NaN    46     0  ...  NaN  NaN   NaN   NaN   \n",
       "7          Paris S-G     N     NaN    23     0  ...  NaN  NaN   NaN   NaN   \n",
       "8   dk FC Copenhagen     Y     NaN    90     1  ...  NaN  NaN   NaN   NaN   \n",
       "9      FC Copenhagen     Y     NaN    90     1  ...  NaN  NaN   NaN   NaN   \n",
       "10            Monaco     Y     NaN    90     0  ...  NaN  NaN   NaN   NaN   \n",
       "11           Benfica     Y     NaN    90     1  ...  NaN  NaN   NaN   NaN   \n",
       "12             Zenit     Y     NaN    90     0  ...  NaN  NaN   NaN   NaN   \n",
       "13             Zenit     Y     NaN    90     2  ...  NaN  NaN   NaN   NaN   \n",
       "14            Monaco     Y     NaN    59     0  ...  NaN  NaN   NaN   NaN   \n",
       "15           Benfica     N     NaN    19     0  ...  NaN  NaN   NaN   NaN   \n",
       "16   Atlético Madrid     Y     NaN    90     0  ...  NaN  NaN   NaN   NaN   \n",
       "17   Atlético Madrid     Y     NaN    77     0  ...  NaN  NaN   NaN   NaN   \n",
       "18            Monaco     Y      AM    45     0  ...  NaN  NaN   NaN   NaN   \n",
       "19       CSKA Moscow     Y      AM    90     1  ...  NaN  NaN   NaN   NaN   \n",
       "20        Leverkusen     Y      AM    90     0  ...  NaN  NaN   NaN   NaN   \n",
       "21        Leverkusen     Y      FW    73     0  ...  NaN  NaN   NaN   NaN   \n",
       "22            Monaco     Y      DM    65     0  ...  NaN  NaN   NaN   NaN   \n",
       "23       CSKA Moscow     Y      AM    61     0  ...  NaN  NaN   NaN   NaN   \n",
       "24          Dortmund     Y      LM    83     1  ...  NaN  NaN   NaN   NaN   \n",
       "25          APOEL FC     Y      FW    90     0  ...  NaN  NaN   NaN   NaN   \n",
       "26       Real Madrid     N     NaN     1     0  ...  NaN  NaN   NaN   NaN   \n",
       "27       Real Madrid     N    On m  On m  On m  ...  NaN  NaN   NaN   NaN   \n",
       "28          Dortmund     Y      FW    90     1  ...  NaN  NaN   NaN   NaN   \n",
       "29          APOEL FC     Y      RW    65     1  ...  NaN  NaN   NaN   NaN   \n",
       "30          Juventus     N     NaN     7     0  ...  NaN  NaN   NaN   NaN   \n",
       "31          Juventus     Y      AM    90     1  ...  NaN  NaN   NaN   NaN   \n",
       "32             Inter     Y      LW    63     0  ...  2.0  0.0  17.0  22.0   \n",
       "33         Barcelona     Y      LW    65     0  ...  2.0  1.0  10.0  13.0   \n",
       "34     PSV Eindhoven     Y      AM    80     0  ...  4.0  1.0  31.0  38.0   \n",
       "35     PSV Eindhoven     Y      LW    74     0  ...  2.0  0.0  35.0  42.0   \n",
       "36             Inter     N    RWLW    29     0  ...  0.0  0.0   7.0   8.0   \n",
       "37         Barcelona     Y      RW    70     0  ...  3.0  0.0  24.0  32.0   \n",
       "38          Dortmund     Y      FW    89     1  ...  4.0  0.0  18.0  21.0   \n",
       "39          Dortmund     Y      FW    70     0  ...  1.0  0.0  24.0  25.0   \n",
       "40   Manchester City     Y    LWRW    90     1  ...  2.0  1.0  16.0  18.0   \n",
       "41   Manchester City     Y  LWFWRM    90     2  ...  2.0  1.0  15.0  20.0   \n",
       "42              Ajax     Y      LW    90     0  ...  9.0  0.0  26.0  29.0   \n",
       "43         Liverpool     Y  LWFWLM    90     0  ...  4.0  0.0  18.0  26.0   \n",
       "44        Olympiacos     N      LW    18     0  ...  0.0  0.0   5.0   8.0   \n",
       "45     Bayern Munich     Y  FWRWLM    90     1  ...  4.0  0.0  18.0  25.0   \n",
       "46          Red Star     Y      LW    67     2  ...  6.0  0.0  32.0  39.0   \n",
       "47          Red Star     Y      LW    74     2  ...  2.0  1.0  29.0  34.0   \n",
       "48        Olympiacos     Y      LW    90     0  ...  2.0  1.0  22.0  26.0   \n",
       "49     Bayern Munich     N      FW    26     0  ...  0.0  0.0   3.0   5.0   \n",
       "\n",
       "    Cmp% PrgDist Carries PrgDist.1  Succ Att.1  \n",
       "0    NaN     NaN     NaN       NaN   NaN   NaN  \n",
       "1    NaN     NaN     NaN       NaN   NaN   NaN  \n",
       "2    NaN     NaN     NaN       NaN   NaN   NaN  \n",
       "3    NaN     NaN     NaN       NaN   NaN   NaN  \n",
       "4    NaN     NaN     NaN       NaN   NaN   NaN  \n",
       "5    NaN     NaN     NaN       NaN   NaN   NaN  \n",
       "6    NaN     NaN     NaN       NaN   NaN   NaN  \n",
       "7    NaN     NaN     NaN       NaN   NaN   NaN  \n",
       "8    NaN     NaN     NaN       NaN   NaN   NaN  \n",
       "9    NaN     NaN     NaN       NaN   NaN   NaN  \n",
       "10   NaN     NaN     NaN       NaN   NaN   NaN  \n",
       "11   NaN     NaN     NaN       NaN   NaN   NaN  \n",
       "12   NaN     NaN     NaN       NaN   NaN   NaN  \n",
       "13   NaN     NaN     NaN       NaN   NaN   NaN  \n",
       "14   NaN     NaN     NaN       NaN   NaN   NaN  \n",
       "15   NaN     NaN     NaN       NaN   NaN   NaN  \n",
       "16   NaN     NaN     NaN       NaN   NaN   NaN  \n",
       "17   NaN     NaN     NaN       NaN   NaN   NaN  \n",
       "18   NaN     NaN     NaN       NaN   NaN   NaN  \n",
       "19   NaN     NaN     NaN       NaN   NaN   NaN  \n",
       "20   NaN     NaN     NaN       NaN   NaN   NaN  \n",
       "21   NaN     NaN     NaN       NaN   NaN   NaN  \n",
       "22   NaN     NaN     NaN       NaN   NaN   NaN  \n",
       "23   NaN     NaN     NaN       NaN   NaN   NaN  \n",
       "24   NaN     NaN     NaN       NaN   NaN   NaN  \n",
       "25   NaN     NaN     NaN       NaN   NaN   NaN  \n",
       "26   NaN     NaN     NaN       NaN   NaN   NaN  \n",
       "27   NaN     NaN     NaN       NaN   NaN   NaN  \n",
       "28   NaN     NaN     NaN       NaN   NaN   NaN  \n",
       "29   NaN     NaN     NaN       NaN   NaN   NaN  \n",
       "30   NaN     NaN     NaN       NaN   NaN   NaN  \n",
       "31   NaN     NaN     NaN       NaN   NaN   NaN  \n",
       "32  77.3   109.0    29.0      96.0   2.0   3.0  \n",
       "33  76.9    39.0    16.0      53.0   0.0   1.0  \n",
       "34  81.6    97.0    50.0     291.0   2.0   4.0  \n",
       "35  83.3    76.0    44.0     182.0   0.0   1.0  \n",
       "36  87.5    11.0    13.0      57.0   1.0   3.0  \n",
       "37  75.0    35.0    37.0      91.0   3.0   3.0  \n",
       "38  85.7    61.0    28.0      38.0   0.0   2.0  \n",
       "39  96.0    87.0    30.0     150.0   1.0   1.0  \n",
       "40  88.9    83.0    26.0     109.0   1.0   2.0  \n",
       "41  75.0    38.0    28.0     168.0   0.0   0.0  \n",
       "42  89.7    60.0    52.0     235.0  10.0  13.0  \n",
       "43  69.2    38.0    29.0     229.0   1.0   4.0  \n",
       "44  62.5     4.0     7.0      33.0   1.0   1.0  \n",
       "45  72.0    47.0    25.0     175.0   3.0   5.0  \n",
       "46  82.1   189.0    42.0     303.0   6.0   7.0  \n",
       "47  85.3    74.0    42.0     142.0   5.0   7.0  \n",
       "48  84.6    67.0    29.0     145.0   1.0   7.0  \n",
       "49  60.0     0.0     9.0      32.0   2.0   2.0  \n",
       "\n",
       "[50 rows x 43 columns]"
      ],
      "text/html": "<div>\n<style scoped>\n    .dataframe tbody tr th:only-of-type {\n        vertical-align: middle;\n    }\n\n    .dataframe tbody tr th {\n        vertical-align: top;\n    }\n\n    .dataframe thead th {\n        text-align: right;\n    }\n</style>\n<table border=\"1\" class=\"dataframe\">\n  <thead>\n    <tr style=\"text-align: right;\">\n      <th></th>\n      <th>Date</th>\n      <th>Round</th>\n      <th>Venue</th>\n      <th>Result</th>\n      <th>Squad</th>\n      <th>Opponent</th>\n      <th>Start</th>\n      <th>Pos</th>\n      <th>Min</th>\n      <th>Gls</th>\n      <th>...</th>\n      <th>SCA</th>\n      <th>GCA</th>\n      <th>Cmp</th>\n      <th>Att</th>\n      <th>Cmp%</th>\n      <th>PrgDist</th>\n      <th>Carries</th>\n      <th>PrgDist.1</th>\n      <th>Succ</th>\n      <th>Att.1</th>\n    </tr>\n  </thead>\n  <tbody>\n    <tr>\n      <th>0</th>\n      <td>2013-09-17</td>\n      <td>Group stage</td>\n      <td>Away</td>\n      <td>L 2–4</td>\n      <td>Leverkusen</td>\n      <td>Manchester Utd</td>\n      <td>Y</td>\n      <td>NaN</td>\n      <td>64</td>\n      <td>0</td>\n      <td>...</td>\n      <td>NaN</td>\n      <td>NaN</td>\n      <td>NaN</td>\n      <td>NaN</td>\n      <td>NaN</td>\n      <td>NaN</td>\n      <td>NaN</td>\n      <td>NaN</td>\n      <td>NaN</td>\n      <td>NaN</td>\n    </tr>\n    <tr>\n      <th>1</th>\n      <td>2013-10-02</td>\n      <td>Group stage</td>\n      <td>Home</td>\n      <td>W 2–1</td>\n      <td>Leverkusen</td>\n      <td>Real Sociedad</td>\n      <td>Y</td>\n      <td>NaN</td>\n      <td>68</td>\n      <td>0</td>\n      <td>...</td>\n      <td>NaN</td>\n      <td>NaN</td>\n      <td>NaN</td>\n      <td>NaN</td>\n      <td>NaN</td>\n      <td>NaN</td>\n      <td>NaN</td>\n      <td>NaN</td>\n      <td>NaN</td>\n      <td>NaN</td>\n    </tr>\n    <tr>\n      <th>2</th>\n      <td>2013-10-23</td>\n      <td>Group stage</td>\n      <td>Home</td>\n      <td>W 4–0</td>\n      <td>Leverkusen</td>\n      <td>Shakhtar</td>\n      <td>Y</td>\n      <td>NaN</td>\n      <td>71</td>\n      <td>0</td>\n      <td>...</td>\n      <td>NaN</td>\n      <td>NaN</td>\n      <td>NaN</td>\n      <td>NaN</td>\n      <td>NaN</td>\n      <td>NaN</td>\n      <td>NaN</td>\n      <td>NaN</td>\n      <td>NaN</td>\n      <td>NaN</td>\n    </tr>\n    <tr>\n      <th>3</th>\n      <td>2013-11-05</td>\n      <td>Group stage</td>\n      <td>Away</td>\n      <td>D 0–0</td>\n      <td>Leverkusen</td>\n      <td>Shakhtar</td>\n      <td>Y</td>\n      <td>NaN</td>\n      <td>77</td>\n      <td>0</td>\n      <td>...</td>\n      <td>NaN</td>\n      <td>NaN</td>\n      <td>NaN</td>\n      <td>NaN</td>\n      <td>NaN</td>\n      <td>NaN</td>\n      <td>NaN</td>\n      <td>NaN</td>\n      <td>NaN</td>\n      <td>NaN</td>\n    </tr>\n    <tr>\n      <th>4</th>\n      <td>2013-11-27</td>\n      <td>Group stage</td>\n      <td>Home</td>\n      <td>L 0–5</td>\n      <td>Leverkusen</td>\n      <td>Manchester Utd</td>\n      <td>Y</td>\n      <td>NaN</td>\n      <td>70</td>\n      <td>0</td>\n      <td>...</td>\n      <td>NaN</td>\n      <td>NaN</td>\n      <td>NaN</td>\n      <td>NaN</td>\n      <td>NaN</td>\n      <td>NaN</td>\n      <td>NaN</td>\n      <td>NaN</td>\n      <td>NaN</td>\n      <td>NaN</td>\n    </tr>\n    <tr>\n      <th>5</th>\n      <td>2013-12-10</td>\n      <td>Group stage</td>\n      <td>Away</td>\n      <td>W 1–0</td>\n      <td>Leverkusen</td>\n      <td>Real Sociedad</td>\n      <td>Y</td>\n      <td>NaN</td>\n      <td>90</td>\n      <td>0</td>\n      <td>...</td>\n      <td>NaN</td>\n      <td>NaN</td>\n      <td>NaN</td>\n      <td>NaN</td>\n      <td>NaN</td>\n      <td>NaN</td>\n      <td>NaN</td>\n      <td>NaN</td>\n      <td>NaN</td>\n      <td>NaN</td>\n    </tr>\n    <tr>\n      <th>6</th>\n      <td>2014-02-18</td>\n      <td>Round of 16</td>\n      <td>Home</td>\n      <td>L 0–4</td>\n      <td>Leverkusen</td>\n      <td>Paris S-G</td>\n      <td>Y</td>\n      <td>NaN</td>\n      <td>46</td>\n      <td>0</td>\n      <td>...</td>\n      <td>NaN</td>\n      <td>NaN</td>\n      <td>NaN</td>\n      <td>NaN</td>\n      <td>NaN</td>\n      <td>NaN</td>\n      <td>NaN</td>\n      <td>NaN</td>\n      <td>NaN</td>\n      <td>NaN</td>\n    </tr>\n    <tr>\n      <th>7</th>\n      <td>2014-03-12</td>\n      <td>Round of 16</td>\n      <td>Away</td>\n      <td>L 1–2</td>\n      <td>Leverkusen</td>\n      <td>Paris S-G</td>\n      <td>N</td>\n      <td>NaN</td>\n      <td>23</td>\n      <td>0</td>\n      <td>...</td>\n      <td>NaN</td>\n      <td>NaN</td>\n      <td>NaN</td>\n      <td>NaN</td>\n      <td>NaN</td>\n      <td>NaN</td>\n      <td>NaN</td>\n      <td>NaN</td>\n      <td>NaN</td>\n      <td>NaN</td>\n    </tr>\n    <tr>\n      <th>8</th>\n      <td>2014-08-19</td>\n      <td>Play-off Round</td>\n      <td>Away</td>\n      <td>W 3–2</td>\n      <td>Leverkusen</td>\n      <td>dk FC Copenhagen</td>\n      <td>Y</td>\n      <td>NaN</td>\n      <td>90</td>\n      <td>1</td>\n      <td>...</td>\n      <td>NaN</td>\n      <td>NaN</td>\n      <td>NaN</td>\n      <td>NaN</td>\n      <td>NaN</td>\n      <td>NaN</td>\n      <td>NaN</td>\n      <td>NaN</td>\n      <td>NaN</td>\n      <td>NaN</td>\n    </tr>\n    <tr>\n      <th>9</th>\n      <td>2014-08-27</td>\n      <td>Play-off Round</td>\n      <td>Home</td>\n      <td>W 4–0</td>\n      <td>Leverkusen</td>\n      <td>FC Copenhagen</td>\n      <td>Y</td>\n      <td>NaN</td>\n      <td>90</td>\n      <td>1</td>\n      <td>...</td>\n      <td>NaN</td>\n      <td>NaN</td>\n      <td>NaN</td>\n      <td>NaN</td>\n      <td>NaN</td>\n      <td>NaN</td>\n      <td>NaN</td>\n      <td>NaN</td>\n      <td>NaN</td>\n      <td>NaN</td>\n    </tr>\n    <tr>\n      <th>10</th>\n      <td>2014-09-16</td>\n      <td>Group stage</td>\n      <td>Away</td>\n      <td>L 0–1</td>\n      <td>Leverkusen</td>\n      <td>Monaco</td>\n      <td>Y</td>\n      <td>NaN</td>\n      <td>90</td>\n      <td>0</td>\n      <td>...</td>\n      <td>NaN</td>\n      <td>NaN</td>\n      <td>NaN</td>\n      <td>NaN</td>\n      <td>NaN</td>\n      <td>NaN</td>\n      <td>NaN</td>\n      <td>NaN</td>\n      <td>NaN</td>\n      <td>NaN</td>\n    </tr>\n    <tr>\n      <th>11</th>\n      <td>2014-10-01</td>\n      <td>Group stage</td>\n      <td>Home</td>\n      <td>W 3–1</td>\n      <td>Leverkusen</td>\n      <td>Benfica</td>\n      <td>Y</td>\n      <td>NaN</td>\n      <td>90</td>\n      <td>1</td>\n      <td>...</td>\n      <td>NaN</td>\n      <td>NaN</td>\n      <td>NaN</td>\n      <td>NaN</td>\n      <td>NaN</td>\n      <td>NaN</td>\n      <td>NaN</td>\n      <td>NaN</td>\n      <td>NaN</td>\n      <td>NaN</td>\n    </tr>\n    <tr>\n      <th>12</th>\n      <td>2014-10-22</td>\n      <td>Group stage</td>\n      <td>Home</td>\n      <td>W 2–0</td>\n      <td>Leverkusen</td>\n      <td>Zenit</td>\n      <td>Y</td>\n      <td>NaN</td>\n      <td>90</td>\n      <td>0</td>\n      <td>...</td>\n      <td>NaN</td>\n      <td>NaN</td>\n      <td>NaN</td>\n      <td>NaN</td>\n      <td>NaN</td>\n      <td>NaN</td>\n      <td>NaN</td>\n      <td>NaN</td>\n      <td>NaN</td>\n      <td>NaN</td>\n    </tr>\n    <tr>\n      <th>13</th>\n      <td>2014-11-04</td>\n      <td>Group stage</td>\n      <td>Away</td>\n      <td>W 2–1</td>\n      <td>Leverkusen</td>\n      <td>Zenit</td>\n      <td>Y</td>\n      <td>NaN</td>\n      <td>90</td>\n      <td>2</td>\n      <td>...</td>\n      <td>NaN</td>\n      <td>NaN</td>\n      <td>NaN</td>\n      <td>NaN</td>\n      <td>NaN</td>\n      <td>NaN</td>\n      <td>NaN</td>\n      <td>NaN</td>\n      <td>NaN</td>\n      <td>NaN</td>\n    </tr>\n    <tr>\n      <th>14</th>\n      <td>2014-11-26</td>\n      <td>Group stage</td>\n      <td>Home</td>\n      <td>L 0–1</td>\n      <td>Leverkusen</td>\n      <td>Monaco</td>\n      <td>Y</td>\n      <td>NaN</td>\n      <td>59</td>\n      <td>0</td>\n      <td>...</td>\n      <td>NaN</td>\n      <td>NaN</td>\n      <td>NaN</td>\n      <td>NaN</td>\n      <td>NaN</td>\n      <td>NaN</td>\n      <td>NaN</td>\n      <td>NaN</td>\n      <td>NaN</td>\n      <td>NaN</td>\n    </tr>\n    <tr>\n      <th>15</th>\n      <td>2014-12-09</td>\n      <td>Group stage</td>\n      <td>Away</td>\n      <td>D 0–0</td>\n      <td>Leverkusen</td>\n      <td>Benfica</td>\n      <td>N</td>\n      <td>NaN</td>\n      <td>19</td>\n      <td>0</td>\n      <td>...</td>\n      <td>NaN</td>\n      <td>NaN</td>\n      <td>NaN</td>\n      <td>NaN</td>\n      <td>NaN</td>\n      <td>NaN</td>\n      <td>NaN</td>\n      <td>NaN</td>\n      <td>NaN</td>\n      <td>NaN</td>\n    </tr>\n    <tr>\n      <th>16</th>\n      <td>2015-02-25</td>\n      <td>Round of 16</td>\n      <td>Home</td>\n      <td>W 1–0</td>\n      <td>Leverkusen</td>\n      <td>Atlético Madrid</td>\n      <td>Y</td>\n      <td>NaN</td>\n      <td>90</td>\n      <td>0</td>\n      <td>...</td>\n      <td>NaN</td>\n      <td>NaN</td>\n      <td>NaN</td>\n      <td>NaN</td>\n      <td>NaN</td>\n      <td>NaN</td>\n      <td>NaN</td>\n      <td>NaN</td>\n      <td>NaN</td>\n      <td>NaN</td>\n    </tr>\n    <tr>\n      <th>17</th>\n      <td>2015-03-17</td>\n      <td>Round of 16</td>\n      <td>Away</td>\n      <td>L 0 (2)–1 (3)</td>\n      <td>Leverkusen</td>\n      <td>Atlético Madrid</td>\n      <td>Y</td>\n      <td>NaN</td>\n      <td>77</td>\n      <td>0</td>\n      <td>...</td>\n      <td>NaN</td>\n      <td>NaN</td>\n      <td>NaN</td>\n      <td>NaN</td>\n      <td>NaN</td>\n      <td>NaN</td>\n      <td>NaN</td>\n      <td>NaN</td>\n      <td>NaN</td>\n      <td>NaN</td>\n    </tr>\n    <tr>\n      <th>18</th>\n      <td>2016-09-14</td>\n      <td>Group stage</td>\n      <td>Home</td>\n      <td>L 1–2</td>\n      <td>Tottenham</td>\n      <td>Monaco</td>\n      <td>Y</td>\n      <td>AM</td>\n      <td>45</td>\n      <td>0</td>\n      <td>...</td>\n      <td>NaN</td>\n      <td>NaN</td>\n      <td>NaN</td>\n      <td>NaN</td>\n      <td>NaN</td>\n      <td>NaN</td>\n      <td>NaN</td>\n      <td>NaN</td>\n      <td>NaN</td>\n      <td>NaN</td>\n    </tr>\n    <tr>\n      <th>19</th>\n      <td>2016-09-27</td>\n      <td>Group stage</td>\n      <td>Away</td>\n      <td>W 1–0</td>\n      <td>Tottenham</td>\n      <td>CSKA Moscow</td>\n      <td>Y</td>\n      <td>AM</td>\n      <td>90</td>\n      <td>1</td>\n      <td>...</td>\n      <td>NaN</td>\n      <td>NaN</td>\n      <td>NaN</td>\n      <td>NaN</td>\n      <td>NaN</td>\n      <td>NaN</td>\n      <td>NaN</td>\n      <td>NaN</td>\n      <td>NaN</td>\n      <td>NaN</td>\n    </tr>\n    <tr>\n      <th>20</th>\n      <td>2016-10-18</td>\n      <td>Group stage</td>\n      <td>Away</td>\n      <td>D 0–0</td>\n      <td>Tottenham</td>\n      <td>Leverkusen</td>\n      <td>Y</td>\n      <td>AM</td>\n      <td>90</td>\n      <td>0</td>\n      <td>...</td>\n      <td>NaN</td>\n      <td>NaN</td>\n      <td>NaN</td>\n      <td>NaN</td>\n      <td>NaN</td>\n      <td>NaN</td>\n      <td>NaN</td>\n      <td>NaN</td>\n      <td>NaN</td>\n      <td>NaN</td>\n    </tr>\n    <tr>\n      <th>21</th>\n      <td>2016-11-02</td>\n      <td>Group stage</td>\n      <td>Home</td>\n      <td>L 0–1</td>\n      <td>Tottenham</td>\n      <td>Leverkusen</td>\n      <td>Y</td>\n      <td>FW</td>\n      <td>73</td>\n      <td>0</td>\n      <td>...</td>\n      <td>NaN</td>\n      <td>NaN</td>\n      <td>NaN</td>\n      <td>NaN</td>\n      <td>NaN</td>\n      <td>NaN</td>\n      <td>NaN</td>\n      <td>NaN</td>\n      <td>NaN</td>\n      <td>NaN</td>\n    </tr>\n    <tr>\n      <th>22</th>\n      <td>2016-11-22</td>\n      <td>Group stage</td>\n      <td>Away</td>\n      <td>L 1–2</td>\n      <td>Tottenham</td>\n      <td>Monaco</td>\n      <td>Y</td>\n      <td>DM</td>\n      <td>65</td>\n      <td>0</td>\n      <td>...</td>\n      <td>NaN</td>\n      <td>NaN</td>\n      <td>NaN</td>\n      <td>NaN</td>\n      <td>NaN</td>\n      <td>NaN</td>\n      <td>NaN</td>\n      <td>NaN</td>\n      <td>NaN</td>\n      <td>NaN</td>\n    </tr>\n    <tr>\n      <th>23</th>\n      <td>2016-12-07</td>\n      <td>Group stage</td>\n      <td>Home</td>\n      <td>W 3–1</td>\n      <td>Tottenham</td>\n      <td>CSKA Moscow</td>\n      <td>Y</td>\n      <td>AM</td>\n      <td>61</td>\n      <td>0</td>\n      <td>...</td>\n      <td>NaN</td>\n      <td>NaN</td>\n      <td>NaN</td>\n      <td>NaN</td>\n      <td>NaN</td>\n      <td>NaN</td>\n      <td>NaN</td>\n      <td>NaN</td>\n      <td>NaN</td>\n      <td>NaN</td>\n    </tr>\n    <tr>\n      <th>24</th>\n      <td>2017-09-13</td>\n      <td>Group stage</td>\n      <td>Home</td>\n      <td>W 3–1</td>\n      <td>Tottenham</td>\n      <td>Dortmund</td>\n      <td>Y</td>\n      <td>LM</td>\n      <td>83</td>\n      <td>1</td>\n      <td>...</td>\n      <td>NaN</td>\n      <td>NaN</td>\n      <td>NaN</td>\n      <td>NaN</td>\n      <td>NaN</td>\n      <td>NaN</td>\n      <td>NaN</td>\n      <td>NaN</td>\n      <td>NaN</td>\n      <td>NaN</td>\n    </tr>\n    <tr>\n      <th>25</th>\n      <td>2017-09-26</td>\n      <td>Group stage</td>\n      <td>Away</td>\n      <td>W 3–0</td>\n      <td>Tottenham</td>\n      <td>APOEL FC</td>\n      <td>Y</td>\n      <td>FW</td>\n      <td>90</td>\n      <td>0</td>\n      <td>...</td>\n      <td>NaN</td>\n      <td>NaN</td>\n      <td>NaN</td>\n      <td>NaN</td>\n      <td>NaN</td>\n      <td>NaN</td>\n      <td>NaN</td>\n      <td>NaN</td>\n      <td>NaN</td>\n      <td>NaN</td>\n    </tr>\n    <tr>\n      <th>26</th>\n      <td>2017-10-17</td>\n      <td>Group stage</td>\n      <td>Away</td>\n      <td>D 1–1</td>\n      <td>Tottenham</td>\n      <td>Real Madrid</td>\n      <td>N</td>\n      <td>NaN</td>\n      <td>1</td>\n      <td>0</td>\n      <td>...</td>\n      <td>NaN</td>\n      <td>NaN</td>\n      <td>NaN</td>\n      <td>NaN</td>\n      <td>NaN</td>\n      <td>NaN</td>\n      <td>NaN</td>\n      <td>NaN</td>\n      <td>NaN</td>\n      <td>NaN</td>\n    </tr>\n    <tr>\n      <th>27</th>\n      <td>2017-11-01</td>\n      <td>Group stage</td>\n      <td>Home</td>\n      <td>W 3–1</td>\n      <td>Tottenham</td>\n      <td>Real Madrid</td>\n      <td>N</td>\n      <td>On m</td>\n      <td>On m</td>\n      <td>On m</td>\n      <td>...</td>\n      <td>NaN</td>\n      <td>NaN</td>\n      <td>NaN</td>\n      <td>NaN</td>\n      <td>NaN</td>\n      <td>NaN</td>\n      <td>NaN</td>\n      <td>NaN</td>\n      <td>NaN</td>\n      <td>NaN</td>\n    </tr>\n    <tr>\n      <th>28</th>\n      <td>2017-11-21</td>\n      <td>Group stage</td>\n      <td>Away</td>\n      <td>W 2–1</td>\n      <td>Tottenham</td>\n      <td>Dortmund</td>\n      <td>Y</td>\n      <td>FW</td>\n      <td>90</td>\n      <td>1</td>\n      <td>...</td>\n      <td>NaN</td>\n      <td>NaN</td>\n      <td>NaN</td>\n      <td>NaN</td>\n      <td>NaN</td>\n      <td>NaN</td>\n      <td>NaN</td>\n      <td>NaN</td>\n      <td>NaN</td>\n      <td>NaN</td>\n    </tr>\n    <tr>\n      <th>29</th>\n      <td>2017-12-06</td>\n      <td>Group stage</td>\n      <td>Home</td>\n      <td>W 3–0</td>\n      <td>Tottenham</td>\n      <td>APOEL FC</td>\n      <td>Y</td>\n      <td>RW</td>\n      <td>65</td>\n      <td>1</td>\n      <td>...</td>\n      <td>NaN</td>\n      <td>NaN</td>\n      <td>NaN</td>\n      <td>NaN</td>\n      <td>NaN</td>\n      <td>NaN</td>\n      <td>NaN</td>\n      <td>NaN</td>\n      <td>NaN</td>\n      <td>NaN</td>\n    </tr>\n    <tr>\n      <th>30</th>\n      <td>2018-02-13</td>\n      <td>Round of 16</td>\n      <td>Away</td>\n      <td>D 2–2</td>\n      <td>Tottenham</td>\n      <td>Juventus</td>\n      <td>N</td>\n      <td>NaN</td>\n      <td>7</td>\n      <td>0</td>\n      <td>...</td>\n      <td>NaN</td>\n      <td>NaN</td>\n      <td>NaN</td>\n      <td>NaN</td>\n      <td>NaN</td>\n      <td>NaN</td>\n      <td>NaN</td>\n      <td>NaN</td>\n      <td>NaN</td>\n      <td>NaN</td>\n    </tr>\n    <tr>\n      <th>31</th>\n      <td>2018-03-07</td>\n      <td>Round of 16</td>\n      <td>Home</td>\n      <td>L 1–2</td>\n      <td>Tottenham</td>\n      <td>Juventus</td>\n      <td>Y</td>\n      <td>AM</td>\n      <td>90</td>\n      <td>1</td>\n      <td>...</td>\n      <td>NaN</td>\n      <td>NaN</td>\n      <td>NaN</td>\n      <td>NaN</td>\n      <td>NaN</td>\n      <td>NaN</td>\n      <td>NaN</td>\n      <td>NaN</td>\n      <td>NaN</td>\n      <td>NaN</td>\n    </tr>\n    <tr>\n      <th>32</th>\n      <td>2018-09-18</td>\n      <td>Group stage</td>\n      <td>Away</td>\n      <td>L 1–2</td>\n      <td>Tottenham</td>\n      <td>Inter</td>\n      <td>Y</td>\n      <td>LW</td>\n      <td>63</td>\n      <td>0</td>\n      <td>...</td>\n      <td>2.0</td>\n      <td>0.0</td>\n      <td>17.0</td>\n      <td>22.0</td>\n      <td>77.3</td>\n      <td>109.0</td>\n      <td>29.0</td>\n      <td>96.0</td>\n      <td>2.0</td>\n      <td>3.0</td>\n    </tr>\n    <tr>\n      <th>33</th>\n      <td>2018-10-03</td>\n      <td>Group stage</td>\n      <td>Home</td>\n      <td>L 2–4</td>\n      <td>Tottenham</td>\n      <td>Barcelona</td>\n      <td>Y</td>\n      <td>LW</td>\n      <td>65</td>\n      <td>0</td>\n      <td>...</td>\n      <td>2.0</td>\n      <td>1.0</td>\n      <td>10.0</td>\n      <td>13.0</td>\n      <td>76.9</td>\n      <td>39.0</td>\n      <td>16.0</td>\n      <td>53.0</td>\n      <td>0.0</td>\n      <td>1.0</td>\n    </tr>\n    <tr>\n      <th>34</th>\n      <td>2018-10-24</td>\n      <td>Group stage</td>\n      <td>Away</td>\n      <td>D 2–2</td>\n      <td>Tottenham</td>\n      <td>PSV Eindhoven</td>\n      <td>Y</td>\n      <td>AM</td>\n      <td>80</td>\n      <td>0</td>\n      <td>...</td>\n      <td>4.0</td>\n      <td>1.0</td>\n      <td>31.0</td>\n      <td>38.0</td>\n      <td>81.6</td>\n      <td>97.0</td>\n      <td>50.0</td>\n      <td>291.0</td>\n      <td>2.0</td>\n      <td>4.0</td>\n    </tr>\n    <tr>\n      <th>35</th>\n      <td>2018-11-06</td>\n      <td>Group stage</td>\n      <td>Home</td>\n      <td>W 2–1</td>\n      <td>Tottenham</td>\n      <td>PSV Eindhoven</td>\n      <td>Y</td>\n      <td>LW</td>\n      <td>74</td>\n      <td>0</td>\n      <td>...</td>\n      <td>2.0</td>\n      <td>0.0</td>\n      <td>35.0</td>\n      <td>42.0</td>\n      <td>83.3</td>\n      <td>76.0</td>\n      <td>44.0</td>\n      <td>182.0</td>\n      <td>0.0</td>\n      <td>1.0</td>\n    </tr>\n    <tr>\n      <th>36</th>\n      <td>2018-11-28</td>\n      <td>Group stage</td>\n      <td>Home</td>\n      <td>W 1–0</td>\n      <td>Tottenham</td>\n      <td>Inter</td>\n      <td>N</td>\n      <td>RWLW</td>\n      <td>29</td>\n      <td>0</td>\n      <td>...</td>\n      <td>0.0</td>\n      <td>0.0</td>\n      <td>7.0</td>\n      <td>8.0</td>\n      <td>87.5</td>\n      <td>11.0</td>\n      <td>13.0</td>\n      <td>57.0</td>\n      <td>1.0</td>\n      <td>3.0</td>\n    </tr>\n    <tr>\n      <th>37</th>\n      <td>2018-12-11</td>\n      <td>Group stage</td>\n      <td>Away</td>\n      <td>D 1–1</td>\n      <td>Tottenham</td>\n      <td>Barcelona</td>\n      <td>Y</td>\n      <td>RW</td>\n      <td>70</td>\n      <td>0</td>\n      <td>...</td>\n      <td>3.0</td>\n      <td>0.0</td>\n      <td>24.0</td>\n      <td>32.0</td>\n      <td>75.0</td>\n      <td>35.0</td>\n      <td>37.0</td>\n      <td>91.0</td>\n      <td>3.0</td>\n      <td>3.0</td>\n    </tr>\n    <tr>\n      <th>38</th>\n      <td>2019-02-13</td>\n      <td>Round of 16</td>\n      <td>Home</td>\n      <td>W 3–0</td>\n      <td>Tottenham</td>\n      <td>Dortmund</td>\n      <td>Y</td>\n      <td>FW</td>\n      <td>89</td>\n      <td>1</td>\n      <td>...</td>\n      <td>4.0</td>\n      <td>0.0</td>\n      <td>18.0</td>\n      <td>21.0</td>\n      <td>85.7</td>\n      <td>61.0</td>\n      <td>28.0</td>\n      <td>38.0</td>\n      <td>0.0</td>\n      <td>2.0</td>\n    </tr>\n    <tr>\n      <th>39</th>\n      <td>2019-03-05</td>\n      <td>Round of 16</td>\n      <td>Away</td>\n      <td>W 1–0</td>\n      <td>Tottenham</td>\n      <td>Dortmund</td>\n      <td>Y</td>\n      <td>FW</td>\n      <td>70</td>\n      <td>0</td>\n      <td>...</td>\n      <td>1.0</td>\n      <td>0.0</td>\n      <td>24.0</td>\n      <td>25.0</td>\n      <td>96.0</td>\n      <td>87.0</td>\n      <td>30.0</td>\n      <td>150.0</td>\n      <td>1.0</td>\n      <td>1.0</td>\n    </tr>\n    <tr>\n      <th>40</th>\n      <td>2019-04-09</td>\n      <td>Quarter-finals</td>\n      <td>Home</td>\n      <td>W 1–0</td>\n      <td>Tottenham</td>\n      <td>Manchester City</td>\n      <td>Y</td>\n      <td>LWRW</td>\n      <td>90</td>\n      <td>1</td>\n      <td>...</td>\n      <td>2.0</td>\n      <td>1.0</td>\n      <td>16.0</td>\n      <td>18.0</td>\n      <td>88.9</td>\n      <td>83.0</td>\n      <td>26.0</td>\n      <td>109.0</td>\n      <td>1.0</td>\n      <td>2.0</td>\n    </tr>\n    <tr>\n      <th>41</th>\n      <td>2019-04-17</td>\n      <td>Quarter-finals</td>\n      <td>Away</td>\n      <td>L 3–4</td>\n      <td>Tottenham</td>\n      <td>Manchester City</td>\n      <td>Y</td>\n      <td>LWFWRM</td>\n      <td>90</td>\n      <td>2</td>\n      <td>...</td>\n      <td>2.0</td>\n      <td>1.0</td>\n      <td>15.0</td>\n      <td>20.0</td>\n      <td>75.0</td>\n      <td>38.0</td>\n      <td>28.0</td>\n      <td>168.0</td>\n      <td>0.0</td>\n      <td>0.0</td>\n    </tr>\n    <tr>\n      <th>42</th>\n      <td>2019-05-08</td>\n      <td>Semi-finals</td>\n      <td>Away</td>\n      <td>W 3–2</td>\n      <td>Tottenham</td>\n      <td>Ajax</td>\n      <td>Y</td>\n      <td>LW</td>\n      <td>90</td>\n      <td>0</td>\n      <td>...</td>\n      <td>9.0</td>\n      <td>0.0</td>\n      <td>26.0</td>\n      <td>29.0</td>\n      <td>89.7</td>\n      <td>60.0</td>\n      <td>52.0</td>\n      <td>235.0</td>\n      <td>10.0</td>\n      <td>13.0</td>\n    </tr>\n    <tr>\n      <th>43</th>\n      <td>2019-06-01</td>\n      <td>Final</td>\n      <td>Home</td>\n      <td>L 0–2</td>\n      <td>Tottenham</td>\n      <td>Liverpool</td>\n      <td>Y</td>\n      <td>LWFWLM</td>\n      <td>90</td>\n      <td>0</td>\n      <td>...</td>\n      <td>4.0</td>\n      <td>0.0</td>\n      <td>18.0</td>\n      <td>26.0</td>\n      <td>69.2</td>\n      <td>38.0</td>\n      <td>29.0</td>\n      <td>229.0</td>\n      <td>1.0</td>\n      <td>4.0</td>\n    </tr>\n    <tr>\n      <th>44</th>\n      <td>2019-09-18</td>\n      <td>Group stage</td>\n      <td>Away</td>\n      <td>D 2–2</td>\n      <td>Tottenham</td>\n      <td>Olympiacos</td>\n      <td>N</td>\n      <td>LW</td>\n      <td>18</td>\n      <td>0</td>\n      <td>...</td>\n      <td>0.0</td>\n      <td>0.0</td>\n      <td>5.0</td>\n      <td>8.0</td>\n      <td>62.5</td>\n      <td>4.0</td>\n      <td>7.0</td>\n      <td>33.0</td>\n      <td>1.0</td>\n      <td>1.0</td>\n    </tr>\n    <tr>\n      <th>45</th>\n      <td>2019-10-01</td>\n      <td>Group stage</td>\n      <td>Home</td>\n      <td>L 2–7</td>\n      <td>Tottenham</td>\n      <td>Bayern Munich</td>\n      <td>Y</td>\n      <td>FWRWLM</td>\n      <td>90</td>\n      <td>1</td>\n      <td>...</td>\n      <td>4.0</td>\n      <td>0.0</td>\n      <td>18.0</td>\n      <td>25.0</td>\n      <td>72.0</td>\n      <td>47.0</td>\n      <td>25.0</td>\n      <td>175.0</td>\n      <td>3.0</td>\n      <td>5.0</td>\n    </tr>\n    <tr>\n      <th>46</th>\n      <td>2019-10-22</td>\n      <td>Group stage</td>\n      <td>Home</td>\n      <td>W 5–0</td>\n      <td>Tottenham</td>\n      <td>Red Star</td>\n      <td>Y</td>\n      <td>LW</td>\n      <td>67</td>\n      <td>2</td>\n      <td>...</td>\n      <td>6.0</td>\n      <td>0.0</td>\n      <td>32.0</td>\n      <td>39.0</td>\n      <td>82.1</td>\n      <td>189.0</td>\n      <td>42.0</td>\n      <td>303.0</td>\n      <td>6.0</td>\n      <td>7.0</td>\n    </tr>\n    <tr>\n      <th>47</th>\n      <td>2019-11-06</td>\n      <td>Group stage</td>\n      <td>Away</td>\n      <td>W 4–0</td>\n      <td>Tottenham</td>\n      <td>Red Star</td>\n      <td>Y</td>\n      <td>LW</td>\n      <td>74</td>\n      <td>2</td>\n      <td>...</td>\n      <td>2.0</td>\n      <td>1.0</td>\n      <td>29.0</td>\n      <td>34.0</td>\n      <td>85.3</td>\n      <td>74.0</td>\n      <td>42.0</td>\n      <td>142.0</td>\n      <td>5.0</td>\n      <td>7.0</td>\n    </tr>\n    <tr>\n      <th>48</th>\n      <td>2019-11-26</td>\n      <td>Group stage</td>\n      <td>Home</td>\n      <td>W 4–2</td>\n      <td>Tottenham</td>\n      <td>Olympiacos</td>\n      <td>Y</td>\n      <td>LW</td>\n      <td>90</td>\n      <td>0</td>\n      <td>...</td>\n      <td>2.0</td>\n      <td>1.0</td>\n      <td>22.0</td>\n      <td>26.0</td>\n      <td>84.6</td>\n      <td>67.0</td>\n      <td>29.0</td>\n      <td>145.0</td>\n      <td>1.0</td>\n      <td>7.0</td>\n    </tr>\n    <tr>\n      <th>49</th>\n      <td>2019-12-11</td>\n      <td>Group stage</td>\n      <td>Away</td>\n      <td>L 1–3</td>\n      <td>Tottenham</td>\n      <td>Bayern Munich</td>\n      <td>N</td>\n      <td>FW</td>\n      <td>26</td>\n      <td>0</td>\n      <td>...</td>\n      <td>0.0</td>\n      <td>0.0</td>\n      <td>3.0</td>\n      <td>5.0</td>\n      <td>60.0</td>\n      <td>0.0</td>\n      <td>9.0</td>\n      <td>32.0</td>\n      <td>2.0</td>\n      <td>2.0</td>\n    </tr>\n  </tbody>\n</table>\n<p>50 rows × 43 columns</p>\n</div>"
     },
     "metadata": {},
     "execution_count": 7
    }
   ],
   "source": [
    "df_season"
   ]
  },
  {
   "cell_type": "code",
   "execution_count": null,
   "metadata": {},
   "outputs": [],
   "source": []
  }
 ]
}