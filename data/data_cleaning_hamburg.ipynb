{
 "metadata": {
  "language_info": {
   "codemirror_mode": {
    "name": "ipython",
    "version": 3
   },
   "file_extension": ".py",
   "mimetype": "text/x-python",
   "name": "python",
   "nbconvert_exporter": "python",
   "pygments_lexer": "ipython3",
   "version": "3.9.0-final"
  },
  "orig_nbformat": 2,
  "kernelspec": {
   "name": "python3",
   "display_name": "Python 3.9.0 64-bit",
   "metadata": {
    "interpreter": {
     "hash": "6f63aac4862f49defdc0ab97c706aeed6401f5109f2f5eb8ddfd96c2030351e5"
    }
   }
  }
 },
 "nbformat": 4,
 "nbformat_minor": 2,
 "cells": [
  {
   "source": [
    "## Imports"
   ],
   "cell_type": "markdown",
   "metadata": {}
  },
  {
   "cell_type": "code",
   "execution_count": null,
   "metadata": {},
   "outputs": [],
   "source": [
    "import pandas as pd\n",
    "import re\n",
    "import os"
   ]
  },
  {
   "source": [
    "## Store the league data for Hambourg in dataframes"
   ],
   "cell_type": "markdown",
   "metadata": {}
  },
  {
   "cell_type": "code",
   "execution_count": null,
   "metadata": {},
   "outputs": [],
   "source": [
    "df_hamburg_2010 = pd.read_csv(\"club/2010-2011/Son_data_champ_matchs_details_2010-2011.csv\")"
   ]
  },
  {
   "cell_type": "code",
   "execution_count": null,
   "metadata": {},
   "outputs": [],
   "source": [
    "df_hamburg_2011 = pd.read_csv(\"club/2011-2012/Son_data_champ_matchs_details_2011-2012.csv\", encoding='cp1252')"
   ]
  },
  {
   "cell_type": "code",
   "execution_count": null,
   "metadata": {},
   "outputs": [],
   "source": [
    "df_hamburg_2012 = pd.read_csv(\"club/2012-2013/Son_data_champ_matchs_details_2012-2013.csv\")"
   ]
  },
  {
   "source": [
    "### Create a column to store the result of Son's team"
   ],
   "cell_type": "markdown",
   "metadata": {}
  },
  {
   "cell_type": "code",
   "execution_count": null,
   "metadata": {},
   "outputs": [],
   "source": [
    "df_hamburg_2010['SonTeamResult'] = 0\n",
    "for row in df_hamburg_2010.index :\n",
    "    df_hamburg_2010['SonTeamResult'][row] =df_hamburg_2010['Result'][row].split()[0]"
   ]
  },
  {
   "cell_type": "code",
   "execution_count": null,
   "metadata": {},
   "outputs": [],
   "source": [
    "df_hamburg_2011['SonTeamResult'] = 0\n",
    "for row in df_hamburg_2011.index :\n",
    "    df_hamburg_2011['SonTeamResult'][row] = df_hamburg_2011['Result'][row].split()[0]"
   ]
  },
  {
   "cell_type": "code",
   "execution_count": null,
   "metadata": {},
   "outputs": [],
   "source": [
    "df_hamburg_2012['SonTeamResult'] = 0\n",
    "for row in df_hamburg_2012.index :\n",
    "    df_hamburg_2012['SonTeamResult'][row] = df_hamburg_2012['Result'][row].split()[0]"
   ]
  },
  {
   "source": [
    "### Create numerical column based on the result (3 for a W, 1 for a D, 0 for a L)"
   ],
   "cell_type": "markdown",
   "metadata": {}
  },
  {
   "cell_type": "code",
   "execution_count": null,
   "metadata": {},
   "outputs": [],
   "source": [
    "df_hamburg_2010['Points_won'] = df_hamburg_2010['SonTeamResult'].apply(lambda x : 0 if x == \"L\" else (1 if x == \"D\" else 3))"
   ]
  },
  {
   "cell_type": "code",
   "execution_count": null,
   "metadata": {},
   "outputs": [],
   "source": [
    "df_hamburg_2011['Points_won'] = df_hamburg_2011['SonTeamResult'].apply(lambda x : 0 if x == \"L\" else (1 if x == \"D\" else 3))"
   ]
  },
  {
   "cell_type": "code",
   "execution_count": null,
   "metadata": {},
   "outputs": [],
   "source": [
    "df_hamburg_2012['Points_won'] = df_hamburg_2012['SonTeamResult'].apply(lambda x : 0 if x == \"L\" else (1 if x == \"D\" else 3))"
   ]
  },
  {
   "source": [
    "### Create columns to store Son's team score and opponent team's score"
   ],
   "cell_type": "markdown",
   "metadata": {}
  },
  {
   "cell_type": "code",
   "execution_count": null,
   "metadata": {},
   "outputs": [],
   "source": [
    "df_hamburg_2010['SonTeamScore'] = 0\n",
    "df_hamburg_2010['OpponentTeamScore'] = 0\n",
    "for row in df_hamburg_2010.index :\n",
    "    df_hamburg_2010['SonTeamScore'][row] = df_hamburg_2010['Result'][row].split()[1][0]\n",
    "    df_hamburg_2010['OpponentTeamScore'][row] = df_hamburg_2010['Result'][row].split()[1][2]"
   ]
  },
  {
   "cell_type": "code",
   "execution_count": null,
   "metadata": {},
   "outputs": [],
   "source": [
    "df_hamburg_2011['SonTeamScore'] = 0\n",
    "df_hamburg_2011['OpponentTeamScore'] = 0\n",
    "for row in df_hamburg_2011.index :\n",
    "    df_hamburg_2011['SonTeamScore'][row] = df_hamburg_2011['Result'][row].split()[1][0]\n",
    "    df_hamburg_2011['OpponentTeamScore'][row] = df_hamburg_2011['Result'][row].split()[1][2]"
   ]
  },
  {
   "cell_type": "code",
   "execution_count": null,
   "metadata": {},
   "outputs": [],
   "source": [
    "df_hamburg_2012['SonTeamScore'] = 0\r\n",
    "df_hamburg_2012['OpponentTeamScore'] = 0\r\n",
    "for row in df_hamburg_2010.index :\r\n",
    "    df_hamburg_2012['SonTeamScore'][row] = df_hamburg_2012['Result'][row].split()[1][0]\r\n",
    "    df_hamburg_2012['OpponentTeamScore'][row] = df_hamburg_2012['Result'][row].split()[1][2]"
   ]
  },
  {
   "source": [
    "### Change Matchweek column"
   ],
   "cell_type": "markdown",
   "metadata": {}
  },
  {
   "cell_type": "code",
   "execution_count": null,
   "metadata": {},
   "outputs": [],
   "source": [
    "for row in df_hamburg_2010.index :    \n",
    "    df_hamburg_2010['Round'][row] = df_hamburg_2010['Round'][row].replace(\"Matchweek \",\"\")"
   ]
  },
  {
   "cell_type": "code",
   "execution_count": null,
   "metadata": {},
   "outputs": [],
   "source": [
    "for row in df_hamburg_2011.index :    \n",
    "    df_hamburg_2011['Round'][row] = df_hamburg_2011['Round'][row].replace(\"Matchweek \",\"\")"
   ]
  },
  {
   "cell_type": "code",
   "execution_count": null,
   "metadata": {},
   "outputs": [],
   "source": [
    "for row in df_hamburg_2012.index :    \n",
    "    df_hamburg_2012['Round'][row] = df_hamburg_2012['Round'][row].replace(\"Matchweek \",\"\")"
   ]
  },
  {
   "source": [
    "### Change Start column to binary 1 if Yes and 0 if No"
   ],
   "cell_type": "markdown",
   "metadata": {}
  },
  {
   "cell_type": "code",
   "execution_count": null,
   "metadata": {},
   "outputs": [],
   "source": [
    "df_hamburg_2010['Start'] = df_hamburg_2010['Start'] .apply(lambda x : 1 if x == \"Y\" else 0)"
   ]
  },
  {
   "cell_type": "code",
   "execution_count": null,
   "metadata": {},
   "outputs": [],
   "source": [
    "df_hamburg_2011['Start'] = df_hamburg_2011['Start'].apply(lambda x : 1 if x == \"Y\" else 0) "
   ]
  },
  {
   "cell_type": "code",
   "execution_count": null,
   "metadata": {},
   "outputs": [],
   "source": [
    "df_hamburg_2012['Start'] = df_hamburg_2012['Start'].apply(lambda x : 1 if x == \"Y\" else 0) "
   ]
  },
  {
   "source": [
    "### Create a column home_1_away_0 to have numerical value on the venue"
   ],
   "cell_type": "markdown",
   "metadata": {}
  },
  {
   "cell_type": "code",
   "execution_count": null,
   "metadata": {},
   "outputs": [],
   "source": [
    "df_hamburg_2010['Home_1_Away_0'] = df_hamburg_2010['Venue'].apply(lambda x : 0 if x == \"Away\" else 1)"
   ]
  },
  {
   "cell_type": "code",
   "execution_count": null,
   "metadata": {},
   "outputs": [],
   "source": [
    "df_hamburg_2011['Home_1_Away_0'] = df_hamburg_2011['Venue'].apply(lambda x : 0 if x == \"Away\" else 1)"
   ]
  },
  {
   "cell_type": "code",
   "execution_count": null,
   "metadata": {},
   "outputs": [],
   "source": [
    "df_hamburg_2012['Home_1_Away_0'] = df_hamburg_2012['Venue'].apply(lambda x : 0 if x == \"Away\" else 1)\n"
   ]
  },
  {
   "source": [
    "## Replace the old csv files with new ones with new columns"
   ],
   "cell_type": "markdown",
   "metadata": {}
  },
  {
   "cell_type": "code",
   "execution_count": null,
   "metadata": {},
   "outputs": [],
   "source": [
    "df_hamburg_2010.to_csv(\"club/2010-2011/Son_data_champ_matchs_details_2010-2011.csv\", index= False)"
   ]
  },
  {
   "cell_type": "code",
   "execution_count": null,
   "metadata": {},
   "outputs": [],
   "source": [
    "df_hamburg_2011.to_csv(\"club/2011-2012/Son_data_champ_matchs_details_2011-2012.csv\", index= False)"
   ]
  },
  {
   "cell_type": "code",
   "execution_count": null,
   "metadata": {},
   "outputs": [],
   "source": [
    "df_hamburg_2012.to_csv(\"club/2012-2013/Son_data_champ_matchs_details_2012-2013.csv\", index= False)"
   ]
  },
  {
   "source": [
    "## Concatenate these dataframes to get a dataframe with all Hamburg's games and save it in a csv file"
   ],
   "cell_type": "markdown",
   "metadata": {}
  },
  {
   "cell_type": "code",
   "execution_count": null,
   "metadata": {},
   "outputs": [],
   "source": [
    "outdir = \"./club/hamburg\"\n",
    "if not os.path.exists(outdir):\n",
    "    os.mkdir(outdir)"
   ]
  },
  {
   "cell_type": "code",
   "execution_count": null,
   "metadata": {},
   "outputs": [],
   "source": [
    "df_hamburg = df_hamburg_2010.append(df_hamburg_2011)"
   ]
  },
  {
   "cell_type": "code",
   "execution_count": null,
   "metadata": {},
   "outputs": [],
   "source": [
    "df_hamburg = df_hamburg.append(df_hamburg_2012)"
   ]
  },
  {
   "cell_type": "code",
   "execution_count": null,
   "metadata": {},
   "outputs": [],
   "source": [
    "df_hamburg.to_csv(\"club/hamburg/Son_data_champ_matchs_details_hamburg.csv\", index= False)"
   ]
  },
  {
   "cell_type": "code",
   "execution_count": null,
   "metadata": {},
   "outputs": [],
   "source": []
  }
 ]
}