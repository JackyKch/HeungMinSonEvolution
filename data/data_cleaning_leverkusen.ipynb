{
 "metadata": {
  "language_info": {
   "codemirror_mode": {
    "name": "ipython",
    "version": 3
   },
   "file_extension": ".py",
   "mimetype": "text/x-python",
   "name": "python",
   "nbconvert_exporter": "python",
   "pygments_lexer": "ipython3",
   "version": "3.9.0-final"
  },
  "orig_nbformat": 2,
  "kernelspec": {
   "name": "python3",
   "display_name": "Python 3.9.0 64-bit",
   "metadata": {
    "interpreter": {
     "hash": "6f63aac4862f49defdc0ab97c706aeed6401f5109f2f5eb8ddfd96c2030351e5"
    }
   }
  }
 },
 "nbformat": 4,
 "nbformat_minor": 2,
 "cells": [
  {
   "source": [
    "## Imports"
   ],
   "cell_type": "markdown",
   "metadata": {}
  },
  {
   "cell_type": "code",
   "execution_count": null,
   "metadata": {},
   "outputs": [],
   "source": [
    "import pandas as pd\n",
    "import re\n",
    "import os"
   ]
  },
  {
   "source": [
    "## Store the league data for Leverkusen in dataframes"
   ],
   "cell_type": "markdown",
   "metadata": {}
  },
  {
   "cell_type": "code",
   "execution_count": null,
   "metadata": {},
   "outputs": [],
   "source": [
    "for i in range (3,5) :\n",
    "    globals()[\"df_leverkusen_201\" + str(i)] = pd.read_csv(f\"club/201{i}-201{i+1}/Son_data_champ_matchs_details_201{i}-201{i+1}.csv\") "
   ]
  },
  {
   "source": [
    "### Create a column to store the result of Son's team"
   ],
   "cell_type": "markdown",
   "metadata": {}
  },
  {
   "cell_type": "code",
   "execution_count": null,
   "metadata": {},
   "outputs": [],
   "source": [
    "for i in range (3,5) :\n",
    "    globals()[\"df_leverkusen_201\" + str(i)]['SonTeamResult'] = 0\n",
    "    for row in globals()[\"df_leverkusen_201\" + str(i)].index :\n",
    "        globals()[\"df_leverkusen_201\" + str(i)]['SonTeamResult'][row] = globals()[\"df_leverkusen_201\" + str(i)]['Result'][row].split()[0]"
   ]
  },
  {
   "source": [
    "### Create numerical column based on the result (3 for a W, 1 for a D, 0 for a L)"
   ],
   "cell_type": "markdown",
   "metadata": {}
  },
  {
   "cell_type": "code",
   "execution_count": null,
   "metadata": {},
   "outputs": [],
   "source": [
    "for i in range (3,5) :\n",
    "    globals()[\"df_leverkusen_201\" + str(i)]['Points_Won'] = globals()[\"df_leverkusen_201\" + str(i)]['SonTeamResult'].apply(lambda x : 0 if x == \"L\" else (1 if x == \"D\" else 3))"
   ]
  },
  {
   "source": [
    "### Create columns to store Son's team score and opponent team's score"
   ],
   "cell_type": "markdown",
   "metadata": {}
  },
  {
   "cell_type": "code",
   "execution_count": null,
   "metadata": {},
   "outputs": [],
   "source": [
    "for i in range (3,5) :\n",
    "    globals()[\"df_leverkusen_201\" + str(i)]['SonTeamScore'] = 0\n",
    "    globals()[\"df_leverkusen_201\" + str(i)]['OpponentTeamScore'] = 0\n",
    "    for row in globals()[\"df_leverkusen_201\" + str(i)].index :\n",
    "        globals()[\"df_leverkusen_201\" + str(i)]['SonTeamScore'][row] = globals()[\"df_leverkusen_201\" + str(i)]['Result'][row].split()[1][0]\n",
    "        globals()[\"df_leverkusen_201\" + str(i)]['OpponentTeamScore'][row] = globals()[\"df_leverkusen_201\" + str(i)]['Result'][row].split()[1][2]\n"
   ]
  },
  {
   "source": [
    "### Change Matchweek column to keep only number of matchweek and convert the column to int"
   ],
   "cell_type": "markdown",
   "metadata": {}
  },
  {
   "cell_type": "code",
   "execution_count": null,
   "metadata": {},
   "outputs": [],
   "source": [
    "for i in range (3,5) :\n",
    "    for row in globals()[\"df_leverkusen_201\" + str(i)].index :\n",
    "        globals()[\"df_leverkusen_201\" + str(i)]['Round'][row] = globals()[\"df_leverkusen_201\" + str(i)]['Round'][row].replace(\"Matchweek \", \"\")"
   ]
  },
  {
   "cell_type": "code",
   "execution_count": null,
   "metadata": {},
   "outputs": [],
   "source": [
    "for i in range (3,5) :\n",
    "    globals()[\"df_leverkusen_201\" + str(i)]['Round'] = pd.to_numeric(globals()[\"df_leverkusen_201\" + str(i)]['Round'])"
   ]
  },
  {
   "source": [
    "### Change Start column to binary 1 if Yes and 0 if No"
   ],
   "cell_type": "markdown",
   "metadata": {}
  },
  {
   "cell_type": "code",
   "execution_count": null,
   "metadata": {},
   "outputs": [],
   "source": [
    "for i in range(3,5) :\n",
    "    globals()[\"df_leverkusen_201\" + str(i)]['Start'] = globals()[\"df_leverkusen_201\" + str(i)]['Start'].apply(lambda x : 1 if x == \"Y\" else 0)"
   ]
  },
  {
   "source": [
    "### Create a column home_1_away_0 to have numerical value on the venue"
   ],
   "cell_type": "markdown",
   "metadata": {}
  },
  {
   "cell_type": "code",
   "execution_count": null,
   "metadata": {},
   "outputs": [],
   "source": [
    "for i in range(3,5) :\n",
    "    globals()[\"df_leverkusen_201\" + str(i)]['Home_1_Away_0'] = globals()[\"df_leverkusen_201\" + str(i)]['Venue'].apply(lambda x : 0 if x == \"Away\" else 1)"
   ]
  },
  {
   "source": [
    "## Replace the old csv files with new ones with new columns"
   ],
   "cell_type": "markdown",
   "metadata": {}
  },
  {
   "cell_type": "code",
   "execution_count": null,
   "metadata": {},
   "outputs": [],
   "source": [
    "for i in range(3,5) :\n",
    "    globals()[\"df_leverkusen_201\" + str(i)].to_csv(f\"club/201{i}-201{i+1}/Son_data_champ_matchs_details_201{i}-201{i+1}.csv\", index = False)"
   ]
  },
  {
   "source": [
    "## Concatenate these dataframes to get a dataframe with all Hamburg's games and save it in a csv file"
   ],
   "cell_type": "markdown",
   "metadata": {}
  },
  {
   "cell_type": "code",
   "execution_count": null,
   "metadata": {},
   "outputs": [],
   "source": [
    "outdir = \"./club/leverkusen\"\n",
    "if not os.path.exists(outdir):\n",
    "    os.mkdir(outdir)"
   ]
  },
  {
   "cell_type": "code",
   "execution_count": null,
   "metadata": {},
   "outputs": [],
   "source": [
    "df_leverkusen = df_leverkusen_2013.append(df_leverkusen_2014)"
   ]
  },
  {
   "source": [
    "### Drop the indexes "
   ],
   "cell_type": "markdown",
   "metadata": {}
  },
  {
   "cell_type": "code",
   "execution_count": null,
   "metadata": {},
   "outputs": [],
   "source": [
    "df_leverkusen = df_leverkusen.reset_index(drop=True)"
   ]
  },
  {
   "cell_type": "code",
   "execution_count": null,
   "metadata": {},
   "outputs": [],
   "source": [
    "df_leverkusen.to_csv(\"club/leverkusen/Son_data_champ_matchs_details_leverkusen.csv\", index= False)"
   ]
  },
  {
   "cell_type": "code",
   "execution_count": null,
   "metadata": {},
   "outputs": [],
   "source": []
  }
 ]
}