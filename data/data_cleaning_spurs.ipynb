{
 "metadata": {
  "language_info": {
   "codemirror_mode": {
    "name": "ipython",
    "version": 3
   },
   "file_extension": ".py",
   "mimetype": "text/x-python",
   "name": "python",
   "nbconvert_exporter": "python",
   "pygments_lexer": "ipython3",
   "version": "3.9.0-final"
  },
  "orig_nbformat": 2,
  "kernelspec": {
   "name": "python3",
   "display_name": "Python 3.9.0 64-bit",
   "metadata": {
    "interpreter": {
     "hash": "6f63aac4862f49defdc0ab97c706aeed6401f5109f2f5eb8ddfd96c2030351e5"
    }
   }
  }
 },
 "nbformat": 4,
 "nbformat_minor": 2,
 "cells": [
  {
   "source": [
    "## Imports"
   ],
   "cell_type": "markdown",
   "metadata": {}
  },
  {
   "cell_type": "code",
   "execution_count": 1,
   "metadata": {},
   "outputs": [],
   "source": [
    "import pandas as pd\n",
    "import re\n",
    "import os"
   ]
  },
  {
   "source": [
    "## Store the league data for Leverkusen in dataframes"
   ],
   "cell_type": "markdown",
   "metadata": {}
  },
  {
   "cell_type": "code",
   "execution_count": 2,
   "metadata": {},
   "outputs": [],
   "source": [
    "for i in range (15,20) :\n",
    "    globals()[\"df_spurs_20\" + str(i)] = pd.read_csv(f\"club/20{i}-20{i+1}/Son_data_champ_matchs_details_20{i}-20{i+1}.csv\") "
   ]
  },
  {
   "source": [
    "### Create a column to store the result of Son's team"
   ],
   "cell_type": "markdown",
   "metadata": {}
  },
  {
   "cell_type": "code",
   "execution_count": 3,
   "metadata": {},
   "outputs": [
    {
     "output_type": "stream",
     "name": "stderr",
     "text": [
      "<ipython-input-3-faf13bbf86fa>:4: SettingWithCopyWarning: \nA value is trying to be set on a copy of a slice from a DataFrame\n\nSee the caveats in the documentation: https://pandas.pydata.org/pandas-docs/stable/user_guide/indexing.html#returning-a-view-versus-a-copy\n  globals()[\"df_spurs_20\" + str(i)]['SonTeamResult'][row] = globals()[\"df_spurs_20\" + str(i)]['Result'][row].split()[0]\nC:\\Users\\jacky\\AppData\\Local\\Programs\\Python\\Python39\\lib\\site-packages\\pandas\\core\\indexing.py:670: SettingWithCopyWarning: \nA value is trying to be set on a copy of a slice from a DataFrame\n\nSee the caveats in the documentation: https://pandas.pydata.org/pandas-docs/stable/user_guide/indexing.html#returning-a-view-versus-a-copy\n  iloc._setitem_with_indexer(indexer, value)\n"
     ]
    }
   ],
   "source": [
    "for i in range (15,20) :\n",
    "    globals()[\"df_spurs_20\" + str(i)]['SonTeamResult'] = 0\n",
    "    for row in globals()[\"df_spurs_20\" + str(i)].index :\n",
    "        globals()[\"df_spurs_20\" + str(i)]['SonTeamResult'][row] = globals()[\"df_spurs_20\" + str(i)]['Result'][row].split()[0]"
   ]
  },
  {
   "source": [
    "### Create numerical column based on the result (3 for a W, 1 for a D, 0 for a L)"
   ],
   "cell_type": "markdown",
   "metadata": {}
  },
  {
   "cell_type": "code",
   "execution_count": 4,
   "metadata": {},
   "outputs": [],
   "source": [
    "for i in range (15,20) :\n",
    "    globals()[\"df_spurs_20\" + str(i)]['Points_Won'] = globals()[\"df_spurs_20\" + str(i)]['SonTeamResult'].apply(lambda x : 0 if x == \"L\" else (1 if x == \"D\" else 3))"
   ]
  },
  {
   "source": [
    "### Create columns to store Son's team score and opponent team's score"
   ],
   "cell_type": "markdown",
   "metadata": {}
  },
  {
   "cell_type": "code",
   "execution_count": 5,
   "metadata": {},
   "outputs": [
    {
     "output_type": "stream",
     "name": "stderr",
     "text": [
      "<ipython-input-5-8ebe2e2234bb>:5: SettingWithCopyWarning: \nA value is trying to be set on a copy of a slice from a DataFrame\n\nSee the caveats in the documentation: https://pandas.pydata.org/pandas-docs/stable/user_guide/indexing.html#returning-a-view-versus-a-copy\n  globals()[\"df_spurs_20\" + str(i)]['SonTeamScore'][row] = globals()[\"df_spurs_20\" + str(i)]['Result'][row].split()[1][0]\n<ipython-input-5-8ebe2e2234bb>:6: SettingWithCopyWarning: \nA value is trying to be set on a copy of a slice from a DataFrame\n\nSee the caveats in the documentation: https://pandas.pydata.org/pandas-docs/stable/user_guide/indexing.html#returning-a-view-versus-a-copy\n  globals()[\"df_spurs_20\" + str(i)]['OpponentTeamScore'][row] = globals()[\"df_spurs_20\" + str(i)]['Result'][row].split()[1][2]\n"
     ]
    }
   ],
   "source": [
    "for i in range (15,20) :\n",
    "    globals()[\"df_spurs_20\" + str(i)]['SonTeamScore'] = 0\n",
    "    globals()[\"df_spurs_20\" + str(i)]['OpponentTeamScore'] = 0\n",
    "    for row in globals()[\"df_spurs_20\" + str(i)].index :\n",
    "        globals()[\"df_spurs_20\" + str(i)]['SonTeamScore'][row] = globals()[\"df_spurs_20\" + str(i)]['Result'][row].split()[1][0]\n",
    "        globals()[\"df_spurs_20\" + str(i)]['OpponentTeamScore'][row] = globals()[\"df_spurs_20\" + str(i)]['Result'][row].split()[1][2]\n"
   ]
  },
  {
   "source": [
    "### Change Matchweek column to keep only number of matchweek and convert the column to int"
   ],
   "cell_type": "markdown",
   "metadata": {}
  },
  {
   "cell_type": "code",
   "execution_count": 6,
   "metadata": {},
   "outputs": [
    {
     "output_type": "stream",
     "name": "stderr",
     "text": [
      "<ipython-input-6-7350600c4c48>:3: SettingWithCopyWarning: \nA value is trying to be set on a copy of a slice from a DataFrame\n\nSee the caveats in the documentation: https://pandas.pydata.org/pandas-docs/stable/user_guide/indexing.html#returning-a-view-versus-a-copy\n  globals()[\"df_spurs_20\" + str(i)]['Round'][row] = globals()[\"df_spurs_20\" + str(i)]['Round'][row].replace(\"Matchweek \", \"\")\n"
     ]
    }
   ],
   "source": [
    "for i in range (15,20) :\n",
    "    for row in globals()[\"df_spurs_20\" + str(i)].index :\n",
    "        globals()[\"df_spurs_20\" + str(i)]['Round'][row] = globals()[\"df_spurs_20\" + str(i)]['Round'][row].replace(\"Matchweek \", \"\")"
   ]
  },
  {
   "cell_type": "code",
   "execution_count": 7,
   "metadata": {},
   "outputs": [],
   "source": [
    "for i in range (15,20) :\n",
    "    globals()[\"df_spurs_20\" + str(i)]['Round'] = pd.to_numeric(globals()[\"df_spurs_20\" + str(i)]['Round'])"
   ]
  },
  {
   "source": [
    "### Change Start column to binary 1 if Yes and 0 if No"
   ],
   "cell_type": "markdown",
   "metadata": {}
  },
  {
   "cell_type": "code",
   "execution_count": 8,
   "metadata": {},
   "outputs": [],
   "source": [
    "for i in range(15,20) :\n",
    "    globals()[\"df_spurs_20\" + str(i)]['Start'] = globals()[\"df_spurs_20\" + str(i)]['Start'].apply(lambda x : 1 if x == \"Y\" else 0)"
   ]
  },
  {
   "source": [
    "### Create a column home_1_away_0 to have numerical value on the venue"
   ],
   "cell_type": "markdown",
   "metadata": {}
  },
  {
   "cell_type": "code",
   "execution_count": 9,
   "metadata": {},
   "outputs": [],
   "source": [
    "for i in range(15,20) :\n",
    "    globals()[\"df_spurs_20\" + str(i)]['Home_1_Away_0'] = globals()[\"df_spurs_20\" + str(i)]['Venue'].apply(lambda x : 0 if x == \"Away\" else 1)"
   ]
  },
  {
   "source": [
    "## Replace the old csv files with new ones with new columns"
   ],
   "cell_type": "markdown",
   "metadata": {}
  },
  {
   "cell_type": "code",
   "execution_count": 10,
   "metadata": {},
   "outputs": [],
   "source": [
    "for i in range(15,20) :\n",
    "    globals()[\"df_spurs_20\" + str(i)].to_csv(f\"club/20{i}-20{i+1}/Son_data_champ_matchs_details_20{i}-20{i+1}.csv\", index = False)"
   ]
  },
  {
   "source": [
    "## Concatenate these dataframes to get a dataframe with all Hamburg's games and save it in a csv file"
   ],
   "cell_type": "markdown",
   "metadata": {}
  },
  {
   "cell_type": "code",
   "execution_count": 11,
   "metadata": {},
   "outputs": [],
   "source": [
    "outdir = \"./club/spurs\"\n",
    "if not os.path.exists(outdir):\n",
    "    os.mkdir(outdir)"
   ]
  },
  {
   "cell_type": "code",
   "execution_count": 12,
   "metadata": {},
   "outputs": [],
   "source": [
    "df_spurs = pd.DataFrame()\n",
    "for i in range (15,20) :\n",
    "    df_spurs =  df_spurs.append(globals()[\"df_spurs_20\" + str(i)])"
   ]
  },
  {
   "source": [
    "### Drop the indexes "
   ],
   "cell_type": "markdown",
   "metadata": {}
  },
  {
   "cell_type": "code",
   "execution_count": 13,
   "metadata": {},
   "outputs": [],
   "source": [
    "df_spurs = df_spurs.reset_index(drop=True)"
   ]
  },
  {
   "cell_type": "code",
   "execution_count": 14,
   "metadata": {},
   "outputs": [],
   "source": [
    "df_spurs.to_csv(\"club/spurs/Son_data_champ_matchs_details_spurs.csv\", index= False)"
   ]
  },
  {
   "cell_type": "code",
   "execution_count": null,
   "metadata": {},
   "outputs": [],
   "source": []
  }
 ]
}