{
 "metadata": {
  "language_info": {
   "codemirror_mode": {
    "name": "ipython",
    "version": 3
   },
   "file_extension": ".py",
   "mimetype": "text/x-python",
   "name": "python",
   "nbconvert_exporter": "python",
   "pygments_lexer": "ipython3",
   "version": "3.9.0-final"
  },
  "orig_nbformat": 2,
  "kernelspec": {
   "name": "python3",
   "display_name": "Python 3.9.0 64-bit",
   "metadata": {
    "interpreter": {
     "hash": "6f63aac4862f49defdc0ab97c706aeed6401f5109f2f5eb8ddfd96c2030351e5"
    }
   }
  }
 },
 "nbformat": 4,
 "nbformat_minor": 2,
 "cells": [
  {
   "source": [
    "## Imports"
   ],
   "cell_type": "markdown",
   "metadata": {}
  },
  {
   "cell_type": "code",
   "execution_count": 1,
   "metadata": {},
   "outputs": [],
   "source": [
    "import pandas as pd\n",
    "\n",
    "import re"
   ]
  },
  {
   "source": [
    "### Store the league data for Hambourg"
   ],
   "cell_type": "markdown",
   "metadata": {}
  },
  {
   "cell_type": "code",
   "execution_count": 2,
   "metadata": {},
   "outputs": [],
   "source": [
    "df_hamburg_2010 = pd.read_csv(\"club/2010-2011/Son_data_champ_matchs_details_2010-2011.csv\")"
   ]
  },
  {
   "cell_type": "code",
   "execution_count": 3,
   "metadata": {},
   "outputs": [],
   "source": [
    "df_hamburg_2011 = pd.read_csv(\"club/2011-2012/Son_data_champ_matchs_details_2011-2012.csv\", encoding='cp1252')"
   ]
  },
  {
   "cell_type": "code",
   "execution_count": 4,
   "metadata": {},
   "outputs": [],
   "source": [
    "df_hamburg_2012 = pd.read_csv(\"club/2012-2013/Son_data_champ_matchs_details_2012-2013.csv\")"
   ]
  },
  {
   "cell_type": "code",
   "execution_count": 5,
   "metadata": {},
   "outputs": [
    {
     "output_type": "execute_result",
     "data": {
      "text/plain": [
       "         Date        Comp         Round Venue Result         Squad  \\\n",
       "0  2010-10-30  Bundesliga  Matchweek 10  Away  L 2–3  Hamburger SV   \n",
       "1  2010-11-06  Bundesliga  Matchweek 11  Home  W 2–1  Hamburger SV   \n",
       "2  2010-11-12  Bundesliga  Matchweek 12  Away  L 0–2  Hamburger SV   \n",
       "3  2010-11-20  Bundesliga  Matchweek 13  Away  L 2–3  Hamburger SV   \n",
       "4  2010-11-27  Bundesliga  Matchweek 14  Home  W 4–2  Hamburger SV   \n",
       "\n",
       "      Opponent Start  Pos  Min  ...  CrdR  Fls  Fld  Off  Crs  TklW  Int  OG  \\\n",
       "0         Köln     Y  NaN   90  ...     0  NaN  NaN  NaN  NaN   NaN  NaN   0   \n",
       "1   Hoffenheim     N  NaN   16  ...     0  NaN  NaN  NaN  NaN   NaN  NaN   0   \n",
       "2     Dortmund     N  NaN   25  ...     0  NaN  NaN  NaN  NaN   NaN  NaN   0   \n",
       "3  Hannover 96     Y  NaN   90  ...     0  NaN  NaN  NaN  NaN   NaN  NaN   0   \n",
       "4    Stuttgart     Y  NaN   58  ...     0  NaN  NaN  NaN  NaN   NaN  NaN   0   \n",
       "\n",
       "   PKwon  PKcon  \n",
       "0    NaN    NaN  \n",
       "1    NaN    NaN  \n",
       "2    NaN    NaN  \n",
       "3    NaN    NaN  \n",
       "4    NaN    NaN  \n",
       "\n",
       "[5 rows x 27 columns]"
      ],
      "text/html": "<div>\n<style scoped>\n    .dataframe tbody tr th:only-of-type {\n        vertical-align: middle;\n    }\n\n    .dataframe tbody tr th {\n        vertical-align: top;\n    }\n\n    .dataframe thead th {\n        text-align: right;\n    }\n</style>\n<table border=\"1\" class=\"dataframe\">\n  <thead>\n    <tr style=\"text-align: right;\">\n      <th></th>\n      <th>Date</th>\n      <th>Comp</th>\n      <th>Round</th>\n      <th>Venue</th>\n      <th>Result</th>\n      <th>Squad</th>\n      <th>Opponent</th>\n      <th>Start</th>\n      <th>Pos</th>\n      <th>Min</th>\n      <th>...</th>\n      <th>CrdR</th>\n      <th>Fls</th>\n      <th>Fld</th>\n      <th>Off</th>\n      <th>Crs</th>\n      <th>TklW</th>\n      <th>Int</th>\n      <th>OG</th>\n      <th>PKwon</th>\n      <th>PKcon</th>\n    </tr>\n  </thead>\n  <tbody>\n    <tr>\n      <th>0</th>\n      <td>2010-10-30</td>\n      <td>Bundesliga</td>\n      <td>Matchweek 10</td>\n      <td>Away</td>\n      <td>L 2–3</td>\n      <td>Hamburger SV</td>\n      <td>Köln</td>\n      <td>Y</td>\n      <td>NaN</td>\n      <td>90</td>\n      <td>...</td>\n      <td>0</td>\n      <td>NaN</td>\n      <td>NaN</td>\n      <td>NaN</td>\n      <td>NaN</td>\n      <td>NaN</td>\n      <td>NaN</td>\n      <td>0</td>\n      <td>NaN</td>\n      <td>NaN</td>\n    </tr>\n    <tr>\n      <th>1</th>\n      <td>2010-11-06</td>\n      <td>Bundesliga</td>\n      <td>Matchweek 11</td>\n      <td>Home</td>\n      <td>W 2–1</td>\n      <td>Hamburger SV</td>\n      <td>Hoffenheim</td>\n      <td>N</td>\n      <td>NaN</td>\n      <td>16</td>\n      <td>...</td>\n      <td>0</td>\n      <td>NaN</td>\n      <td>NaN</td>\n      <td>NaN</td>\n      <td>NaN</td>\n      <td>NaN</td>\n      <td>NaN</td>\n      <td>0</td>\n      <td>NaN</td>\n      <td>NaN</td>\n    </tr>\n    <tr>\n      <th>2</th>\n      <td>2010-11-12</td>\n      <td>Bundesliga</td>\n      <td>Matchweek 12</td>\n      <td>Away</td>\n      <td>L 0–2</td>\n      <td>Hamburger SV</td>\n      <td>Dortmund</td>\n      <td>N</td>\n      <td>NaN</td>\n      <td>25</td>\n      <td>...</td>\n      <td>0</td>\n      <td>NaN</td>\n      <td>NaN</td>\n      <td>NaN</td>\n      <td>NaN</td>\n      <td>NaN</td>\n      <td>NaN</td>\n      <td>0</td>\n      <td>NaN</td>\n      <td>NaN</td>\n    </tr>\n    <tr>\n      <th>3</th>\n      <td>2010-11-20</td>\n      <td>Bundesliga</td>\n      <td>Matchweek 13</td>\n      <td>Away</td>\n      <td>L 2–3</td>\n      <td>Hamburger SV</td>\n      <td>Hannover 96</td>\n      <td>Y</td>\n      <td>NaN</td>\n      <td>90</td>\n      <td>...</td>\n      <td>0</td>\n      <td>NaN</td>\n      <td>NaN</td>\n      <td>NaN</td>\n      <td>NaN</td>\n      <td>NaN</td>\n      <td>NaN</td>\n      <td>0</td>\n      <td>NaN</td>\n      <td>NaN</td>\n    </tr>\n    <tr>\n      <th>4</th>\n      <td>2010-11-27</td>\n      <td>Bundesliga</td>\n      <td>Matchweek 14</td>\n      <td>Home</td>\n      <td>W 4–2</td>\n      <td>Hamburger SV</td>\n      <td>Stuttgart</td>\n      <td>Y</td>\n      <td>NaN</td>\n      <td>58</td>\n      <td>...</td>\n      <td>0</td>\n      <td>NaN</td>\n      <td>NaN</td>\n      <td>NaN</td>\n      <td>NaN</td>\n      <td>NaN</td>\n      <td>NaN</td>\n      <td>0</td>\n      <td>NaN</td>\n      <td>NaN</td>\n    </tr>\n  </tbody>\n</table>\n<p>5 rows × 27 columns</p>\n</div>"
     },
     "metadata": {},
     "execution_count": 5
    }
   ],
   "source": [
    "df_hamburg_2010.head()"
   ]
  },
  {
   "source": [
    "### Create a column to store the result of Son's team"
   ],
   "cell_type": "markdown",
   "metadata": {}
  },
  {
   "cell_type": "code",
   "execution_count": 6,
   "metadata": {},
   "outputs": [],
   "source": [
    "df_hamburg_2010['SonTeamResult'] = 0\n",
    "for row in df_hamburg_2010.index :\n",
    "    df_hamburg_2010['SonTeamResult'][row] =df_hamburg_2010['Result'][row].split()[0]"
   ]
  },
  {
   "cell_type": "code",
   "execution_count": 7,
   "metadata": {},
   "outputs": [],
   "source": [
    "df_hamburg_2011['SonTeamResult'] = 0\n",
    "for row in df_hamburg_2011.index :\n",
    "    df_hamburg_2011['SonTeamResult'][row] = df_hamburg_2011['Result'][row].split()[0]"
   ]
  },
  {
   "cell_type": "code",
   "execution_count": 8,
   "metadata": {},
   "outputs": [],
   "source": [
    "df_hamburg_2012['SonTeamResult'] = 0\n",
    "for row in df_hamburg_2012.index :\n",
    "    df_hamburg_2012['SonTeamResult'][row] = df_hamburg_2012['Result'][row].split()[0]"
   ]
  },
  {
   "source": [
    "### Create columns to store Son's team score and opponent team's score"
   ],
   "cell_type": "markdown",
   "metadata": {}
  },
  {
   "cell_type": "code",
   "execution_count": 9,
   "metadata": {},
   "outputs": [],
   "source": [
    "df_hamburg_2010['SonTeamScore'] = 0\n",
    "df_hamburg_2010['OpponentTeamScore'] = 0\n",
    "for row in df_hamburg_2010.index :\n",
    "    df_hamburg_2010['SonTeamScore'][row] = df_hamburg_2010['Result'][row].split()[1][0]\n",
    "    df_hamburg_2010['OpponentTeamScore'][row] = df_hamburg_2010['Result'][row].split()[1][2]"
   ]
  },
  {
   "cell_type": "code",
   "execution_count": 10,
   "metadata": {},
   "outputs": [],
   "source": [
    "df_hamburg_2011['SonTeamScore'] = 0\n",
    "df_hamburg_2011['OpponentTeamScore'] = 0\n",
    "for row in df_hamburg_2011.index :\n",
    "    df_hamburg_2011['SonTeamScore'][row] = df_hamburg_2011['Result'][row].split()[1][0]\n",
    "    df_hamburg_2011['OpponentTeamScore'][row] = df_hamburg_2011['Result'][row].split()[1][2]"
   ]
  },
  {
   "cell_type": "code",
   "execution_count": 11,
   "metadata": {},
   "outputs": [],
   "source": [
    "df_hamburg_2012['SonTeamScore'] = 0\r\n",
    "df_hamburg_2012['OpponentTeamScore'] = 0\r\n",
    "for row in df_hamburg_2010.index :\r\n",
    "    df_hamburg_2012['SonTeamScore'][row] = df_hamburg_2012['Result'][row].split()[1][0]\r\n",
    "    df_hamburg_2012['OpponentTeamScore'][row] = df_hamburg_2012['Result'][row].split()[1][2]"
   ]
  },
  {
   "source": [
    "### Change Matchweek column"
   ],
   "cell_type": "markdown",
   "metadata": {}
  },
  {
   "cell_type": "code",
   "execution_count": 12,
   "metadata": {},
   "outputs": [],
   "source": [
    "for row in df_hamburg_2010.index :    \n",
    "    df_hamburg_2010['Round'][row] = df_hamburg_2010['Round'][row].replace(\"Matchweek \",\"\")"
   ]
  },
  {
   "cell_type": "code",
   "execution_count": 13,
   "metadata": {},
   "outputs": [],
   "source": [
    "for row in df_hamburg_2011.index :    \n",
    "    df_hamburg_2011['Round'][row] = df_hamburg_2011['Round'][row].replace(\"Matchweek \",\"\")"
   ]
  },
  {
   "cell_type": "code",
   "execution_count": 14,
   "metadata": {},
   "outputs": [],
   "source": [
    "for row in df_hamburg_2012.index :    \n",
    "    df_hamburg_2012['Round'][row] = df_hamburg_2012['Round'][row].replace(\"Matchweek \",\"\")"
   ]
  },
  {
   "cell_type": "code",
   "execution_count": 17,
   "metadata": {},
   "outputs": [
    {
     "output_type": "execute_result",
     "data": {
      "text/plain": [
       "Index(['Date', 'Comp', 'Round', 'Venue', 'Result', 'Squad', 'Opponent',\n",
       "       'Start', 'Pos', 'Min', 'Gls', 'Ast', 'PK', 'PKatt', 'Sh', 'SoT', 'CrdY',\n",
       "       'CrdR', 'Fls', 'Fld', 'Off', 'Crs', 'TklW', 'Int', 'OG', 'PKwon',\n",
       "       'PKcon', 'SonTeamResult', 'SonTeamScore', 'OpponentTeamScore'],\n",
       "      dtype='object')"
      ]
     },
     "metadata": {},
     "execution_count": 17
    }
   ],
   "source": [
    "df_hamburg_2010.columns"
   ]
  },
  {
   "cell_type": "code",
   "execution_count": null,
   "metadata": {},
   "outputs": [],
   "source": [
    "df_hamburg_2010.head()"
   ]
  },
  {
   "source": [
    "### Change Start column to binary 1 if Yes and 0 if No"
   ],
   "cell_type": "markdown",
   "metadata": {}
  },
  {
   "cell_type": "code",
   "execution_count": 20,
   "metadata": {},
   "outputs": [],
   "source": [
    "df_hamburg_2010['Start'] = df_hamburg_2010['Start'] .apply(lambda x : 1 if x == \"Y\" else 0)"
   ]
  },
  {
   "cell_type": "code",
   "execution_count": 22,
   "metadata": {},
   "outputs": [],
   "source": [
    "df_hamburg_2011['Start'] = df_hamburg_2011['Start'].apply(lambda x : 1 if x == \"Y\" else 0) "
   ]
  },
  {
   "cell_type": "code",
   "execution_count": 23,
   "metadata": {},
   "outputs": [],
   "source": [
    "df_hamburg_2012['Start'] = df_hamburg_2012['Start'].apply(lambda x : 1 if x == \"Y\" else 0) "
   ]
  },
  {
   "source": [
    "### Create a column home_1_away_0 to have numerical value on the venue"
   ],
   "cell_type": "markdown",
   "metadata": {}
  },
  {
   "cell_type": "code",
   "execution_count": 25,
   "metadata": {},
   "outputs": [
    {
     "output_type": "execute_result",
     "data": {
      "text/plain": [
       "         Date        Comp Round Venue Result         Squad     Opponent  \\\n",
       "0  2010-10-30  Bundesliga    10  Away  L 2–3  Hamburger SV         Köln   \n",
       "1  2010-11-06  Bundesliga    11  Home  W 2–1  Hamburger SV   Hoffenheim   \n",
       "2  2010-11-12  Bundesliga    12  Away  L 0–2  Hamburger SV     Dortmund   \n",
       "3  2010-11-20  Bundesliga    13  Away  L 2–3  Hamburger SV  Hannover 96   \n",
       "4  2010-11-27  Bundesliga    14  Home  W 4–2  Hamburger SV    Stuttgart   \n",
       "\n",
       "   Start  Pos  Min  ...  Off  Crs  TklW  Int  OG  PKwon  PKcon  SonTeamResult  \\\n",
       "0      1  NaN   90  ...  NaN  NaN   NaN  NaN   0    NaN    NaN              L   \n",
       "1      0  NaN   16  ...  NaN  NaN   NaN  NaN   0    NaN    NaN              W   \n",
       "2      0  NaN   25  ...  NaN  NaN   NaN  NaN   0    NaN    NaN              L   \n",
       "3      1  NaN   90  ...  NaN  NaN   NaN  NaN   0    NaN    NaN              L   \n",
       "4      1  NaN   58  ...  NaN  NaN   NaN  NaN   0    NaN    NaN              W   \n",
       "\n",
       "   SonTeamScore  OpponentTeamScore  \n",
       "0             2                  3  \n",
       "1             2                  1  \n",
       "2             0                  2  \n",
       "3             2                  3  \n",
       "4             4                  2  \n",
       "\n",
       "[5 rows x 30 columns]"
      ],
      "text/html": "<div>\n<style scoped>\n    .dataframe tbody tr th:only-of-type {\n        vertical-align: middle;\n    }\n\n    .dataframe tbody tr th {\n        vertical-align: top;\n    }\n\n    .dataframe thead th {\n        text-align: right;\n    }\n</style>\n<table border=\"1\" class=\"dataframe\">\n  <thead>\n    <tr style=\"text-align: right;\">\n      <th></th>\n      <th>Date</th>\n      <th>Comp</th>\n      <th>Round</th>\n      <th>Venue</th>\n      <th>Result</th>\n      <th>Squad</th>\n      <th>Opponent</th>\n      <th>Start</th>\n      <th>Pos</th>\n      <th>Min</th>\n      <th>...</th>\n      <th>Off</th>\n      <th>Crs</th>\n      <th>TklW</th>\n      <th>Int</th>\n      <th>OG</th>\n      <th>PKwon</th>\n      <th>PKcon</th>\n      <th>SonTeamResult</th>\n      <th>SonTeamScore</th>\n      <th>OpponentTeamScore</th>\n    </tr>\n  </thead>\n  <tbody>\n    <tr>\n      <th>0</th>\n      <td>2010-10-30</td>\n      <td>Bundesliga</td>\n      <td>10</td>\n      <td>Away</td>\n      <td>L 2–3</td>\n      <td>Hamburger SV</td>\n      <td>Köln</td>\n      <td>1</td>\n      <td>NaN</td>\n      <td>90</td>\n      <td>...</td>\n      <td>NaN</td>\n      <td>NaN</td>\n      <td>NaN</td>\n      <td>NaN</td>\n      <td>0</td>\n      <td>NaN</td>\n      <td>NaN</td>\n      <td>L</td>\n      <td>2</td>\n      <td>3</td>\n    </tr>\n    <tr>\n      <th>1</th>\n      <td>2010-11-06</td>\n      <td>Bundesliga</td>\n      <td>11</td>\n      <td>Home</td>\n      <td>W 2–1</td>\n      <td>Hamburger SV</td>\n      <td>Hoffenheim</td>\n      <td>0</td>\n      <td>NaN</td>\n      <td>16</td>\n      <td>...</td>\n      <td>NaN</td>\n      <td>NaN</td>\n      <td>NaN</td>\n      <td>NaN</td>\n      <td>0</td>\n      <td>NaN</td>\n      <td>NaN</td>\n      <td>W</td>\n      <td>2</td>\n      <td>1</td>\n    </tr>\n    <tr>\n      <th>2</th>\n      <td>2010-11-12</td>\n      <td>Bundesliga</td>\n      <td>12</td>\n      <td>Away</td>\n      <td>L 0–2</td>\n      <td>Hamburger SV</td>\n      <td>Dortmund</td>\n      <td>0</td>\n      <td>NaN</td>\n      <td>25</td>\n      <td>...</td>\n      <td>NaN</td>\n      <td>NaN</td>\n      <td>NaN</td>\n      <td>NaN</td>\n      <td>0</td>\n      <td>NaN</td>\n      <td>NaN</td>\n      <td>L</td>\n      <td>0</td>\n      <td>2</td>\n    </tr>\n    <tr>\n      <th>3</th>\n      <td>2010-11-20</td>\n      <td>Bundesliga</td>\n      <td>13</td>\n      <td>Away</td>\n      <td>L 2–3</td>\n      <td>Hamburger SV</td>\n      <td>Hannover 96</td>\n      <td>1</td>\n      <td>NaN</td>\n      <td>90</td>\n      <td>...</td>\n      <td>NaN</td>\n      <td>NaN</td>\n      <td>NaN</td>\n      <td>NaN</td>\n      <td>0</td>\n      <td>NaN</td>\n      <td>NaN</td>\n      <td>L</td>\n      <td>2</td>\n      <td>3</td>\n    </tr>\n    <tr>\n      <th>4</th>\n      <td>2010-11-27</td>\n      <td>Bundesliga</td>\n      <td>14</td>\n      <td>Home</td>\n      <td>W 4–2</td>\n      <td>Hamburger SV</td>\n      <td>Stuttgart</td>\n      <td>1</td>\n      <td>NaN</td>\n      <td>58</td>\n      <td>...</td>\n      <td>NaN</td>\n      <td>NaN</td>\n      <td>NaN</td>\n      <td>NaN</td>\n      <td>0</td>\n      <td>NaN</td>\n      <td>NaN</td>\n      <td>W</td>\n      <td>4</td>\n      <td>2</td>\n    </tr>\n  </tbody>\n</table>\n<p>5 rows × 30 columns</p>\n</div>"
     },
     "metadata": {},
     "execution_count": 25
    }
   ],
   "source": [
    "df_hamburg_2010.head()"
   ]
  },
  {
   "cell_type": "code",
   "execution_count": null,
   "metadata": {},
   "outputs": [],
   "source": [
    "df_hamburg_2010['Home_1_Away_0'] = df_hamburg_2010['Venue'].apply(lambda x : 0 if x else 1)"
   ]
  }
 ]
}