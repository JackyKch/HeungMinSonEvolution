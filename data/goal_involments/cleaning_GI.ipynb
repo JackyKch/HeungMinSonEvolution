{
 "metadata": {
  "language_info": {
   "codemirror_mode": {
    "name": "ipython",
    "version": 3
   },
   "file_extension": ".py",
   "mimetype": "text/x-python",
   "name": "python",
   "nbconvert_exporter": "python",
   "pygments_lexer": "ipython3",
   "version": "3.9.0"
  },
  "orig_nbformat": 2,
  "kernelspec": {
   "name": "python390jvsc74a57bd06f63aac4862f49defdc0ab97c706aeed6401f5109f2f5eb8ddfd96c2030351e5",
   "display_name": "Python 3.9.0 64-bit"
  },
  "metadata": {
   "interpreter": {
    "hash": "6f63aac4862f49defdc0ab97c706aeed6401f5109f2f5eb8ddfd96c2030351e5"
   }
  }
 },
 "nbformat": 4,
 "nbformat_minor": 2,
 "cells": [
  {
   "source": [
    "# Clean the csv files and create goal involments column"
   ],
   "cell_type": "markdown",
   "metadata": {}
  },
  {
   "source": [
    "## Imports"
   ],
   "cell_type": "markdown",
   "metadata": {}
  },
  {
   "cell_type": "code",
   "execution_count": 1,
   "metadata": {},
   "outputs": [],
   "source": [
    "import pandas as pd \n",
    "import numpy as np"
   ]
  },
  {
   "source": [
    "## Retrieve all data"
   ],
   "cell_type": "markdown",
   "metadata": {}
  },
  {
   "cell_type": "code",
   "execution_count": 2,
   "metadata": {},
   "outputs": [
    {
     "output_type": "execute_result",
     "data": {
      "text/plain": [
       "       Season  Age  MP  Starts  Gls  Ast  Gls_CumSum  Ast_CumSum  GI_CumSum\n",
       "0   2007-2008   21  14      12    2    1           2           1          3\n",
       "1   2008-2009   22  36      35   16    5          18           6         24\n",
       "2   2009-2010   23  50      45   11   12          29          18         47\n",
       "3   2010-2011   24   7       6    1    2          30          20         50\n",
       "4   2011-2012   25  26      22    7    5          37          25         62\n",
       "5   2012-2013   26  23      21    7    6          44          31         75\n",
       "6   2013-2014   27  38      35    4    6          48          37         85\n",
       "7   2014-2015   28  30      26    6    4          54          41         95\n",
       "8   2015-2016   29  37      29    2    6          56          47        103\n",
       "9   2016-2017   30   9       2    1    0          57          47        104\n",
       "10  2017-2018   31  29      23   10    5          67          52        119\n",
       "11  2018-2019   32  18      16    7    5          74          57        131\n",
       "12  2019-2020   33  22      18    2    0          76          57        133"
      ],
      "text/html": "<div>\n<style scoped>\n    .dataframe tbody tr th:only-of-type {\n        vertical-align: middle;\n    }\n\n    .dataframe tbody tr th {\n        vertical-align: top;\n    }\n\n    .dataframe thead th {\n        text-align: right;\n    }\n</style>\n<table border=\"1\" class=\"dataframe\">\n  <thead>\n    <tr style=\"text-align: right;\">\n      <th></th>\n      <th>Season</th>\n      <th>Age</th>\n      <th>MP</th>\n      <th>Starts</th>\n      <th>Gls</th>\n      <th>Ast</th>\n      <th>Gls_CumSum</th>\n      <th>Ast_CumSum</th>\n      <th>GI_CumSum</th>\n    </tr>\n  </thead>\n  <tbody>\n    <tr>\n      <th>0</th>\n      <td>2007-2008</td>\n      <td>21</td>\n      <td>14</td>\n      <td>12</td>\n      <td>2</td>\n      <td>1</td>\n      <td>2</td>\n      <td>1</td>\n      <td>3</td>\n    </tr>\n    <tr>\n      <th>1</th>\n      <td>2008-2009</td>\n      <td>22</td>\n      <td>36</td>\n      <td>35</td>\n      <td>16</td>\n      <td>5</td>\n      <td>18</td>\n      <td>6</td>\n      <td>24</td>\n    </tr>\n    <tr>\n      <th>2</th>\n      <td>2009-2010</td>\n      <td>23</td>\n      <td>50</td>\n      <td>45</td>\n      <td>11</td>\n      <td>12</td>\n      <td>29</td>\n      <td>18</td>\n      <td>47</td>\n    </tr>\n    <tr>\n      <th>3</th>\n      <td>2010-2011</td>\n      <td>24</td>\n      <td>7</td>\n      <td>6</td>\n      <td>1</td>\n      <td>2</td>\n      <td>30</td>\n      <td>20</td>\n      <td>50</td>\n    </tr>\n    <tr>\n      <th>4</th>\n      <td>2011-2012</td>\n      <td>25</td>\n      <td>26</td>\n      <td>22</td>\n      <td>7</td>\n      <td>5</td>\n      <td>37</td>\n      <td>25</td>\n      <td>62</td>\n    </tr>\n    <tr>\n      <th>5</th>\n      <td>2012-2013</td>\n      <td>26</td>\n      <td>23</td>\n      <td>21</td>\n      <td>7</td>\n      <td>6</td>\n      <td>44</td>\n      <td>31</td>\n      <td>75</td>\n    </tr>\n    <tr>\n      <th>6</th>\n      <td>2013-2014</td>\n      <td>27</td>\n      <td>38</td>\n      <td>35</td>\n      <td>4</td>\n      <td>6</td>\n      <td>48</td>\n      <td>37</td>\n      <td>85</td>\n    </tr>\n    <tr>\n      <th>7</th>\n      <td>2014-2015</td>\n      <td>28</td>\n      <td>30</td>\n      <td>26</td>\n      <td>6</td>\n      <td>4</td>\n      <td>54</td>\n      <td>41</td>\n      <td>95</td>\n    </tr>\n    <tr>\n      <th>8</th>\n      <td>2015-2016</td>\n      <td>29</td>\n      <td>37</td>\n      <td>29</td>\n      <td>2</td>\n      <td>6</td>\n      <td>56</td>\n      <td>47</td>\n      <td>103</td>\n    </tr>\n    <tr>\n      <th>9</th>\n      <td>2016-2017</td>\n      <td>30</td>\n      <td>9</td>\n      <td>2</td>\n      <td>1</td>\n      <td>0</td>\n      <td>57</td>\n      <td>47</td>\n      <td>104</td>\n    </tr>\n    <tr>\n      <th>10</th>\n      <td>2017-2018</td>\n      <td>31</td>\n      <td>29</td>\n      <td>23</td>\n      <td>10</td>\n      <td>5</td>\n      <td>67</td>\n      <td>52</td>\n      <td>119</td>\n    </tr>\n    <tr>\n      <th>11</th>\n      <td>2018-2019</td>\n      <td>32</td>\n      <td>18</td>\n      <td>16</td>\n      <td>7</td>\n      <td>5</td>\n      <td>74</td>\n      <td>57</td>\n      <td>131</td>\n    </tr>\n    <tr>\n      <th>12</th>\n      <td>2019-2020</td>\n      <td>33</td>\n      <td>22</td>\n      <td>18</td>\n      <td>2</td>\n      <td>0</td>\n      <td>76</td>\n      <td>57</td>\n      <td>133</td>\n    </tr>\n  </tbody>\n</table>\n</div>"
     },
     "metadata": {},
     "execution_count": 2
    }
   ],
   "source": [
    "df_1 = pd.read_csv(\"honda_keisuke.csv\")\n",
    "df_1"
   ]
  },
  {
   "cell_type": "code",
   "execution_count": 3,
   "metadata": {},
   "outputs": [],
   "source": [
    "df_2 = pd.read_csv(\"kagawa_shinji.csv\")\n",
    "df_3 = pd.read_csv(\"nakamura_shunsuke.csv\")\n",
    "df_4 = pd.read_csv(\"nakata_hidetoshi.csv\")\n",
    "df_5 = pd.read_csv(\"okazaki_shinji.csv\")\n",
    "df_6 = pd.read_csv(\"park_jisung.csv\")\n",
    "df_7 = pd.read_csv(\"son_heungmin.csv\")"
   ]
  },
  {
   "source": [
    "## Create cumulative goals and assists then add them to count goal involvements"
   ],
   "cell_type": "markdown",
   "metadata": {}
  },
  {
   "cell_type": "code",
   "execution_count": 4,
   "metadata": {},
   "outputs": [],
   "source": [
    "df_1['Gls_CumSum'] = np.cumsum(df_1['Gls'])\n",
    "df_1['Ast_CumSum'] = np.cumsum(df_1['Ast'])\n",
    "df_1['GI_CumSum'] = df_1['Gls_CumSum'] + df_1['Ast_CumSum']"
   ]
  },
  {
   "cell_type": "code",
   "execution_count": 5,
   "metadata": {},
   "outputs": [],
   "source": [
    "for i in range (2,8) :\n",
    "    globals()[\"df_\" + str(i)]['Gls_CumSum'] = np.cumsum(globals()[\"df_\"+str(i)]['Gls'])\n",
    "    globals()[\"df_\" + str(i)]['Ast_CumSum'] = np.cumsum(globals()[\"df_\"+str(i)]['Ast'])\n",
    "    globals()[\"df_\" + str(i)]['GI_CumSum'] = globals()[\"df_\" + str(i)]['Gls_CumSum'] + globals()[\"df_\" + str(i)]['Ast_CumSum']"
   ]
  },
  {
   "source": [
    "### Convert Age to int"
   ],
   "cell_type": "markdown",
   "metadata": {}
  },
  {
   "cell_type": "code",
   "execution_count": 6,
   "metadata": {},
   "outputs": [],
   "source": [
    "  for i in range (2,8) :\n",
    "    globals()[\"df_\" + str(i)]['Age'] = globals()[\"df_\" + str(i)]['Age'].astype(int)"
   ]
  },
  {
   "source": [
    "## Save the newly created dataframes"
   ],
   "cell_type": "markdown",
   "metadata": {}
  },
  {
   "cell_type": "code",
   "execution_count": 7,
   "metadata": {},
   "outputs": [],
   "source": [
    "df_1.to_csv(\"honda_keisuke.csv\", index=False)\n",
    "df_2.to_csv(\"kagawa_shinji.csv\", index=False)\n",
    "df_3.to_csv(\"nakamura_shunsuke.csv\", index=False)\n",
    "df_4.to_csv(\"nakata_hidetoshi.csv\", index=False)\n",
    "df_5.to_csv(\"okazaki_shinji.csv\", index=False)\n",
    "df_6.to_csv(\"park_jisung.csv\", index=False)\n",
    "df_7.to_csv(\"son_heungmin.csv\", index=False)"
   ]
  }
 ]
}